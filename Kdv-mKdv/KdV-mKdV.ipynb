{
  "cells": [
    {
      "cell_type": "code",
      "execution_count": null,
      "metadata": {
        "colab": {
          "background_save": true,
          "base_uri": "https://localhost:8080/",
          "height": 38
        },
        "id": "jAb7dtSeedp6",
        "outputId": "dfc37b94-25a9-4bdb-e3f1-42d8b205256d"
      },
      "outputs": [
        {
          "data": {
            "text/html": [
              "\n",
              "     <input type=\"file\" id=\"files-55ba5d91-0bec-4a13-ba8e-1bf0b419e7b9\" name=\"files[]\" multiple disabled\n",
              "        style=\"border:none\" />\n",
              "     <output id=\"result-55ba5d91-0bec-4a13-ba8e-1bf0b419e7b9\">\n",
              "      Upload widget is only available when the cell has been executed in the\n",
              "      current browser session. Please rerun this cell to enable.\n",
              "      </output>\n",
              "      <script>// Copyright 2017 Google LLC\n",
              "//\n",
              "// Licensed under the Apache License, Version 2.0 (the \"License\");\n",
              "// you may not use this file except in compliance with the License.\n",
              "// You may obtain a copy of the License at\n",
              "//\n",
              "//      http://www.apache.org/licenses/LICENSE-2.0\n",
              "//\n",
              "// Unless required by applicable law or agreed to in writing, software\n",
              "// distributed under the License is distributed on an \"AS IS\" BASIS,\n",
              "// WITHOUT WARRANTIES OR CONDITIONS OF ANY KIND, either express or implied.\n",
              "// See the License for the specific language governing permissions and\n",
              "// limitations under the License.\n",
              "\n",
              "/**\n",
              " * @fileoverview Helpers for google.colab Python module.\n",
              " */\n",
              "(function(scope) {\n",
              "function span(text, styleAttributes = {}) {\n",
              "  const element = document.createElement('span');\n",
              "  element.textContent = text;\n",
              "  for (const key of Object.keys(styleAttributes)) {\n",
              "    element.style[key] = styleAttributes[key];\n",
              "  }\n",
              "  return element;\n",
              "}\n",
              "\n",
              "// Max number of bytes which will be uploaded at a time.\n",
              "const MAX_PAYLOAD_SIZE = 100 * 1024;\n",
              "\n",
              "function _uploadFiles(inputId, outputId) {\n",
              "  const steps = uploadFilesStep(inputId, outputId);\n",
              "  const outputElement = document.getElementById(outputId);\n",
              "  // Cache steps on the outputElement to make it available for the next call\n",
              "  // to uploadFilesContinue from Python.\n",
              "  outputElement.steps = steps;\n",
              "\n",
              "  return _uploadFilesContinue(outputId);\n",
              "}\n",
              "\n",
              "// This is roughly an async generator (not supported in the browser yet),\n",
              "// where there are multiple asynchronous steps and the Python side is going\n",
              "// to poll for completion of each step.\n",
              "// This uses a Promise to block the python side on completion of each step,\n",
              "// then passes the result of the previous step as the input to the next step.\n",
              "function _uploadFilesContinue(outputId) {\n",
              "  const outputElement = document.getElementById(outputId);\n",
              "  const steps = outputElement.steps;\n",
              "\n",
              "  const next = steps.next(outputElement.lastPromiseValue);\n",
              "  return Promise.resolve(next.value.promise).then((value) => {\n",
              "    // Cache the last promise value to make it available to the next\n",
              "    // step of the generator.\n",
              "    outputElement.lastPromiseValue = value;\n",
              "    return next.value.response;\n",
              "  });\n",
              "}\n",
              "\n",
              "/**\n",
              " * Generator function which is called between each async step of the upload\n",
              " * process.\n",
              " * @param {string} inputId Element ID of the input file picker element.\n",
              " * @param {string} outputId Element ID of the output display.\n",
              " * @return {!Iterable<!Object>} Iterable of next steps.\n",
              " */\n",
              "function* uploadFilesStep(inputId, outputId) {\n",
              "  const inputElement = document.getElementById(inputId);\n",
              "  inputElement.disabled = false;\n",
              "\n",
              "  const outputElement = document.getElementById(outputId);\n",
              "  outputElement.innerHTML = '';\n",
              "\n",
              "  const pickedPromise = new Promise((resolve) => {\n",
              "    inputElement.addEventListener('change', (e) => {\n",
              "      resolve(e.target.files);\n",
              "    });\n",
              "  });\n",
              "\n",
              "  const cancel = document.createElement('button');\n",
              "  inputElement.parentElement.appendChild(cancel);\n",
              "  cancel.textContent = 'Cancel upload';\n",
              "  const cancelPromise = new Promise((resolve) => {\n",
              "    cancel.onclick = () => {\n",
              "      resolve(null);\n",
              "    };\n",
              "  });\n",
              "\n",
              "  // Wait for the user to pick the files.\n",
              "  const files = yield {\n",
              "    promise: Promise.race([pickedPromise, cancelPromise]),\n",
              "    response: {\n",
              "      action: 'starting',\n",
              "    }\n",
              "  };\n",
              "\n",
              "  cancel.remove();\n",
              "\n",
              "  // Disable the input element since further picks are not allowed.\n",
              "  inputElement.disabled = true;\n",
              "\n",
              "  if (!files) {\n",
              "    return {\n",
              "      response: {\n",
              "        action: 'complete',\n",
              "      }\n",
              "    };\n",
              "  }\n",
              "\n",
              "  for (const file of files) {\n",
              "    const li = document.createElement('li');\n",
              "    li.append(span(file.name, {fontWeight: 'bold'}));\n",
              "    li.append(span(\n",
              "        `(${file.type || 'n/a'}) - ${file.size} bytes, ` +\n",
              "        `last modified: ${\n",
              "            file.lastModifiedDate ? file.lastModifiedDate.toLocaleDateString() :\n",
              "                                    'n/a'} - `));\n",
              "    const percent = span('0% done');\n",
              "    li.appendChild(percent);\n",
              "\n",
              "    outputElement.appendChild(li);\n",
              "\n",
              "    const fileDataPromise = new Promise((resolve) => {\n",
              "      const reader = new FileReader();\n",
              "      reader.onload = (e) => {\n",
              "        resolve(e.target.result);\n",
              "      };\n",
              "      reader.readAsArrayBuffer(file);\n",
              "    });\n",
              "    // Wait for the data to be ready.\n",
              "    let fileData = yield {\n",
              "      promise: fileDataPromise,\n",
              "      response: {\n",
              "        action: 'continue',\n",
              "      }\n",
              "    };\n",
              "\n",
              "    // Use a chunked sending to avoid message size limits. See b/62115660.\n",
              "    let position = 0;\n",
              "    do {\n",
              "      const length = Math.min(fileData.byteLength - position, MAX_PAYLOAD_SIZE);\n",
              "      const chunk = new Uint8Array(fileData, position, length);\n",
              "      position += length;\n",
              "\n",
              "      const base64 = btoa(String.fromCharCode.apply(null, chunk));\n",
              "      yield {\n",
              "        response: {\n",
              "          action: 'append',\n",
              "          file: file.name,\n",
              "          data: base64,\n",
              "        },\n",
              "      };\n",
              "\n",
              "      let percentDone = fileData.byteLength === 0 ?\n",
              "          100 :\n",
              "          Math.round((position / fileData.byteLength) * 100);\n",
              "      percent.textContent = `${percentDone}% done`;\n",
              "\n",
              "    } while (position < fileData.byteLength);\n",
              "  }\n",
              "\n",
              "  // All done.\n",
              "  yield {\n",
              "    response: {\n",
              "      action: 'complete',\n",
              "    }\n",
              "  };\n",
              "}\n",
              "\n",
              "scope.google = scope.google || {};\n",
              "scope.google.colab = scope.google.colab || {};\n",
              "scope.google.colab._files = {\n",
              "  _uploadFiles,\n",
              "  _uploadFilesContinue,\n",
              "};\n",
              "})(self);\n",
              "</script> "
            ],
            "text/plain": [
              "<IPython.core.display.HTML object>"
            ]
          },
          "metadata": {},
          "output_type": "display_data"
        }
      ],
      "source": [
        "'''\n",
        "Se não conseguir importar um arquivo manualmente rode esse bloco\n",
        "'''\n",
        "\n",
        "from google.colab import files\n",
        "files.upload()"
      ]
    },
    {
      "cell_type": "code",
      "execution_count": null,
      "metadata": {
        "id": "q2q3CL2S8foR"
      },
      "outputs": [],
      "source": [
        "!unzip -q model.zip"
      ]
    },
    {
      "cell_type": "markdown",
      "metadata": {
        "id": "fyxz7JVbkdQy"
      },
      "source": [
        "To ensure reproducibility while running on google colab make sure the runtime is new and no network has been trained during the runtime."
      ]
    },
    {
      "cell_type": "markdown",
      "metadata": {
        "id": "eLUcfwteHr5O"
      },
      "source": [
        "#**Core**"
      ]
    },
    {
      "cell_type": "code",
      "execution_count": null,
      "metadata": {
        "colab": {
          "base_uri": "https://localhost:8080/"
        },
        "id": "FQ8KsyEHasiz",
        "outputId": "0c3e907d-75fe-4818-8d71-f21bb8f75c11"
      },
      "outputs": [
        {
          "name": "stdout",
          "output_type": "stream",
          "text": [
            "\u001b[?25l   \u001b[90m━━━━━━━━━━━━━━━━━━━━━━━━━━━━━━━━━━━━━━━━\u001b[0m \u001b[32m0.0/184.4 kB\u001b[0m \u001b[31m?\u001b[0m eta \u001b[36m-:--:--\u001b[0m\r\u001b[2K   \u001b[90m━━━━━━━━━━━━━━━━━━━━━━━━━━━━━━━━━━━━━━━━\u001b[0m \u001b[32m184.4/184.4 kB\u001b[0m \u001b[31m9.0 MB/s\u001b[0m eta \u001b[36m0:00:00\u001b[0m\n",
            "\u001b[?25h\u001b[?25l   \u001b[90m━━━━━━━━━━━━━━━━━━━━━━━━━━━━━━━━━━━━━━━━\u001b[0m \u001b[32m0.0/107.8 kB\u001b[0m \u001b[31m?\u001b[0m eta \u001b[36m-:--:--\u001b[0m\r\u001b[2K   \u001b[90m━━━━━━━━━━━━━━━━━━━━━━━━━━━━━━━━━━━━━━━━\u001b[0m \u001b[32m107.8/107.8 kB\u001b[0m \u001b[31m5.8 MB/s\u001b[0m eta \u001b[36m0:00:00\u001b[0m\n",
            "\u001b[?25h"
          ]
        },
        {
          "name": "stderr",
          "output_type": "stream",
          "text": [
            "Using backend: tensorflow\n",
            "Other supported backends: tensorflow.compat.v1, pytorch, jax, paddle.\n",
            "paddle supports more examples now and is recommended.\n",
            "Enable just-in-time compilation with XLA.\n",
            "\n"
          ]
        }
      ],
      "source": [
        "import os\n",
        "os.environ['DDE_BACKEND'] = 'tensorflow'\n",
        "# os.environ['DDE_BACKEND'] = 'pytorch'\n",
        "\n",
        "from matplotlib.animation import FuncAnimation\n",
        "import matplotlib.animation as animation\n",
        "import matplotlib.pyplot as plt\n",
        "from matplotlib import cm\n",
        "import matplotlib as mpl\n",
        "import json\n",
        "import re\n",
        "import random\n",
        "\n",
        "\n",
        "import tensorflow as tf\n",
        "import numpy as np\n",
        "\n",
        "from scipy.integrate import quad, dblquad\n",
        "from math import sqrt\n",
        "\n",
        "\n",
        "!pip install deepxde -q\n",
        "import deepxde as dde\n",
        "import keras"
      ]
    },
    {
      "cell_type": "code",
      "execution_count": null,
      "metadata": {
        "id": "uGPskU8MbD_C"
      },
      "outputs": [],
      "source": [
        "'''\n",
        "Setting json encoder for converting numpy.integer to python's int when saving model data.\n",
        "'''\n",
        "class MyEncoder(json.JSONEncoder):\n",
        "    def default(self, obj):\n",
        "        if isinstance(obj, np.integer):\n",
        "            return int(obj)\n",
        "        # if isinstance(onj, np.ndarray):\n",
        "        #   return obj.tolist()\n",
        "        else:\n",
        "            return super(MyEncoder, self).default(obj)\n"
      ]
    },
    {
      "cell_type": "code",
      "execution_count": null,
      "metadata": {
        "id": "N-HuDLJPbkvE"
      },
      "outputs": [],
      "source": [
        "# setting seed to a fixed value\n",
        "def set_seed(seed_value = 0):\n",
        "  np.random.seed(seed_value)\n",
        "  tf.random.set_seed(seed_value)\n",
        "  random.seed(seed_value)\n",
        "  dde.config.set_random_seed(seed_value)\n",
        "\n",
        "set_seed()"
      ]
    },
    {
      "cell_type": "code",
      "execution_count": null,
      "metadata": {
        "id": "ddZXpTWdeyIX"
      },
      "outputs": [],
      "source": [
        "class PDE:\n",
        "  def __init__(self, p, net_data):\n",
        "    self.p = p\n",
        "    self.xmin, self.xmax = [-10, 1], [10, 2]\n",
        "    self.tmax = 15\n",
        "    self.net_data = net_data\n",
        "\n",
        "    self.lr=1e-3\n",
        "    self.resample = True\n",
        "    self.resample_period = 10\n",
        "    self.borda = \"exact\"\n",
        "    self.vl2relerror_xt = np.vectorize(self.l2relerror_xt)\n",
        "    self.vdde_l2relerror = np.vectorize(self.dde_l2relerror)\n",
        "    self.eps = 1e-5\n",
        "    self.error_data = {\"eps\" : self.eps}\n",
        "\n",
        "    self.test_xmin, self.test_xmax = self.xmin, self.xmax\n",
        "    self.test_tmin, self.test_tmax = 0, self.tmax\n",
        "\n",
        "\n",
        "  def set_data(self):\n",
        "    self.geom = dde.geometry.geometry_2d.Rectangle(xmin=self.xmin, xmax=self.xmax)\n",
        "    self.timeDomain = dde.geometry.TimeDomain(0, self.tmax)\n",
        "    self.geomtime = dde.geometry.GeometryXTime(self.geom, self.timeDomain)\n",
        "\n",
        "    self.ic = dde.icbc.IC(self.geomtime, self.pde_sol, lambda _, on_initial: on_initial)\n",
        "    if self.borda == 0:\n",
        "      self.bc = dde.icbc.DirichletBC(self.geomtime, lambda x: 0, self.on_boundary_X, component=0)\n",
        "    elif self.borda == \"exact\":\n",
        "      self.bc = dde.icbc.DirichletBC(self.geomtime, self.pde_sol, self.on_boundary_X)\n",
        "    if self.borda != \"off\":\n",
        "      self.data = dde.data.TimePDE(\n",
        "                          self.geomtime,\n",
        "                          self.pde,\n",
        "                          [self.bc, self.ic],\n",
        "                          num_domain = self.net_data[\"ND\"],\n",
        "                          num_boundary = self.net_data[\"Nb\"],\n",
        "                          num_initial = self.net_data[\"N0\"]\n",
        "                          )\n",
        "    else:\n",
        "      self.data = dde.data.TimePDE(\n",
        "                          self.geomtime,\n",
        "                          self.pde,\n",
        "                          [self.ic],\n",
        "                          num_domain = self.net_data[\"ND\"],\n",
        "                          num_boundary = self.net_data[\"Nb\"],\n",
        "                          num_initial = self.net_data[\"N0\"]\n",
        "                          )\n",
        "\n",
        "    self.net = dde.nn.FNN([3] + [self.net_data[\"neurons\"]] * self.net_data[\"layers\"] + [1], \"tanh\", \"zeros\")\n",
        "    for d in self.net.denses:\n",
        "        d.kernel_initializer = tf.keras.initializers.GlorotNormal()\n",
        "    self.model = dde.Model(self.data, self.net)\n",
        "\n",
        "    # domínio de previsão e cálculo de erro\n",
        "    self.x_num = int(100 + 5*(self.test_xmax[0] - self.test_xmin[0]))\n",
        "    self.x = np.linspace(self.test_xmin[0], self.test_xmax[0], self.x_num)\n",
        "\n",
        "  def on_boundary_X(self, x, on_boundary):\n",
        "    return on_boundary and (dde.utils.isclose(x[0], self.xmin[0]) or dde.utils.isclose(x[0], self.xmax[0]))\n",
        "\n",
        "\n",
        "\n",
        "  def pde(self, x, y):\n",
        "    dy_t = dde.grad.jacobian(y, x, i=0, j=2)\n",
        "    dy_x = dde.grad.jacobian(y, x, i=0, j=0)\n",
        "    dy_xxx = dde.grad.hessian(dy_x, x, i=0, j=0)\n",
        "    pde = dy_t + y**self.p * dy_x + dy_xxx\n",
        "    return pde\n",
        "\n",
        "\n",
        "  def pde_sol(self, X):\n",
        "    x_arr = X[:, 0:1]\n",
        "    a_arr = X[:, 1:2]\n",
        "    t_arr = X[:, 2:3]\n",
        "\n",
        "\n",
        "    if self.p == 1:\n",
        "      c = a_arr / 3\n",
        "      k = np.sqrt(a_arr / 12)\n",
        "      return a_arr*np.power(np.cosh(k*(x_arr - c*t_arr)), -2)\n",
        "\n",
        "    if self.p == 2:\n",
        "      c = a_arr**2 / 6\n",
        "      k = a_arr / sqrt(6)\n",
        "      return a_arr*np.power(np.cosh(k*(x_arr - c*t_arr)), -1)\n",
        "\n",
        "\n",
        "  def train(self, iterations):\n",
        "    try:\n",
        "      os.makedirs(f\"model/cpkt\")\n",
        "    except FileExistsError:\n",
        "      pass\n",
        "\n",
        "    display_every = 1_000\n",
        "    checkpointer = dde.callbacks.ModelCheckpoint(\n",
        "      f\"model/ckpt/\",\n",
        "      period=1000,\n",
        "      verbose=1,\n",
        "      save_better_only=True\n",
        "    )\n",
        "    if self.resample:\n",
        "      resampler = dde.callbacks.PDEPointResampler(period=self.resample_period)\n",
        "      return self.model.train(iterations=iterations,\n",
        "                        display_every=display_every,\n",
        "                        callbacks=[resampler])\n",
        "\n",
        "\n",
        "    return self.model.train(iterations=iterations,\n",
        "                            display_every=display_every,\n",
        "                            #model_save_path=f\"model/ckpt/\",\n",
        "                            #callbacks=[checkpointer]\n",
        "                            )\n",
        "\n",
        "  def get_arr_X(self, t, a):\n",
        "    t_array = np.full_like(self.x, t)\n",
        "    a_array = np.full_like(self.x, a)\n",
        "    X = np.stack((self.x, a_array, t_array), axis=1)\n",
        "    return X\n",
        "\n",
        "  def dde_l2relerror(self, t, a):\n",
        "    X = self.get_arr_X(t, a)\n",
        "    y_pred = self.model.predict(X)   #.reshape(self.x_num)\n",
        "    y_true = self.pde_sol(X)\n",
        "    return dde.metrics.l2_relative_error(y_true, y_pred)\n",
        "\n",
        "  def l2relerror_xt(self, a):\n",
        "    func = lambda x, t: (self.pde_sol(np.array([[x, a, t]])) - self.model.predict(np.array([[x, a, t]])))**2\n",
        "    l2_norm_diff = sqrt(dblquad(func, self.xmin[0], self.xmax[0], lambda t: 0, lambda t: self.tmax, epsabs=self.eps, epsrel=self.eps)[0])\n",
        "    l2_norm_true = sqrt(dblquad(lambda x, t: self.pde_sol(np.array([[x, a, t]]))**2, self.xmin[0], self.xmax[0], lambda t: 0, lambda t: self.tmax, epsabs=self.eps, epsrel=self.eps)[0])\n",
        "    return l2_norm_diff / l2_norm_true\n",
        "\n",
        "\n",
        "  def gif(self, a):\n",
        "    Figure = plt.figure()\n",
        "    predicted_line = plt.plot([], 'b-')[0]\n",
        "    solution_line = plt.plot([], 'r--')[0]\n",
        "    plt.xlim(self.test_xmin[0], self.test_xmax[0])\n",
        "    plt.ylim(-0.5, 2.5)\n",
        "    frames=120\n",
        "    def AnimationFunction(frame):\n",
        "        K= (self.test_tmax - self.test_tmin)/frames\n",
        "        t = self.test_tmin + K*frame\n",
        "        plt.title(f\"t={t:.2f}\")\n",
        "        X = self.get_arr_X(t=t, a=a)\n",
        "        y_pred = self.model.predict(X)\n",
        "        y_sol = self.pde_sol(X)\n",
        "        predicted_line.set_data((self.x, y_pred))\n",
        "        solution_line.set_data((self.x, y_sol))\n",
        "\n",
        "    anim_created = FuncAnimation(Figure, AnimationFunction, frames=frames, interval=25)\n",
        "    writer = animation.PillowWriter(fps=24,\n",
        "                                    metadata=dict(artist='Me'),\n",
        "                                    bitrate=1800)\n",
        "    anim_created.save(f'model/prediction__a{a}__xrange{self.test_xmin[0]}_{self.test_xmax[0]}__trange{self.test_tmin}_{self.test_tmax}.gif', writer=writer)\n",
        "    plt.close()\n",
        "\n",
        "  def dde_l2relerror_scatter(self, grid_size=100):\n",
        "    fig, ax = plt.subplots(subplot_kw={\"projection\": \"3d\"})\n",
        "    # fig.set_figheight(1.9685)\n",
        "    # fig.set_figwidth(5.1181)\n",
        "    # fig.set_dpi(96)\n",
        "    ax.cla()\n",
        "    ax.set_xlim(self.test_xmin[1], self.test_xmax[1])\n",
        "    ax.set_ylim(self.test_tmin, self.test_tmax)\n",
        "    ax.set_xlabel(\"a\")\n",
        "    ax.set_ylabel(\"t\")\n",
        "    ax.set_zlabel(\"Error\")\n",
        "    plt.title(\"L2 Relative Error\")\n",
        "\n",
        "    A = np.linspace(self.test_xmin[1], self.test_xmax[1], grid_size)\n",
        "    T = np.linspace(self.test_tmin, self.test_tmax, grid_size)\n",
        "    A, T = np.meshgrid(A, T)\n",
        "    Z = self.vdde_l2relerror(t=T, a=A)\n",
        "    dde_l2relerror_max = np.max(Z)\n",
        "    dde_l2relerror_mean = np.mean(Z)\n",
        "    self.error_data[\"dde_l2relerror_max\"] = dde_l2relerror_max\n",
        "    self.error_data[\"dde_l2relerror_mean\"] = dde_l2relerror_mean\n",
        "\n",
        "    # ax.scatter(A, T, Z, s = 5, marker = 'o', cmap=cm.inferno, c=Z)\n",
        "    surf = ax.plot_surface(A, T, Z, cmap=cm.inferno, linewidth=0, antialiased=True)\n",
        "    #norm=mpl.colors.Normalize(0, np.max(Z))\n",
        "    #np.linspace(0,np.max(Z),100)\n",
        "    fig.colorbar(surf, shrink=0.5, aspect=15, ticks=np.linspace(0,np.max(Z),10), pad=0.1, boundaries=np.linspace(0,np.max(Z),100))\n",
        "\n",
        "    plt.savefig(f\"model/dde_l2relerror_x__xrange{self.test_xmin[0]}_{self.test_xmax[0]}__trange{self.test_tmin}_{self.test_tmax}.png\")\n",
        "\n",
        "\n",
        "  def l2relerror_xt_scatter(self):\n",
        "    '''\n",
        "    L2 Norm integrating in x and t.\n",
        "    '''\n",
        "    plt.clf()\n",
        "    fig, ax = plt.subplots()\n",
        "    # fig.set_figheight(1.9685)\n",
        "    # fig.set_figwidth(5.1181)\n",
        "    # fig.set_dpi(96)\n",
        "    a = np.linspace(self.xmin[1], self.xmax[1], 50)\n",
        "    error = self.vl2relerror_xt(a)\n",
        "    self.error_data[\"l2relerror_xt_max\"] = np.max(error)\n",
        "    self.error_data[\"l2relerror_xt_mean\"] = np.mean(error)\n",
        "\n",
        "    ax.plot(a, error)\n",
        "    ax.set_xlabel(\"a\")\n",
        "    ax.set_ylabel(\"Error\")\n",
        "    plt.title(\"l2relerror_xt\")\n",
        "    plt.savefig(f\"model/l2relerror_xt.png\")\n",
        "\n",
        "\n",
        "  def restore_model(self, filename):\n",
        "    del self.model\n",
        "\n",
        "    self.model = dde.Model(self.data, self.net)\n",
        "    self.model.restore(filename)\n",
        "    self.model.compile(\"adam\", lr=self.lr)\n",
        "    self.model.predict(self.get_arr_X(a=self.xmax[1], t=self.tmax))\n",
        "    self.model.restore(filename)\n",
        "    self.model.compile(\"adam\", lr=self.lr)\n",
        "\n",
        "  def get_error_array(self):\n",
        "    '''\n",
        "    Returns an array whose length is the number of checkpoints saved in the ckpt folder\n",
        "    With columns [max_err, mean_err, ckpt]\n",
        "    '''\n",
        "    A = np.linspace(self.test_xmin[1], self.test_xmax[1], 20)\n",
        "    T = np.linspace(self.test_tmin, self.test_tmax, 20)\n",
        "    A, T = np.meshgrid(A, T)\n",
        "\n",
        "    ckptlist = set()\n",
        "    for file in os.listdir(\"model/ckpt/\"):\n",
        "      isckpt = re.search(\"\\d+\\.ckpt\", file)\n",
        "      if isckpt is not None:\n",
        "        ckptlist.add(f\"{isckpt.group(0).replace('.ckpt', '')}\")\n",
        "\n",
        "    ckptlist = list(ckptlist)\n",
        "    ckptlist = [int(ckpt) for ckpt in ckptlist]\n",
        "    ckptlist.sort() # remover essa linha depois\n",
        "\n",
        "    error_array = np.zeros((len(ckptlist), 3))\n",
        "    for i, ckpt in enumerate(ckptlist):\n",
        "      self.load_ckpt(f\"model/ckpt/-{ckpt}.ckpt\")\n",
        "      max_err = np.max(self.vdde_l2relerror(t=T, a=A))\n",
        "      mean_err = np.mean(self.vdde_l2relerror(t=T, a=A))\n",
        "      error_array[i, 0] = max_err\n",
        "      error_array[i, 1] = mean_err\n",
        "      error_array[i, 2] = ckpt\n",
        "\n",
        "    self.error_array = error_array\n",
        "    return error_array\n",
        "\n",
        "\n",
        "  def get_error_plot(self):#, start, end):\n",
        "    '''\n",
        "    Plots error by iteration\n",
        "    '''\n",
        "    fig, ax = plt.subplots()\n",
        "    ax.cla()\n",
        "    ax.set_xlabel(\"Iteration\")\n",
        "    ax.set_ylabel(\"l2relerror\")\n",
        "    ax.set_yscale(\"log\")\n",
        "    max_err = self.error_array[:, 0]\n",
        "    mean_err = self.error_array[:, 1]\n",
        "    ckpts = self.error_array[:, 2]\n",
        "    ax.scatter(ckpts, max_err, label=\"l2relerror_max\")\n",
        "    ax.scatter(ckpts, mean_err, label=\"l2relerror_mean\")\n",
        "    ax.legend()\n",
        "    plt.savefig(f\"model/l2relerror_iterations.png\")\n",
        "\n",
        "\n",
        "  def save_data(self):\n",
        "    self.net_data[\"lr\"] = self.lr\n",
        "    self.net_data[\"resample\"] = self.resample\n",
        "    self.net_data[\"resample_period\"] = self.resample_period\n",
        "    self.net_data[\"xmin\"] = self.xmin\n",
        "    self.net_data[\"xmax\"] = self.xmax\n",
        "    self.net_data[\"tmax\"] = self.tmax\n",
        "    self.net_data[\"borda\"] = self.borda\n",
        "    self.error_data[\"test_xmin\"] = self.test_xmin\n",
        "    self.error_data[\"test_xmax\"] = self.test_xmax\n",
        "    self.error_data[\"test_tmin\"] = self.test_tmin\n",
        "    self.error_data[\"test_tmax\"] = self.test_tmax\n",
        "\n",
        "\n",
        "    try:\n",
        "      os.makedirs(f\"model/\")\n",
        "    except FileExistsError:\n",
        "      pass\n",
        "\n",
        "    try:\n",
        "      with open(f\"model/net_data.json\", \"x\") as outfile:\n",
        "        json.dump(self.net_data, outfile, indent=2)\n",
        "    except FileExistsError:\n",
        "      with open(f\"model/net_data.json\", \"w\") as outfile:\n",
        "        json.dump(self.net_data, outfile, indent=2)\n",
        "\n",
        "    try:\n",
        "      with open(f\"model/error_data.json\", \"x\") as outfile:\n",
        "        json.dump(self.error_data, outfile, indent=2)\n",
        "    except FileExistsError:\n",
        "      with open(f\"model/error_data.json\", \"w\") as outfile:\n",
        "        json.dump(self.error_data, outfile, indent=2)\n"
      ]
    },
    {
      "cell_type": "code",
      "execution_count": null,
      "metadata": {
        "id": "u7r3kMBjC66o"
      },
      "outputs": [],
      "source": [
        "# from google.colab import drive\n",
        "# drive.mount('/content/drive')"
      ]
    },
    {
      "cell_type": "markdown",
      "metadata": {
        "id": "IWzp64nQ_BV9"
      },
      "source": [
        "# **KdV**"
      ]
    },
    {
      "cell_type": "code",
      "execution_count": null,
      "metadata": {
        "id": "3LdyVpHpvYOb"
      },
      "outputs": [],
      "source": [
        "set_seed()\n",
        "net_data = {\n",
        "    \"neurons\" : 60,\n",
        "    \"layers\" : 5,\n",
        "    \"ND\" :10_000,\n",
        "    \"Nb\" : 4_000,\n",
        "    \"N0\" : 4_000,\n",
        "}\n",
        "kdv = PDE(p=1, net_data=net_data)"
      ]
    },
    {
      "cell_type": "code",
      "execution_count": null,
      "metadata": {
        "id": "TN1-NCPr9Ipn"
      },
      "outputs": [],
      "source": [
        "kdv.xmin, kdv.xmax = [-10, 1], [10, 2]\n",
        "kdv.tmax = 15\n",
        "kdv.borda = \"exact\"\n",
        "kdv.set_data()"
      ]
    },
    {
      "cell_type": "code",
      "execution_count": null,
      "metadata": {
        "id": "MfdWlm2SuU8l"
      },
      "outputs": [],
      "source": []
    },
    {
      "cell_type": "code",
      "execution_count": null,
      "metadata": {
        "colab": {
          "base_uri": "https://localhost:8080/",
          "height": 1000
        },
        "collapsed": true,
        "id": "B68MWohSgtMl",
        "outputId": "11f3be1f-370e-4524-ad39-9d03b763003a"
      },
      "outputs": [
        {
          "name": "stdout",
          "output_type": "stream",
          "text": [
            "Compiling model...\n",
            "'compile' took 0.032927 s\n",
            "\n",
            "Training model...\n",
            "\n",
            "Step      Train loss                        Test loss                         Test metric\n",
            "0         [3.59e-03, 1.18e-01, 4.15e-01]    [3.59e-03, 1.18e-01, 4.15e-01]    []  \n",
            "1         [4.47e-01, 8.30e+00, 8.35e+00]    [4.47e-01, 8.30e+00, 8.35e+00]    []  \n",
            "2         [1.65e-03, 2.83e-01, 1.54e-01]    [1.65e-03, 2.83e-01, 1.54e-01]    []  \n",
            "3         [1.98e-02, 1.05e+00, 1.50e+00]    [1.98e-02, 1.05e+00, 1.50e+00]    []  \n",
            "4         [2.92e-02, 4.18e-01, 3.74e-01]    [2.92e-02, 4.18e-01, 3.74e-01]    []  \n",
            "5         [1.68e-02, 4.07e-01, 6.26e-01]    [1.68e-02, 4.07e-01, 6.26e-01]    []  \n",
            "6         [1.34e-02, 4.12e-01, 7.58e-01]    [1.34e-02, 4.12e-01, 7.58e-01]    []  \n",
            "7         [2.31e-02, 4.26e-01, 2.39e-01]    [2.31e-02, 4.26e-01, 2.39e-01]    []  \n",
            "8         [3.48e-02, 5.21e-01, 1.38e-01]    [3.48e-02, 5.21e-01, 1.38e-01]    []  \n",
            "9         [2.09e-02, 3.10e-01, 2.32e-01]    [2.09e-02, 3.10e-01, 2.32e-01]    []  \n",
            "10        [1.57e-02, 9.99e-02, 1.14e-01]    [1.57e-02, 9.99e-02, 1.14e-01]    []  \n",
            "11        [4.97e-02, 3.07e-01, 7.85e-02]    [4.97e-02, 3.07e-01, 7.85e-02]    []  \n",
            "12        [7.09e-02, 4.62e-01, 1.02e-01]    [7.09e-02, 4.62e-01, 1.02e-01]    []  \n",
            "13        [5.33e-02, 2.66e-01, 3.58e-02]    [5.33e-02, 2.66e-01, 3.58e-02]    []  \n",
            "14        [3.07e-02, 9.21e-02, 4.43e-02]    [3.07e-02, 9.21e-02, 4.43e-02]    []  \n",
            "15        [2.43e-02, 1.16e-01, 1.25e-01]    [2.43e-02, 1.16e-01, 1.25e-01]    []  \n",
            "16        [2.46e-02, 1.57e-01, 1.27e-01]    [2.46e-02, 1.57e-01, 1.27e-01]    []  \n",
            "17        [2.28e-02, 1.21e-01, 7.03e-02]    [2.28e-02, 1.21e-01, 7.03e-02]    []  \n",
            "18        [2.20e-02, 9.26e-02, 7.66e-02]    [2.20e-02, 9.26e-02, 7.66e-02]    []  \n",
            "19        [2.51e-02, 1.06e-01, 1.24e-01]    [2.51e-02, 1.06e-01, 1.24e-01]    []  \n",
            "20        [2.91e-02, 1.00e-01, 1.08e-01]    [2.91e-02, 1.00e-01, 1.08e-01]    []  \n",
            "21        [3.11e-02, 6.51e-02, 4.00e-02]    [3.11e-02, 6.51e-02, 4.00e-02]    []  \n",
            "22        [3.08e-02, 4.86e-02, 1.42e-02]    [3.08e-02, 4.86e-02, 1.42e-02]    []  \n",
            "23        [2.78e-02, 6.06e-02, 4.63e-02]    [2.78e-02, 6.06e-02, 4.63e-02]    []  \n",
            "24        [2.22e-02, 6.97e-02, 6.97e-02]    [2.22e-02, 6.97e-02, 6.97e-02]    []  \n",
            "25        [1.63e-02, 6.51e-02, 5.03e-02]    [1.63e-02, 6.51e-02, 5.03e-02]    []  \n",
            "26        [1.31e-02, 6.49e-02, 2.17e-02]    [1.31e-02, 6.49e-02, 2.17e-02]    []  \n",
            "27        [1.23e-02, 7.61e-02, 1.94e-02]    [1.23e-02, 7.61e-02, 1.94e-02]    []  \n",
            "28        [1.13e-02, 8.08e-02, 3.50e-02]    [1.13e-02, 8.08e-02, 3.50e-02]    []  \n",
            "29        [8.98e-03, 6.60e-02, 4.12e-02]    [8.98e-03, 6.60e-02, 4.12e-02]    []  \n",
            "30        [6.19e-03, 4.68e-02, 3.26e-02]    [6.19e-03, 4.68e-02, 3.26e-02]    []  \n",
            "31        [4.58e-03, 4.54e-02, 2.34e-02]    [4.58e-03, 4.54e-02, 2.34e-02]    []  \n",
            "32        [4.55e-03, 6.10e-02, 2.12e-02]    [4.55e-03, 6.10e-02, 2.12e-02]    []  \n",
            "33        [5.18e-03, 7.21e-02, 2.02e-02]    [5.18e-03, 7.21e-02, 2.02e-02]    []  \n",
            "34        [5.57e-03, 6.51e-02, 1.58e-02]    [5.57e-03, 6.51e-02, 1.58e-02]    []  \n",
            "35        [5.73e-03, 4.88e-02, 1.28e-02]    [5.73e-03, 4.88e-02, 1.28e-02]    []  \n",
            "36        [6.08e-03, 3.98e-02, 1.53e-02]    [6.08e-03, 3.98e-02, 1.53e-02]    []  \n",
            "37        [6.56e-03, 4.09e-02, 1.86e-02]    [6.56e-03, 4.09e-02, 1.86e-02]    []  \n",
            "38        [6.82e-03, 4.32e-02, 1.72e-02]    [6.82e-03, 4.32e-02, 1.72e-02]    []  \n",
            "39        [6.75e-03, 4.17e-02, 1.38e-02]    [6.75e-03, 4.17e-02, 1.38e-02]    []  \n",
            "40        [6.58e-03, 3.95e-02, 1.45e-02]    [6.58e-03, 3.95e-02, 1.45e-02]    []  \n",
            "41        [6.44e-03, 3.94e-02, 1.82e-02]    [6.44e-03, 3.94e-02, 1.82e-02]    []  \n",
            "42        [6.25e-03, 3.93e-02, 1.89e-02]    [6.25e-03, 3.93e-02, 1.89e-02]    []  \n",
            "43        [5.87e-03, 3.66e-02, 1.48e-02]    [5.87e-03, 3.66e-02, 1.48e-02]    []  \n",
            "44        [5.34e-03, 3.31e-02, 1.15e-02]    [5.34e-03, 3.31e-02, 1.15e-02]    []  \n",
            "45        [4.79e-03, 3.15e-02, 1.33e-02]    [4.79e-03, 3.15e-02, 1.33e-02]    []  \n",
            "46        [4.25e-03, 3.17e-02, 1.73e-02]    [4.25e-03, 3.17e-02, 1.73e-02]    []  \n",
            "47        [3.73e-03, 3.16e-02, 1.77e-02]    [3.73e-03, 3.16e-02, 1.77e-02]    []  \n",
            "48        [3.35e-03, 3.09e-02, 1.44e-02]    [3.35e-03, 3.09e-02, 1.44e-02]    []  \n",
            "49        [3.18e-03, 3.11e-02, 1.20e-02]    [3.18e-03, 3.11e-02, 1.20e-02]    []  \n",
            "50        [3.16e-03, 3.17e-02, 1.25e-02]    [3.16e-03, 3.17e-02, 1.25e-02]    []  \n",
            "51        [3.14e-03, 3.09e-02, 1.36e-02]    [3.14e-03, 3.09e-02, 1.36e-02]    []  \n",
            "52        [3.11e-03, 2.87e-02, 1.28e-02]    [3.11e-03, 2.87e-02, 1.28e-02]    []  \n",
            "53        [3.14e-03, 2.74e-02, 1.11e-02]    [3.14e-03, 2.74e-02, 1.11e-02]    []  \n",
            "54        [3.27e-03, 2.78e-02, 1.05e-02]    [3.27e-03, 2.78e-02, 1.05e-02]    []  \n",
            "55        [3.40e-03, 2.80e-02, 1.12e-02]    [3.40e-03, 2.80e-02, 1.12e-02]    []  \n",
            "56        [3.40e-03, 2.67e-02, 1.17e-02]    [3.40e-03, 2.67e-02, 1.17e-02]    []  \n",
            "57        [3.27e-03, 2.53e-02, 1.18e-02]    [3.27e-03, 2.53e-02, 1.18e-02]    []  \n",
            "58        [3.07e-03, 2.51e-02, 1.17e-02]    [3.07e-03, 2.51e-02, 1.17e-02]    []  \n",
            "59        [2.94e-03, 2.52e-02, 1.12e-02]    [2.94e-03, 2.52e-02, 1.12e-02]    []  \n",
            "60        [2.91e-03, 2.46e-02, 1.05e-02]    [2.91e-03, 2.46e-02, 1.05e-02]    []  \n",
            "61        [3.00e-03, 2.40e-02, 1.03e-02]    [3.00e-03, 2.40e-02, 1.03e-02]    []  \n",
            "62        [3.11e-03, 2.40e-02, 1.08e-02]    [3.11e-03, 2.40e-02, 1.08e-02]    []  \n",
            "63        [3.11e-03, 2.40e-02, 1.10e-02]    [3.11e-03, 2.40e-02, 1.10e-02]    []  \n",
            "64        [2.97e-03, 2.36e-02, 1.05e-02]    [2.97e-03, 2.36e-02, 1.05e-02]    []  \n",
            "65        [2.76e-03, 2.33e-02, 9.89e-03]    [2.76e-03, 2.33e-02, 9.89e-03]    []  \n",
            "66        [2.60e-03, 2.33e-02, 9.92e-03]    [2.60e-03, 2.33e-02, 9.92e-03]    []  \n",
            "67        [2.51e-03, 2.30e-02, 1.03e-02]    [2.51e-03, 2.30e-02, 1.03e-02]    []  \n",
            "68        [2.48e-03, 2.23e-02, 1.03e-02]    [2.48e-03, 2.23e-02, 1.03e-02]    []  \n",
            "69        [2.47e-03, 2.21e-02, 1.00e-02]    [2.47e-03, 2.21e-02, 1.00e-02]    []  \n",
            "70        [2.44e-03, 2.25e-02, 9.78e-03]    [2.44e-03, 2.25e-02, 9.78e-03]    []  \n",
            "71        [2.37e-03, 2.23e-02, 9.69e-03]    [2.37e-03, 2.23e-02, 9.69e-03]    []  \n",
            "72        [2.26e-03, 2.16e-02, 9.72e-03]    [2.26e-03, 2.16e-02, 9.72e-03]    []  \n",
            "73        [2.17e-03, 2.13e-02, 9.81e-03]    [2.17e-03, 2.13e-02, 9.81e-03]    []  \n",
            "74        [2.13e-03, 2.14e-02, 9.78e-03]    [2.13e-03, 2.14e-02, 9.78e-03]    []  \n",
            "75        [2.12e-03, 2.11e-02, 9.66e-03]    [2.12e-03, 2.11e-02, 9.66e-03]    []  \n",
            "76        [2.13e-03, 2.08e-02, 9.68e-03]    [2.13e-03, 2.08e-02, 9.68e-03]    []  \n",
            "77        [2.12e-03, 2.06e-02, 9.76e-03]    [2.12e-03, 2.06e-02, 9.76e-03]    []  \n",
            "78        [2.08e-03, 2.05e-02, 9.63e-03]    [2.08e-03, 2.05e-02, 9.63e-03]    []  \n",
            "79        [2.02e-03, 2.01e-02, 9.47e-03]    [2.02e-03, 2.01e-02, 9.47e-03]    []  \n",
            "80        [1.96e-03, 2.00e-02, 9.55e-03]    [1.96e-03, 2.00e-02, 9.55e-03]    []  \n",
            "81        [1.94e-03, 1.99e-02, 9.63e-03]    [1.94e-03, 1.99e-02, 9.63e-03]    []  \n",
            "82        [1.94e-03, 1.96e-02, 9.49e-03]    [1.94e-03, 1.96e-02, 9.49e-03]    []  \n",
            "83        [1.95e-03, 1.95e-02, 9.34e-03]    [1.95e-03, 1.95e-02, 9.34e-03]    []  \n",
            "84        [1.96e-03, 1.93e-02, 9.33e-03]    [1.96e-03, 1.93e-02, 9.33e-03]    []  \n",
            "85        [1.95e-03, 1.90e-02, 9.32e-03]    [1.95e-03, 1.90e-02, 9.32e-03]    []  \n",
            "86        [1.92e-03, 1.89e-02, 9.26e-03]    [1.92e-03, 1.89e-02, 9.26e-03]    []  \n",
            "87        [1.89e-03, 1.88e-02, 9.22e-03]    [1.89e-03, 1.88e-02, 9.22e-03]    []  \n",
            "88        [1.87e-03, 1.86e-02, 9.20e-03]    [1.87e-03, 1.86e-02, 9.20e-03]    []  \n",
            "89        [1.87e-03, 1.83e-02, 9.18e-03]    [1.87e-03, 1.83e-02, 9.18e-03]    []  \n",
            "90        [1.85e-03, 1.82e-02, 9.15e-03]    [1.85e-03, 1.82e-02, 9.15e-03]    []  \n",
            "91        [1.82e-03, 1.80e-02, 9.11e-03]    [1.82e-03, 1.80e-02, 9.11e-03]    []  \n",
            "92        [1.79e-03, 1.77e-02, 9.11e-03]    [1.79e-03, 1.77e-02, 9.11e-03]    []  \n",
            "93        [1.76e-03, 1.76e-02, 9.12e-03]    [1.76e-03, 1.76e-02, 9.12e-03]    []  \n",
            "94        [1.74e-03, 1.74e-02, 9.09e-03]    [1.74e-03, 1.74e-02, 9.09e-03]    []  \n",
            "95        [1.73e-03, 1.72e-02, 9.03e-03]    [1.73e-03, 1.72e-02, 9.03e-03]    []  \n",
            "96        [1.72e-03, 1.70e-02, 9.00e-03]    [1.72e-03, 1.70e-02, 9.00e-03]    []  \n",
            "97        [1.71e-03, 1.68e-02, 8.97e-03]    [1.71e-03, 1.68e-02, 8.97e-03]    []  \n",
            "98        [1.69e-03, 1.66e-02, 8.95e-03]    [1.69e-03, 1.66e-02, 8.95e-03]    []  \n",
            "99        [1.68e-03, 1.64e-02, 8.94e-03]    [1.68e-03, 1.64e-02, 8.94e-03]    []  \n",
            "100       [1.68e-03, 1.61e-02, 8.90e-03]    [1.68e-03, 1.61e-02, 8.90e-03]    []  \n",
            "101       [1.69e-03, 1.59e-02, 8.86e-03]    [1.69e-03, 1.59e-02, 8.86e-03]    []  \n",
            "102       [1.70e-03, 1.57e-02, 8.84e-03]    [1.70e-03, 1.57e-02, 8.84e-03]    []  \n",
            "103       [1.70e-03, 1.54e-02, 8.82e-03]    [1.70e-03, 1.54e-02, 8.82e-03]    []  \n",
            "104       [1.70e-03, 1.52e-02, 8.80e-03]    [1.70e-03, 1.52e-02, 8.80e-03]    []  \n",
            "105       [1.71e-03, 1.50e-02, 8.76e-03]    [1.71e-03, 1.50e-02, 8.76e-03]    []  \n",
            "106       [1.72e-03, 1.47e-02, 8.72e-03]    [1.72e-03, 1.47e-02, 8.72e-03]    []  \n",
            "107       [1.73e-03, 1.45e-02, 8.69e-03]    [1.73e-03, 1.45e-02, 8.69e-03]    []  \n",
            "108       [1.74e-03, 1.43e-02, 8.66e-03]    [1.74e-03, 1.43e-02, 8.66e-03]    []  \n",
            "109       [1.74e-03, 1.40e-02, 8.64e-03]    [1.74e-03, 1.40e-02, 8.64e-03]    []  \n",
            "110       [1.75e-03, 1.38e-02, 8.61e-03]    [1.75e-03, 1.38e-02, 8.61e-03]    []  \n",
            "111       [1.76e-03, 1.36e-02, 8.58e-03]    [1.76e-03, 1.36e-02, 8.58e-03]    []  \n",
            "112       [1.77e-03, 1.33e-02, 8.55e-03]    [1.77e-03, 1.33e-02, 8.55e-03]    []  \n",
            "113       [1.78e-03, 1.31e-02, 8.52e-03]    [1.78e-03, 1.31e-02, 8.52e-03]    []  \n",
            "114       [1.78e-03, 1.29e-02, 8.50e-03]    [1.78e-03, 1.29e-02, 8.50e-03]    []  \n",
            "115       [1.80e-03, 1.26e-02, 8.47e-03]    [1.80e-03, 1.26e-02, 8.47e-03]    []  \n",
            "116       [1.81e-03, 1.24e-02, 8.43e-03]    [1.81e-03, 1.24e-02, 8.43e-03]    []  \n",
            "117       [1.83e-03, 1.22e-02, 8.41e-03]    [1.83e-03, 1.22e-02, 8.41e-03]    []  \n",
            "118       [1.84e-03, 1.19e-02, 8.38e-03]    [1.84e-03, 1.19e-02, 8.38e-03]    []  \n",
            "119       [1.85e-03, 1.17e-02, 8.36e-03]    [1.85e-03, 1.17e-02, 8.36e-03]    []  \n",
            "120       [1.86e-03, 1.15e-02, 8.33e-03]    [1.86e-03, 1.15e-02, 8.33e-03]    []  \n",
            "121       [1.88e-03, 1.13e-02, 8.30e-03]    [1.88e-03, 1.13e-02, 8.30e-03]    []  \n",
            "122       [1.89e-03, 1.11e-02, 8.27e-03]    [1.89e-03, 1.11e-02, 8.27e-03]    []  \n",
            "123       [1.91e-03, 1.08e-02, 8.25e-03]    [1.91e-03, 1.08e-02, 8.25e-03]    []  \n",
            "124       [1.93e-03, 1.06e-02, 8.21e-03]    [1.93e-03, 1.06e-02, 8.21e-03]    []  \n",
            "125       [1.95e-03, 1.04e-02, 8.18e-03]    [1.95e-03, 1.04e-02, 8.18e-03]    []  \n",
            "126       [1.97e-03, 1.02e-02, 8.15e-03]    [1.97e-03, 1.02e-02, 8.15e-03]    []  \n",
            "127       [1.98e-03, 1.00e-02, 8.12e-03]    [1.98e-03, 1.00e-02, 8.12e-03]    []  \n",
            "128       [2.00e-03, 9.79e-03, 8.10e-03]    [2.00e-03, 9.79e-03, 8.10e-03]    []  \n",
            "129       [2.02e-03, 9.59e-03, 8.07e-03]    [2.02e-03, 9.59e-03, 8.07e-03]    []  \n",
            "130       [2.03e-03, 9.39e-03, 8.04e-03]    [2.03e-03, 9.39e-03, 8.04e-03]    []  \n",
            "131       [2.05e-03, 9.20e-03, 8.01e-03]    [2.05e-03, 9.20e-03, 8.01e-03]    []  \n",
            "132       [2.07e-03, 9.00e-03, 7.98e-03]    [2.07e-03, 9.00e-03, 7.98e-03]    []  \n",
            "133       [2.09e-03, 8.82e-03, 7.94e-03]    [2.09e-03, 8.82e-03, 7.94e-03]    []  \n",
            "134       [2.11e-03, 8.63e-03, 7.91e-03]    [2.11e-03, 8.63e-03, 7.91e-03]    []  \n",
            "135       [2.13e-03, 8.46e-03, 7.88e-03]    [2.13e-03, 8.46e-03, 7.88e-03]    []  \n",
            "136       [2.15e-03, 8.28e-03, 7.84e-03]    [2.15e-03, 8.28e-03, 7.84e-03]    []  \n",
            "137       [2.17e-03, 8.11e-03, 7.81e-03]    [2.17e-03, 8.11e-03, 7.81e-03]    []  \n",
            "138       [2.18e-03, 7.94e-03, 7.78e-03]    [2.18e-03, 7.94e-03, 7.78e-03]    []  \n",
            "139       [2.20e-03, 7.77e-03, 7.74e-03]    [2.20e-03, 7.77e-03, 7.74e-03]    []  \n",
            "140       [2.22e-03, 7.62e-03, 7.70e-03]    [2.22e-03, 7.62e-03, 7.70e-03]    []  \n",
            "141       [2.24e-03, 7.46e-03, 7.66e-03]    [2.24e-03, 7.46e-03, 7.66e-03]    []  \n",
            "142       [2.25e-03, 7.31e-03, 7.62e-03]    [2.25e-03, 7.31e-03, 7.62e-03]    []  \n",
            "143       [2.26e-03, 7.17e-03, 7.59e-03]    [2.26e-03, 7.17e-03, 7.59e-03]    []  \n",
            "144       [2.28e-03, 7.02e-03, 7.55e-03]    [2.28e-03, 7.02e-03, 7.55e-03]    []  \n",
            "145       [2.29e-03, 6.88e-03, 7.51e-03]    [2.29e-03, 6.88e-03, 7.51e-03]    []  \n",
            "146       [2.30e-03, 6.75e-03, 7.47e-03]    [2.30e-03, 6.75e-03, 7.47e-03]    []  \n",
            "147       [2.31e-03, 6.62e-03, 7.43e-03]    [2.31e-03, 6.62e-03, 7.43e-03]    []  \n",
            "148       [2.31e-03, 6.49e-03, 7.39e-03]    [2.31e-03, 6.49e-03, 7.39e-03]    []  \n",
            "149       [2.32e-03, 6.37e-03, 7.36e-03]    [2.32e-03, 6.37e-03, 7.36e-03]    []  \n",
            "150       [2.33e-03, 6.25e-03, 7.32e-03]    [2.33e-03, 6.25e-03, 7.32e-03]    []  \n",
            "151       [2.33e-03, 6.13e-03, 7.28e-03]    [2.33e-03, 6.13e-03, 7.28e-03]    []  \n",
            "152       [2.33e-03, 6.02e-03, 7.24e-03]    [2.33e-03, 6.02e-03, 7.24e-03]    []  \n",
            "153       [2.34e-03, 5.91e-03, 7.20e-03]    [2.34e-03, 5.91e-03, 7.20e-03]    []  \n",
            "154       [2.34e-03, 5.81e-03, 7.16e-03]    [2.34e-03, 5.81e-03, 7.16e-03]    []  \n",
            "155       [2.34e-03, 5.71e-03, 7.12e-03]    [2.34e-03, 5.71e-03, 7.12e-03]    []  \n",
            "156       [2.35e-03, 5.61e-03, 7.07e-03]    [2.35e-03, 5.61e-03, 7.07e-03]    []  \n",
            "157       [2.35e-03, 5.51e-03, 7.03e-03]    [2.35e-03, 5.51e-03, 7.03e-03]    []  \n",
            "158       [2.35e-03, 5.42e-03, 6.99e-03]    [2.35e-03, 5.42e-03, 6.99e-03]    []  \n",
            "159       [2.35e-03, 5.33e-03, 6.94e-03]    [2.35e-03, 5.33e-03, 6.94e-03]    []  \n",
            "160       [2.36e-03, 5.24e-03, 6.90e-03]    [2.36e-03, 5.24e-03, 6.90e-03]    []  \n",
            "161       [2.36e-03, 5.15e-03, 6.86e-03]    [2.36e-03, 5.15e-03, 6.86e-03]    []  \n",
            "162       [2.36e-03, 5.07e-03, 6.81e-03]    [2.36e-03, 5.07e-03, 6.81e-03]    []  \n",
            "163       [2.36e-03, 4.99e-03, 6.77e-03]    [2.36e-03, 4.99e-03, 6.77e-03]    []  \n",
            "164       [2.36e-03, 4.91e-03, 6.72e-03]    [2.36e-03, 4.91e-03, 6.72e-03]    []  \n",
            "165       [2.37e-03, 4.83e-03, 6.68e-03]    [2.37e-03, 4.83e-03, 6.68e-03]    []  \n",
            "166       [2.37e-03, 4.76e-03, 6.63e-03]    [2.37e-03, 4.76e-03, 6.63e-03]    []  \n",
            "167       [2.38e-03, 4.69e-03, 6.58e-03]    [2.38e-03, 4.69e-03, 6.58e-03]    []  \n",
            "168       [2.38e-03, 4.61e-03, 6.54e-03]    [2.38e-03, 4.61e-03, 6.54e-03]    []  \n",
            "169       [2.39e-03, 4.54e-03, 6.49e-03]    [2.39e-03, 4.54e-03, 6.49e-03]    []  \n",
            "170       [2.39e-03, 4.47e-03, 6.44e-03]    [2.39e-03, 4.47e-03, 6.44e-03]    []  \n",
            "171       [2.40e-03, 4.40e-03, 6.39e-03]    [2.40e-03, 4.40e-03, 6.39e-03]    []  \n",
            "172       [2.41e-03, 4.34e-03, 6.34e-03]    [2.41e-03, 4.34e-03, 6.34e-03]    []  \n",
            "173       [2.41e-03, 4.27e-03, 6.29e-03]    [2.41e-03, 4.27e-03, 6.29e-03]    []  \n",
            "174       [2.42e-03, 4.21e-03, 6.24e-03]    [2.42e-03, 4.21e-03, 6.24e-03]    []  \n",
            "175       [2.42e-03, 4.15e-03, 6.19e-03]    [2.42e-03, 4.15e-03, 6.19e-03]    []  \n",
            "176       [2.43e-03, 4.08e-03, 6.14e-03]    [2.43e-03, 4.08e-03, 6.14e-03]    []  \n",
            "177       [2.43e-03, 4.03e-03, 6.10e-03]    [2.43e-03, 4.03e-03, 6.10e-03]    []  \n",
            "178       [2.44e-03, 3.97e-03, 6.05e-03]    [2.44e-03, 3.97e-03, 6.05e-03]    []  \n",
            "179       [2.44e-03, 3.91e-03, 5.99e-03]    [2.44e-03, 3.91e-03, 5.99e-03]    []  \n",
            "180       [2.44e-03, 3.86e-03, 5.94e-03]    [2.44e-03, 3.86e-03, 5.94e-03]    []  \n",
            "181       [2.44e-03, 3.81e-03, 5.89e-03]    [2.44e-03, 3.81e-03, 5.89e-03]    []  \n",
            "182       [2.45e-03, 3.75e-03, 5.84e-03]    [2.45e-03, 3.75e-03, 5.84e-03]    []  \n",
            "183       [2.45e-03, 3.70e-03, 5.79e-03]    [2.45e-03, 3.70e-03, 5.79e-03]    []  \n",
            "184       [2.45e-03, 3.65e-03, 5.74e-03]    [2.45e-03, 3.65e-03, 5.74e-03]    []  \n",
            "185       [2.45e-03, 3.61e-03, 5.69e-03]    [2.45e-03, 3.61e-03, 5.69e-03]    []  \n",
            "186       [2.45e-03, 3.56e-03, 5.64e-03]    [2.45e-03, 3.56e-03, 5.64e-03]    []  \n",
            "187       [2.45e-03, 3.51e-03, 5.59e-03]    [2.45e-03, 3.51e-03, 5.59e-03]    []  \n",
            "188       [2.45e-03, 3.47e-03, 5.54e-03]    [2.45e-03, 3.47e-03, 5.54e-03]    []  \n",
            "189       [2.45e-03, 3.43e-03, 5.49e-03]    [2.45e-03, 3.43e-03, 5.49e-03]    []  \n",
            "190       [2.45e-03, 3.38e-03, 5.44e-03]    [2.45e-03, 3.38e-03, 5.44e-03]    []  \n",
            "191       [2.46e-03, 3.34e-03, 5.39e-03]    [2.46e-03, 3.34e-03, 5.39e-03]    []  \n",
            "192       [2.46e-03, 3.30e-03, 5.34e-03]    [2.46e-03, 3.30e-03, 5.34e-03]    []  \n",
            "193       [2.46e-03, 3.26e-03, 5.29e-03]    [2.46e-03, 3.26e-03, 5.29e-03]    []  \n",
            "194       [2.46e-03, 3.22e-03, 5.24e-03]    [2.46e-03, 3.22e-03, 5.24e-03]    []  \n",
            "195       [2.46e-03, 3.18e-03, 5.18e-03]    [2.46e-03, 3.18e-03, 5.18e-03]    []  \n",
            "196       [2.46e-03, 3.14e-03, 5.13e-03]    [2.46e-03, 3.14e-03, 5.13e-03]    []  \n",
            "197       [2.46e-03, 3.10e-03, 5.08e-03]    [2.46e-03, 3.10e-03, 5.08e-03]    []  \n",
            "198       [2.46e-03, 3.06e-03, 5.03e-03]    [2.46e-03, 3.06e-03, 5.03e-03]    []  \n",
            "199       [2.46e-03, 3.03e-03, 4.98e-03]    [2.46e-03, 3.03e-03, 4.98e-03]    []  \n",
            "200       [2.46e-03, 2.99e-03, 4.93e-03]    [2.46e-03, 2.99e-03, 4.93e-03]    []  \n",
            "201       [2.46e-03, 2.95e-03, 4.88e-03]    [2.46e-03, 2.95e-03, 4.88e-03]    []  \n",
            "202       [2.46e-03, 2.92e-03, 4.83e-03]    [2.46e-03, 2.92e-03, 4.83e-03]    []  \n",
            "203       [2.46e-03, 2.88e-03, 4.78e-03]    [2.46e-03, 2.88e-03, 4.78e-03]    []  \n",
            "204       [2.46e-03, 2.85e-03, 4.73e-03]    [2.46e-03, 2.85e-03, 4.73e-03]    []  \n",
            "205       [2.46e-03, 2.81e-03, 4.68e-03]    [2.46e-03, 2.81e-03, 4.68e-03]    []  \n",
            "206       [2.46e-03, 2.78e-03, 4.63e-03]    [2.46e-03, 2.78e-03, 4.63e-03]    []  \n",
            "207       [2.46e-03, 2.75e-03, 4.58e-03]    [2.46e-03, 2.75e-03, 4.58e-03]    []  \n",
            "208       [2.46e-03, 2.72e-03, 4.53e-03]    [2.46e-03, 2.72e-03, 4.53e-03]    []  \n",
            "209       [2.46e-03, 2.69e-03, 4.49e-03]    [2.46e-03, 2.69e-03, 4.49e-03]    []  \n",
            "210       [2.46e-03, 2.65e-03, 4.44e-03]    [2.46e-03, 2.65e-03, 4.44e-03]    []  \n",
            "211       [2.46e-03, 2.62e-03, 4.39e-03]    [2.46e-03, 2.62e-03, 4.39e-03]    []  \n",
            "212       [2.46e-03, 2.59e-03, 4.34e-03]    [2.46e-03, 2.59e-03, 4.34e-03]    []  \n",
            "213       [2.46e-03, 2.56e-03, 4.29e-03]    [2.46e-03, 2.56e-03, 4.29e-03]    []  \n",
            "214       [2.46e-03, 2.54e-03, 4.24e-03]    [2.46e-03, 2.54e-03, 4.24e-03]    []  \n",
            "215       [2.46e-03, 2.51e-03, 4.20e-03]    [2.46e-03, 2.51e-03, 4.20e-03]    []  \n",
            "216       [2.46e-03, 2.48e-03, 4.15e-03]    [2.46e-03, 2.48e-03, 4.15e-03]    []  \n",
            "217       [2.46e-03, 2.45e-03, 4.10e-03]    [2.46e-03, 2.45e-03, 4.10e-03]    []  \n",
            "218       [2.45e-03, 2.43e-03, 4.06e-03]    [2.45e-03, 2.43e-03, 4.06e-03]    []  \n",
            "219       [2.46e-03, 2.40e-03, 4.01e-03]    [2.46e-03, 2.40e-03, 4.01e-03]    []  \n",
            "220       [2.45e-03, 2.41e-03, 3.96e-03]    [2.45e-03, 2.41e-03, 3.96e-03]    []  \n",
            "221       [2.47e-03, 2.40e-03, 3.92e-03]    [2.47e-03, 2.40e-03, 3.92e-03]    []  \n",
            "222       [2.43e-03, 2.51e-03, 3.88e-03]    [2.43e-03, 2.51e-03, 3.88e-03]    []  \n",
            "223       [2.49e-03, 2.73e-03, 3.83e-03]    [2.49e-03, 2.73e-03, 3.83e-03]    []  \n",
            "224       [2.41e-03, 3.30e-03, 3.82e-03]    [2.41e-03, 3.30e-03, 3.82e-03]    []  \n",
            "225       [2.54e-03, 4.51e-03, 3.80e-03]    [2.54e-03, 4.51e-03, 3.80e-03]    []  \n",
            "226       [2.40e-03, 4.64e-03, 3.82e-03]    [2.40e-03, 4.64e-03, 3.82e-03]    []  \n",
            "227       [2.52e-03, 4.83e-03, 3.73e-03]    [2.52e-03, 4.83e-03, 3.73e-03]    []  \n",
            "228       [2.39e-03, 2.87e-03, 3.65e-03]    [2.39e-03, 2.87e-03, 3.65e-03]    []  \n",
            "229       [2.39e-03, 2.25e-03, 3.56e-03]    [2.39e-03, 2.25e-03, 3.56e-03]    []  \n",
            "230       [2.44e-03, 2.97e-03, 3.60e-03]    [2.44e-03, 2.97e-03, 3.60e-03]    []  \n",
            "231       [2.35e-03, 3.74e-03, 3.51e-03]    [2.35e-03, 3.74e-03, 3.51e-03]    []  \n",
            "232       [2.45e-03, 3.76e-03, 3.50e-03]    [2.45e-03, 3.76e-03, 3.50e-03]    []  \n",
            "233       [2.36e-03, 2.49e-03, 3.45e-03]    [2.36e-03, 2.49e-03, 3.45e-03]    []  \n",
            "234       [2.37e-03, 2.20e-03, 3.36e-03]    [2.37e-03, 2.20e-03, 3.36e-03]    []  \n",
            "235       [2.42e-03, 2.88e-03, 3.38e-03]    [2.42e-03, 2.88e-03, 3.38e-03]    []  \n",
            "236       [2.32e-03, 3.25e-03, 3.31e-03]    [2.32e-03, 3.25e-03, 3.31e-03]    []  \n",
            "237       [2.40e-03, 2.88e-03, 3.30e-03]    [2.40e-03, 2.88e-03, 3.30e-03]    []  \n",
            "238       [2.34e-03, 2.17e-03, 3.22e-03]    [2.34e-03, 2.17e-03, 3.22e-03]    []  \n",
            "239       [2.35e-03, 2.15e-03, 3.18e-03]    [2.35e-03, 2.15e-03, 3.18e-03]    []  \n",
            "240       [2.41e-03, 2.63e-03, 3.16e-03]    [2.41e-03, 2.63e-03, 3.16e-03]    []  \n",
            "241       [2.33e-03, 2.75e-03, 3.10e-03]    [2.33e-03, 2.75e-03, 3.10e-03]    []  \n",
            "242       [2.39e-03, 2.37e-03, 3.09e-03]    [2.39e-03, 2.37e-03, 3.09e-03]    []  \n",
            "243       [2.36e-03, 1.97e-03, 3.02e-03]    [2.36e-03, 1.97e-03, 3.02e-03]    []  \n",
            "244       [2.38e-03, 1.98e-03, 2.97e-03]    [2.38e-03, 1.98e-03, 2.97e-03]    []  \n",
            "245       [2.42e-03, 2.27e-03, 2.94e-03]    [2.42e-03, 2.27e-03, 2.94e-03]    []  \n",
            "246       [2.36e-03, 2.37e-03, 2.91e-03]    [2.36e-03, 2.37e-03, 2.91e-03]    []  \n",
            "247       [2.39e-03, 2.17e-03, 2.89e-03]    [2.39e-03, 2.17e-03, 2.89e-03]    []  \n",
            "248       [2.36e-03, 1.89e-03, 2.82e-03]    [2.36e-03, 1.89e-03, 2.82e-03]    []  \n",
            "249       [2.38e-03, 1.80e-03, 2.77e-03]    [2.38e-03, 1.80e-03, 2.77e-03]    []  \n",
            "250       [2.40e-03, 1.92e-03, 2.74e-03]    [2.40e-03, 1.92e-03, 2.74e-03]    []  \n",
            "251       [2.36e-03, 2.07e-03, 2.72e-03]    [2.36e-03, 2.07e-03, 2.72e-03]    []  \n",
            "252       [2.39e-03, 2.06e-03, 2.69e-03]    [2.39e-03, 2.06e-03, 2.69e-03]    []  \n",
            "253       [2.36e-03, 1.90e-03, 2.64e-03]    [2.36e-03, 1.90e-03, 2.64e-03]    []  \n",
            "254       [2.38e-03, 1.73e-03, 2.59e-03]    [2.38e-03, 1.73e-03, 2.59e-03]    []  \n",
            "255       [2.38e-03, 1.68e-03, 2.55e-03]    [2.38e-03, 1.68e-03, 2.55e-03]    []  \n",
            "256       [2.36e-03, 1.75e-03, 2.53e-03]    [2.36e-03, 1.75e-03, 2.53e-03]    []  \n",
            "257       [2.37e-03, 1.81e-03, 2.50e-03]    [2.37e-03, 1.81e-03, 2.50e-03]    []  \n",
            "258       [2.35e-03, 1.85e-03, 2.46e-03]    [2.35e-03, 1.85e-03, 2.46e-03]    []  \n",
            "259       [2.38e-03, 1.79e-03, 2.42e-03]    [2.38e-03, 1.79e-03, 2.42e-03]    []  \n",
            "260       [2.35e-03, 1.71e-03, 2.39e-03]    [2.35e-03, 1.71e-03, 2.39e-03]    []  \n",
            "261       [2.36e-03, 1.61e-03, 2.36e-03]    [2.36e-03, 1.61e-03, 2.36e-03]    []  \n",
            "262       [2.35e-03, 1.56e-03, 2.32e-03]    [2.35e-03, 1.56e-03, 2.32e-03]    []  \n",
            "263       [2.35e-03, 1.55e-03, 2.28e-03]    [2.35e-03, 1.55e-03, 2.28e-03]    []  \n"
          ]
        },
        {
          "ename": "KeyboardInterrupt",
          "evalue": "",
          "output_type": "error",
          "traceback": [
            "\u001b[0;31m---------------------------------------------------------------------------\u001b[0m",
            "\u001b[0;31mKeyboardInterrupt\u001b[0m                         Traceback (most recent call last)",
            "\u001b[0;32m<ipython-input-12-531f5c920619>\u001b[0m in \u001b[0;36m<cell line: 7>\u001b[0;34m()\u001b[0m\n\u001b[1;32m      5\u001b[0m \u001b[0;34m\u001b[0m\u001b[0m\n\u001b[1;32m      6\u001b[0m \u001b[0mkdv\u001b[0m\u001b[0;34m.\u001b[0m\u001b[0mmodel\u001b[0m\u001b[0;34m.\u001b[0m\u001b[0mcompile\u001b[0m\u001b[0;34m(\u001b[0m\u001b[0;34m\"adam\"\u001b[0m\u001b[0;34m,\u001b[0m \u001b[0mlr\u001b[0m\u001b[0;34m=\u001b[0m\u001b[0;36m1e-2\u001b[0m\u001b[0;34m)\u001b[0m\u001b[0;34m\u001b[0m\u001b[0;34m\u001b[0m\u001b[0m\n\u001b[0;32m----> 7\u001b[0;31m \u001b[0mlosshistory\u001b[0m\u001b[0;34m,\u001b[0m \u001b[0mtrain_state\u001b[0m \u001b[0;34m=\u001b[0m \u001b[0mkdv\u001b[0m\u001b[0;34m.\u001b[0m\u001b[0mtrain\u001b[0m\u001b[0;34m(\u001b[0m\u001b[0miterations\u001b[0m\u001b[0;34m=\u001b[0m\u001b[0;36m3_000\u001b[0m\u001b[0;34m)\u001b[0m\u001b[0;34m\u001b[0m\u001b[0;34m\u001b[0m\u001b[0m\n\u001b[0m\u001b[1;32m      8\u001b[0m \u001b[0;34m\u001b[0m\u001b[0m\n\u001b[1;32m      9\u001b[0m \u001b[0mkdv\u001b[0m\u001b[0;34m.\u001b[0m\u001b[0mmodel\u001b[0m\u001b[0;34m.\u001b[0m\u001b[0mcompile\u001b[0m\u001b[0;34m(\u001b[0m\u001b[0;34m\"adam\"\u001b[0m\u001b[0;34m,\u001b[0m \u001b[0mlr\u001b[0m\u001b[0;34m=\u001b[0m\u001b[0;36m5e-3\u001b[0m\u001b[0;34m)\u001b[0m\u001b[0;34m\u001b[0m\u001b[0;34m\u001b[0m\u001b[0m\n",
            "\u001b[0;32m<ipython-input-9-12321b5de464>\u001b[0m in \u001b[0;36mtrain\u001b[0;34m(self, iterations)\u001b[0m\n\u001b[1;32m    102\u001b[0m     \u001b[0;32mif\u001b[0m \u001b[0mself\u001b[0m\u001b[0;34m.\u001b[0m\u001b[0mresample\u001b[0m\u001b[0;34m:\u001b[0m\u001b[0;34m\u001b[0m\u001b[0;34m\u001b[0m\u001b[0m\n\u001b[1;32m    103\u001b[0m       \u001b[0mresampler\u001b[0m \u001b[0;34m=\u001b[0m \u001b[0mdde\u001b[0m\u001b[0;34m.\u001b[0m\u001b[0mcallbacks\u001b[0m\u001b[0;34m.\u001b[0m\u001b[0mPDEPointResampler\u001b[0m\u001b[0;34m(\u001b[0m\u001b[0mperiod\u001b[0m\u001b[0;34m=\u001b[0m\u001b[0mself\u001b[0m\u001b[0;34m.\u001b[0m\u001b[0mresample_period\u001b[0m\u001b[0;34m)\u001b[0m\u001b[0;34m\u001b[0m\u001b[0;34m\u001b[0m\u001b[0m\n\u001b[0;32m--> 104\u001b[0;31m       return self.model.train(iterations=iterations,\n\u001b[0m\u001b[1;32m    105\u001b[0m                         \u001b[0mdisplay_every\u001b[0m\u001b[0;34m=\u001b[0m\u001b[0mdisplay_every\u001b[0m\u001b[0;34m,\u001b[0m\u001b[0;34m\u001b[0m\u001b[0;34m\u001b[0m\u001b[0m\n\u001b[1;32m    106\u001b[0m                         callbacks=[resampler])\n",
            "\u001b[0;32m/usr/local/lib/python3.10/dist-packages/deepxde/utils/internal.py\u001b[0m in \u001b[0;36mwrapper\u001b[0;34m(*args, **kwargs)\u001b[0m\n\u001b[1;32m     20\u001b[0m     \u001b[0;32mdef\u001b[0m \u001b[0mwrapper\u001b[0m\u001b[0;34m(\u001b[0m\u001b[0;34m*\u001b[0m\u001b[0margs\u001b[0m\u001b[0;34m,\u001b[0m \u001b[0;34m**\u001b[0m\u001b[0mkwargs\u001b[0m\u001b[0;34m)\u001b[0m\u001b[0;34m:\u001b[0m\u001b[0;34m\u001b[0m\u001b[0;34m\u001b[0m\u001b[0m\n\u001b[1;32m     21\u001b[0m         \u001b[0mts\u001b[0m \u001b[0;34m=\u001b[0m \u001b[0mtimeit\u001b[0m\u001b[0;34m.\u001b[0m\u001b[0mdefault_timer\u001b[0m\u001b[0;34m(\u001b[0m\u001b[0;34m)\u001b[0m\u001b[0;34m\u001b[0m\u001b[0;34m\u001b[0m\u001b[0m\n\u001b[0;32m---> 22\u001b[0;31m         \u001b[0mresult\u001b[0m \u001b[0;34m=\u001b[0m \u001b[0mf\u001b[0m\u001b[0;34m(\u001b[0m\u001b[0;34m*\u001b[0m\u001b[0margs\u001b[0m\u001b[0;34m,\u001b[0m \u001b[0;34m**\u001b[0m\u001b[0mkwargs\u001b[0m\u001b[0;34m)\u001b[0m\u001b[0;34m\u001b[0m\u001b[0;34m\u001b[0m\u001b[0m\n\u001b[0m\u001b[1;32m     23\u001b[0m         \u001b[0mte\u001b[0m \u001b[0;34m=\u001b[0m \u001b[0mtimeit\u001b[0m\u001b[0;34m.\u001b[0m\u001b[0mdefault_timer\u001b[0m\u001b[0;34m(\u001b[0m\u001b[0;34m)\u001b[0m\u001b[0;34m\u001b[0m\u001b[0;34m\u001b[0m\u001b[0m\n\u001b[1;32m     24\u001b[0m         \u001b[0;32mif\u001b[0m \u001b[0mconfig\u001b[0m\u001b[0;34m.\u001b[0m\u001b[0mrank\u001b[0m \u001b[0;34m==\u001b[0m \u001b[0;36m0\u001b[0m\u001b[0;34m:\u001b[0m\u001b[0;34m\u001b[0m\u001b[0;34m\u001b[0m\u001b[0m\n",
            "\u001b[0;32m/usr/local/lib/python3.10/dist-packages/deepxde/model.py\u001b[0m in \u001b[0;36mtrain\u001b[0;34m(self, iterations, batch_size, display_every, disregard_previous_best, callbacks, model_restore_path, model_save_path, epochs)\u001b[0m\n\u001b[1;32m    655\u001b[0m             \u001b[0;32mif\u001b[0m \u001b[0miterations\u001b[0m \u001b[0;32mis\u001b[0m \u001b[0;32mNone\u001b[0m\u001b[0;34m:\u001b[0m\u001b[0;34m\u001b[0m\u001b[0;34m\u001b[0m\u001b[0m\n\u001b[1;32m    656\u001b[0m                 \u001b[0;32mraise\u001b[0m \u001b[0mValueError\u001b[0m\u001b[0;34m(\u001b[0m\u001b[0;34m\"No iterations for {}.\"\u001b[0m\u001b[0;34m.\u001b[0m\u001b[0mformat\u001b[0m\u001b[0;34m(\u001b[0m\u001b[0mself\u001b[0m\u001b[0;34m.\u001b[0m\u001b[0mopt_name\u001b[0m\u001b[0;34m)\u001b[0m\u001b[0;34m)\u001b[0m\u001b[0;34m\u001b[0m\u001b[0;34m\u001b[0m\u001b[0m\n\u001b[0;32m--> 657\u001b[0;31m             \u001b[0mself\u001b[0m\u001b[0;34m.\u001b[0m\u001b[0m_train_sgd\u001b[0m\u001b[0;34m(\u001b[0m\u001b[0miterations\u001b[0m\u001b[0;34m,\u001b[0m \u001b[0mdisplay_every\u001b[0m\u001b[0;34m)\u001b[0m\u001b[0;34m\u001b[0m\u001b[0;34m\u001b[0m\u001b[0m\n\u001b[0m\u001b[1;32m    658\u001b[0m         \u001b[0mself\u001b[0m\u001b[0;34m.\u001b[0m\u001b[0mcallbacks\u001b[0m\u001b[0;34m.\u001b[0m\u001b[0mon_train_end\u001b[0m\u001b[0;34m(\u001b[0m\u001b[0;34m)\u001b[0m\u001b[0;34m\u001b[0m\u001b[0;34m\u001b[0m\u001b[0m\n\u001b[1;32m    659\u001b[0m \u001b[0;34m\u001b[0m\u001b[0m\n",
            "\u001b[0;32m/usr/local/lib/python3.10/dist-packages/deepxde/model.py\u001b[0m in \u001b[0;36m_train_sgd\u001b[0;34m(self, iterations, display_every)\u001b[0m\n\u001b[1;32m    682\u001b[0m             \u001b[0mself\u001b[0m\u001b[0;34m.\u001b[0m\u001b[0mtrain_state\u001b[0m\u001b[0;34m.\u001b[0m\u001b[0mstep\u001b[0m \u001b[0;34m+=\u001b[0m \u001b[0;36m1\u001b[0m\u001b[0;34m\u001b[0m\u001b[0;34m\u001b[0m\u001b[0m\n\u001b[1;32m    683\u001b[0m             \u001b[0;32mif\u001b[0m \u001b[0mself\u001b[0m\u001b[0;34m.\u001b[0m\u001b[0mtrain_state\u001b[0m\u001b[0;34m.\u001b[0m\u001b[0mstep\u001b[0m \u001b[0;34m%\u001b[0m \u001b[0mdisplay_every\u001b[0m \u001b[0;34m==\u001b[0m \u001b[0;36m0\u001b[0m \u001b[0;32mor\u001b[0m \u001b[0mi\u001b[0m \u001b[0;34m+\u001b[0m \u001b[0;36m1\u001b[0m \u001b[0;34m==\u001b[0m \u001b[0miterations\u001b[0m\u001b[0;34m:\u001b[0m\u001b[0;34m\u001b[0m\u001b[0;34m\u001b[0m\u001b[0m\n\u001b[0;32m--> 684\u001b[0;31m                 \u001b[0mself\u001b[0m\u001b[0;34m.\u001b[0m\u001b[0m_test\u001b[0m\u001b[0;34m(\u001b[0m\u001b[0;34m)\u001b[0m\u001b[0;34m\u001b[0m\u001b[0;34m\u001b[0m\u001b[0m\n\u001b[0m\u001b[1;32m    685\u001b[0m \u001b[0;34m\u001b[0m\u001b[0m\n\u001b[1;32m    686\u001b[0m             \u001b[0mself\u001b[0m\u001b[0;34m.\u001b[0m\u001b[0mcallbacks\u001b[0m\u001b[0;34m.\u001b[0m\u001b[0mon_batch_end\u001b[0m\u001b[0;34m(\u001b[0m\u001b[0;34m)\u001b[0m\u001b[0;34m\u001b[0m\u001b[0;34m\u001b[0m\u001b[0m\n",
            "\u001b[0;32m/usr/local/lib/python3.10/dist-packages/deepxde/model.py\u001b[0m in \u001b[0;36m_test\u001b[0;34m(self)\u001b[0m\n\u001b[1;32m    830\u001b[0m             \u001b[0mself\u001b[0m\u001b[0;34m.\u001b[0m\u001b[0mtrain_state\u001b[0m\u001b[0;34m.\u001b[0m\u001b[0my_pred_train\u001b[0m\u001b[0;34m,\u001b[0m\u001b[0;34m\u001b[0m\u001b[0;34m\u001b[0m\u001b[0m\n\u001b[1;32m    831\u001b[0m             \u001b[0mself\u001b[0m\u001b[0;34m.\u001b[0m\u001b[0mtrain_state\u001b[0m\u001b[0;34m.\u001b[0m\u001b[0mloss_train\u001b[0m\u001b[0;34m,\u001b[0m\u001b[0;34m\u001b[0m\u001b[0;34m\u001b[0m\u001b[0m\n\u001b[0;32m--> 832\u001b[0;31m         \u001b[0;34m)\u001b[0m \u001b[0;34m=\u001b[0m \u001b[0mself\u001b[0m\u001b[0;34m.\u001b[0m\u001b[0m_outputs_losses\u001b[0m\u001b[0;34m(\u001b[0m\u001b[0;34m\u001b[0m\u001b[0;34m\u001b[0m\u001b[0m\n\u001b[0m\u001b[1;32m    833\u001b[0m             \u001b[0;32mTrue\u001b[0m\u001b[0;34m,\u001b[0m\u001b[0;34m\u001b[0m\u001b[0;34m\u001b[0m\u001b[0m\n\u001b[1;32m    834\u001b[0m             \u001b[0mself\u001b[0m\u001b[0;34m.\u001b[0m\u001b[0mtrain_state\u001b[0m\u001b[0;34m.\u001b[0m\u001b[0mX_train\u001b[0m\u001b[0;34m,\u001b[0m\u001b[0;34m\u001b[0m\u001b[0;34m\u001b[0m\u001b[0m\n",
            "\u001b[0;32m/usr/local/lib/python3.10/dist-packages/deepxde/model.py\u001b[0m in \u001b[0;36m_outputs_losses\u001b[0;34m(self, training, inputs, targets, auxiliary_vars)\u001b[0m\n\u001b[1;32m    546\u001b[0m             \u001b[0;32mreturn\u001b[0m \u001b[0mself\u001b[0m\u001b[0;34m.\u001b[0m\u001b[0msess\u001b[0m\u001b[0;34m.\u001b[0m\u001b[0mrun\u001b[0m\u001b[0;34m(\u001b[0m\u001b[0moutputs_losses\u001b[0m\u001b[0;34m,\u001b[0m \u001b[0mfeed_dict\u001b[0m\u001b[0;34m=\u001b[0m\u001b[0mfeed_dict\u001b[0m\u001b[0;34m)\u001b[0m\u001b[0;34m\u001b[0m\u001b[0;34m\u001b[0m\u001b[0m\n\u001b[1;32m    547\u001b[0m         \u001b[0;32mif\u001b[0m \u001b[0mbackend_name\u001b[0m \u001b[0;34m==\u001b[0m \u001b[0;34m\"tensorflow\"\u001b[0m\u001b[0;34m:\u001b[0m\u001b[0;34m\u001b[0m\u001b[0;34m\u001b[0m\u001b[0m\n\u001b[0;32m--> 548\u001b[0;31m             \u001b[0mouts\u001b[0m \u001b[0;34m=\u001b[0m \u001b[0moutputs_losses\u001b[0m\u001b[0;34m(\u001b[0m\u001b[0minputs\u001b[0m\u001b[0;34m,\u001b[0m \u001b[0mtargets\u001b[0m\u001b[0;34m,\u001b[0m \u001b[0mauxiliary_vars\u001b[0m\u001b[0;34m)\u001b[0m\u001b[0;34m\u001b[0m\u001b[0;34m\u001b[0m\u001b[0m\n\u001b[0m\u001b[1;32m    549\u001b[0m         \u001b[0;32melif\u001b[0m \u001b[0mbackend_name\u001b[0m \u001b[0;34m==\u001b[0m \u001b[0;34m\"pytorch\"\u001b[0m\u001b[0;34m:\u001b[0m\u001b[0;34m\u001b[0m\u001b[0;34m\u001b[0m\u001b[0m\n\u001b[1;32m    550\u001b[0m             \u001b[0mself\u001b[0m\u001b[0;34m.\u001b[0m\u001b[0mnet\u001b[0m\u001b[0;34m.\u001b[0m\u001b[0mrequires_grad_\u001b[0m\u001b[0;34m(\u001b[0m\u001b[0mrequires_grad\u001b[0m\u001b[0;34m=\u001b[0m\u001b[0;32mFalse\u001b[0m\u001b[0;34m)\u001b[0m\u001b[0;34m\u001b[0m\u001b[0;34m\u001b[0m\u001b[0m\n",
            "\u001b[0;32m/usr/local/lib/python3.10/dist-packages/tensorflow/python/util/traceback_utils.py\u001b[0m in \u001b[0;36merror_handler\u001b[0;34m(*args, **kwargs)\u001b[0m\n\u001b[1;32m    148\u001b[0m     \u001b[0mfiltered_tb\u001b[0m \u001b[0;34m=\u001b[0m \u001b[0;32mNone\u001b[0m\u001b[0;34m\u001b[0m\u001b[0;34m\u001b[0m\u001b[0m\n\u001b[1;32m    149\u001b[0m     \u001b[0;32mtry\u001b[0m\u001b[0;34m:\u001b[0m\u001b[0;34m\u001b[0m\u001b[0;34m\u001b[0m\u001b[0m\n\u001b[0;32m--> 150\u001b[0;31m       \u001b[0;32mreturn\u001b[0m \u001b[0mfn\u001b[0m\u001b[0;34m(\u001b[0m\u001b[0;34m*\u001b[0m\u001b[0margs\u001b[0m\u001b[0;34m,\u001b[0m \u001b[0;34m**\u001b[0m\u001b[0mkwargs\u001b[0m\u001b[0;34m)\u001b[0m\u001b[0;34m\u001b[0m\u001b[0;34m\u001b[0m\u001b[0m\n\u001b[0m\u001b[1;32m    151\u001b[0m     \u001b[0;32mexcept\u001b[0m \u001b[0mException\u001b[0m \u001b[0;32mas\u001b[0m \u001b[0me\u001b[0m\u001b[0;34m:\u001b[0m\u001b[0;34m\u001b[0m\u001b[0;34m\u001b[0m\u001b[0m\n\u001b[1;32m    152\u001b[0m       \u001b[0mfiltered_tb\u001b[0m \u001b[0;34m=\u001b[0m \u001b[0m_process_traceback_frames\u001b[0m\u001b[0;34m(\u001b[0m\u001b[0me\u001b[0m\u001b[0;34m.\u001b[0m\u001b[0m__traceback__\u001b[0m\u001b[0;34m)\u001b[0m\u001b[0;34m\u001b[0m\u001b[0;34m\u001b[0m\u001b[0m\n",
            "\u001b[0;32m/usr/local/lib/python3.10/dist-packages/tensorflow/python/eager/polymorphic_function/polymorphic_function.py\u001b[0m in \u001b[0;36m__call__\u001b[0;34m(self, *args, **kwds)\u001b[0m\n\u001b[1;32m    831\u001b[0m \u001b[0;34m\u001b[0m\u001b[0m\n\u001b[1;32m    832\u001b[0m       \u001b[0;32mwith\u001b[0m \u001b[0mOptionalXlaContext\u001b[0m\u001b[0;34m(\u001b[0m\u001b[0mself\u001b[0m\u001b[0;34m.\u001b[0m\u001b[0m_jit_compile\u001b[0m\u001b[0;34m)\u001b[0m\u001b[0;34m:\u001b[0m\u001b[0;34m\u001b[0m\u001b[0;34m\u001b[0m\u001b[0m\n\u001b[0;32m--> 833\u001b[0;31m         \u001b[0mresult\u001b[0m \u001b[0;34m=\u001b[0m \u001b[0mself\u001b[0m\u001b[0;34m.\u001b[0m\u001b[0m_call\u001b[0m\u001b[0;34m(\u001b[0m\u001b[0;34m*\u001b[0m\u001b[0margs\u001b[0m\u001b[0;34m,\u001b[0m \u001b[0;34m**\u001b[0m\u001b[0mkwds\u001b[0m\u001b[0;34m)\u001b[0m\u001b[0;34m\u001b[0m\u001b[0;34m\u001b[0m\u001b[0m\n\u001b[0m\u001b[1;32m    834\u001b[0m \u001b[0;34m\u001b[0m\u001b[0m\n\u001b[1;32m    835\u001b[0m       \u001b[0mnew_tracing_count\u001b[0m \u001b[0;34m=\u001b[0m \u001b[0mself\u001b[0m\u001b[0;34m.\u001b[0m\u001b[0mexperimental_get_tracing_count\u001b[0m\u001b[0;34m(\u001b[0m\u001b[0;34m)\u001b[0m\u001b[0;34m\u001b[0m\u001b[0;34m\u001b[0m\u001b[0m\n",
            "\u001b[0;32m/usr/local/lib/python3.10/dist-packages/tensorflow/python/eager/polymorphic_function/polymorphic_function.py\u001b[0m in \u001b[0;36m_call\u001b[0;34m(self, *args, **kwds)\u001b[0m\n\u001b[1;32m    867\u001b[0m       \u001b[0;31m# In this case we have created variables on the first call, so we run the\u001b[0m\u001b[0;34m\u001b[0m\u001b[0;34m\u001b[0m\u001b[0m\n\u001b[1;32m    868\u001b[0m       \u001b[0;31m# defunned version which is guaranteed to never create variables.\u001b[0m\u001b[0;34m\u001b[0m\u001b[0;34m\u001b[0m\u001b[0m\n\u001b[0;32m--> 869\u001b[0;31m       return tracing_compilation.call_function(\n\u001b[0m\u001b[1;32m    870\u001b[0m           \u001b[0margs\u001b[0m\u001b[0;34m,\u001b[0m \u001b[0mkwds\u001b[0m\u001b[0;34m,\u001b[0m \u001b[0mself\u001b[0m\u001b[0;34m.\u001b[0m\u001b[0m_no_variable_creation_config\u001b[0m\u001b[0;34m\u001b[0m\u001b[0;34m\u001b[0m\u001b[0m\n\u001b[1;32m    871\u001b[0m       )\n",
            "\u001b[0;32m/usr/local/lib/python3.10/dist-packages/tensorflow/python/eager/polymorphic_function/tracing_compilation.py\u001b[0m in \u001b[0;36mcall_function\u001b[0;34m(args, kwargs, tracing_options)\u001b[0m\n\u001b[1;32m    136\u001b[0m   \u001b[0;31m# Bind it ourselves to skip unnecessary canonicalization of default call.\u001b[0m\u001b[0;34m\u001b[0m\u001b[0;34m\u001b[0m\u001b[0m\n\u001b[1;32m    137\u001b[0m   \u001b[0mbound_args\u001b[0m \u001b[0;34m=\u001b[0m \u001b[0mfunction\u001b[0m\u001b[0;34m.\u001b[0m\u001b[0mfunction_type\u001b[0m\u001b[0;34m.\u001b[0m\u001b[0mbind\u001b[0m\u001b[0;34m(\u001b[0m\u001b[0;34m*\u001b[0m\u001b[0margs\u001b[0m\u001b[0;34m,\u001b[0m \u001b[0;34m**\u001b[0m\u001b[0mkwargs\u001b[0m\u001b[0;34m)\u001b[0m\u001b[0;34m\u001b[0m\u001b[0;34m\u001b[0m\u001b[0m\n\u001b[0;32m--> 138\u001b[0;31m   \u001b[0mflat_inputs\u001b[0m \u001b[0;34m=\u001b[0m \u001b[0mfunction\u001b[0m\u001b[0;34m.\u001b[0m\u001b[0mfunction_type\u001b[0m\u001b[0;34m.\u001b[0m\u001b[0munpack_inputs\u001b[0m\u001b[0;34m(\u001b[0m\u001b[0mbound_args\u001b[0m\u001b[0;34m)\u001b[0m\u001b[0;34m\u001b[0m\u001b[0;34m\u001b[0m\u001b[0m\n\u001b[0m\u001b[1;32m    139\u001b[0m   return function._call_flat(  # pylint: disable=protected-access\n\u001b[1;32m    140\u001b[0m       \u001b[0mflat_inputs\u001b[0m\u001b[0;34m,\u001b[0m \u001b[0mcaptured_inputs\u001b[0m\u001b[0;34m=\u001b[0m\u001b[0mfunction\u001b[0m\u001b[0;34m.\u001b[0m\u001b[0mcaptured_inputs\u001b[0m\u001b[0;34m\u001b[0m\u001b[0;34m\u001b[0m\u001b[0m\n",
            "\u001b[0;32m/usr/local/lib/python3.10/dist-packages/tensorflow/core/function/polymorphism/function_type.py\u001b[0m in \u001b[0;36munpack_inputs\u001b[0;34m(self, bound_parameters)\u001b[0m\n\u001b[1;32m    389\u001b[0m     \u001b[0;32mfor\u001b[0m \u001b[0mp\u001b[0m \u001b[0;32min\u001b[0m \u001b[0msorted_parameters\u001b[0m\u001b[0;34m:\u001b[0m\u001b[0;34m\u001b[0m\u001b[0;34m\u001b[0m\u001b[0m\n\u001b[1;32m    390\u001b[0m       flat.extend(\n\u001b[0;32m--> 391\u001b[0;31m           \u001b[0mp\u001b[0m\u001b[0;34m.\u001b[0m\u001b[0mtype_constraint\u001b[0m\u001b[0;34m.\u001b[0m\u001b[0mto_tensors\u001b[0m\u001b[0;34m(\u001b[0m\u001b[0mbound_parameters\u001b[0m\u001b[0;34m.\u001b[0m\u001b[0marguments\u001b[0m\u001b[0;34m[\u001b[0m\u001b[0mp\u001b[0m\u001b[0;34m.\u001b[0m\u001b[0mname\u001b[0m\u001b[0;34m]\u001b[0m\u001b[0;34m)\u001b[0m\u001b[0;34m\u001b[0m\u001b[0;34m\u001b[0m\u001b[0m\n\u001b[0m\u001b[1;32m    392\u001b[0m       )\n\u001b[1;32m    393\u001b[0m \u001b[0;34m\u001b[0m\u001b[0m\n",
            "\u001b[0;32m/usr/local/lib/python3.10/dist-packages/tensorflow/python/framework/tensor.py\u001b[0m in \u001b[0;36mto_tensors\u001b[0;34m(self, value)\u001b[0m\n\u001b[1;32m   1079\u001b[0m \u001b[0;34m\u001b[0m\u001b[0m\n\u001b[1;32m   1080\u001b[0m   \u001b[0;32mdef\u001b[0m \u001b[0mto_tensors\u001b[0m\u001b[0;34m(\u001b[0m\u001b[0mself\u001b[0m\u001b[0;34m,\u001b[0m \u001b[0mvalue\u001b[0m\u001b[0;34m)\u001b[0m\u001b[0;34m:\u001b[0m\u001b[0;34m\u001b[0m\u001b[0;34m\u001b[0m\u001b[0m\n\u001b[0;32m-> 1081\u001b[0;31m     \u001b[0mvalue\u001b[0m \u001b[0;34m=\u001b[0m \u001b[0mself\u001b[0m\u001b[0;34m.\u001b[0m\u001b[0mcast\u001b[0m\u001b[0;34m(\u001b[0m\u001b[0mvalue\u001b[0m\u001b[0;34m,\u001b[0m \u001b[0mtrace_type\u001b[0m\u001b[0;34m.\u001b[0m\u001b[0mInternalCastContext\u001b[0m\u001b[0;34m(\u001b[0m\u001b[0;34m)\u001b[0m\u001b[0;34m)\u001b[0m\u001b[0;34m\u001b[0m\u001b[0;34m\u001b[0m\u001b[0m\n\u001b[0m\u001b[1;32m   1082\u001b[0m     \u001b[0;32mif\u001b[0m \u001b[0;32mnot\u001b[0m \u001b[0mvalue\u001b[0m\u001b[0;34m.\u001b[0m\u001b[0mshape\u001b[0m\u001b[0;34m.\u001b[0m\u001b[0mis_subtype_of\u001b[0m\u001b[0;34m(\u001b[0m\u001b[0mself\u001b[0m\u001b[0;34m.\u001b[0m\u001b[0mshape\u001b[0m\u001b[0;34m)\u001b[0m\u001b[0;34m:\u001b[0m\u001b[0;34m\u001b[0m\u001b[0;34m\u001b[0m\u001b[0m\n\u001b[1;32m   1083\u001b[0m       raise TypeError(\n",
            "\u001b[0;32m/usr/local/lib/python3.10/dist-packages/tensorflow/python/framework/tensor.py\u001b[0m in \u001b[0;36mcast\u001b[0;34m(self, value, casting_context)\u001b[0m\n\u001b[1;32m   1106\u001b[0m \u001b[0;34m\u001b[0m\u001b[0m\n\u001b[1;32m   1107\u001b[0m     \u001b[0;32mif\u001b[0m \u001b[0;32mnot\u001b[0m \u001b[0misinstance\u001b[0m\u001b[0;34m(\u001b[0m\u001b[0mvalue\u001b[0m\u001b[0;34m,\u001b[0m \u001b[0mTensor\u001b[0m\u001b[0;34m)\u001b[0m\u001b[0;34m:\u001b[0m\u001b[0;34m\u001b[0m\u001b[0;34m\u001b[0m\u001b[0m\n\u001b[0;32m-> 1108\u001b[0;31m       \u001b[0mvalue\u001b[0m \u001b[0;34m=\u001b[0m \u001b[0mtensor_conversion_registry\u001b[0m\u001b[0;34m.\u001b[0m\u001b[0mconvert\u001b[0m\u001b[0;34m(\u001b[0m\u001b[0mvalue\u001b[0m\u001b[0;34m,\u001b[0m \u001b[0mself\u001b[0m\u001b[0;34m.\u001b[0m\u001b[0mdtype\u001b[0m\u001b[0;34m)\u001b[0m\u001b[0;34m\u001b[0m\u001b[0;34m\u001b[0m\u001b[0m\n\u001b[0m\u001b[1;32m   1109\u001b[0m     \u001b[0mvalue_spec\u001b[0m \u001b[0;34m=\u001b[0m \u001b[0mTensorSpec\u001b[0m\u001b[0;34m(\u001b[0m\u001b[0mvalue\u001b[0m\u001b[0;34m.\u001b[0m\u001b[0mshape\u001b[0m\u001b[0;34m,\u001b[0m \u001b[0mvalue\u001b[0m\u001b[0;34m.\u001b[0m\u001b[0mdtype\u001b[0m\u001b[0;34m,\u001b[0m \u001b[0mself\u001b[0m\u001b[0;34m.\u001b[0m\u001b[0mname\u001b[0m\u001b[0;34m)\u001b[0m\u001b[0;34m\u001b[0m\u001b[0;34m\u001b[0m\u001b[0m\n\u001b[1;32m   1110\u001b[0m \u001b[0;34m\u001b[0m\u001b[0m\n",
            "\u001b[0;32m/usr/local/lib/python3.10/dist-packages/tensorflow/python/framework/tensor_conversion_registry.py\u001b[0m in \u001b[0;36mconvert\u001b[0;34m(value, dtype, name, as_ref, preferred_dtype, accepted_result_types)\u001b[0m\n\u001b[1;32m    232\u001b[0m \u001b[0;34m\u001b[0m\u001b[0m\n\u001b[1;32m    233\u001b[0m     \u001b[0;32mif\u001b[0m \u001b[0mret\u001b[0m \u001b[0;32mis\u001b[0m \u001b[0;32mNone\u001b[0m\u001b[0;34m:\u001b[0m\u001b[0;34m\u001b[0m\u001b[0;34m\u001b[0m\u001b[0m\n\u001b[0;32m--> 234\u001b[0;31m       \u001b[0mret\u001b[0m \u001b[0;34m=\u001b[0m \u001b[0mconversion_func\u001b[0m\u001b[0;34m(\u001b[0m\u001b[0mvalue\u001b[0m\u001b[0;34m,\u001b[0m \u001b[0mdtype\u001b[0m\u001b[0;34m=\u001b[0m\u001b[0mdtype\u001b[0m\u001b[0;34m,\u001b[0m \u001b[0mname\u001b[0m\u001b[0;34m=\u001b[0m\u001b[0mname\u001b[0m\u001b[0;34m,\u001b[0m \u001b[0mas_ref\u001b[0m\u001b[0;34m=\u001b[0m\u001b[0mas_ref\u001b[0m\u001b[0;34m)\u001b[0m\u001b[0;34m\u001b[0m\u001b[0;34m\u001b[0m\u001b[0m\n\u001b[0m\u001b[1;32m    235\u001b[0m \u001b[0;34m\u001b[0m\u001b[0m\n\u001b[1;32m    236\u001b[0m     \u001b[0;32mif\u001b[0m \u001b[0mret\u001b[0m \u001b[0;32mis\u001b[0m \u001b[0mNotImplemented\u001b[0m\u001b[0;34m:\u001b[0m\u001b[0;34m\u001b[0m\u001b[0;34m\u001b[0m\u001b[0m\n",
            "\u001b[0;32m/usr/local/lib/python3.10/dist-packages/tensorflow/python/framework/constant_tensor_conversion.py\u001b[0m in \u001b[0;36m_constant_tensor_conversion_function\u001b[0;34m(v, dtype, name, as_ref)\u001b[0m\n\u001b[1;32m     27\u001b[0m \u001b[0;34m\u001b[0m\u001b[0m\n\u001b[1;32m     28\u001b[0m   \u001b[0m_\u001b[0m \u001b[0;34m=\u001b[0m \u001b[0mas_ref\u001b[0m\u001b[0;34m\u001b[0m\u001b[0;34m\u001b[0m\u001b[0m\n\u001b[0;32m---> 29\u001b[0;31m   \u001b[0;32mreturn\u001b[0m \u001b[0mconstant_op\u001b[0m\u001b[0;34m.\u001b[0m\u001b[0mconstant\u001b[0m\u001b[0;34m(\u001b[0m\u001b[0mv\u001b[0m\u001b[0;34m,\u001b[0m \u001b[0mdtype\u001b[0m\u001b[0;34m=\u001b[0m\u001b[0mdtype\u001b[0m\u001b[0;34m,\u001b[0m \u001b[0mname\u001b[0m\u001b[0;34m=\u001b[0m\u001b[0mname\u001b[0m\u001b[0;34m)\u001b[0m\u001b[0;34m\u001b[0m\u001b[0;34m\u001b[0m\u001b[0m\n\u001b[0m\u001b[1;32m     30\u001b[0m \u001b[0;34m\u001b[0m\u001b[0m\n\u001b[1;32m     31\u001b[0m \u001b[0;34m\u001b[0m\u001b[0m\n",
            "\u001b[0;32m/usr/local/lib/python3.10/dist-packages/tensorflow/python/ops/weak_tensor_ops.py\u001b[0m in \u001b[0;36mwrapper\u001b[0;34m(*args, **kwargs)\u001b[0m\n\u001b[1;32m    140\u001b[0m   \u001b[0;32mdef\u001b[0m \u001b[0mwrapper\u001b[0m\u001b[0;34m(\u001b[0m\u001b[0;34m*\u001b[0m\u001b[0margs\u001b[0m\u001b[0;34m,\u001b[0m \u001b[0;34m**\u001b[0m\u001b[0mkwargs\u001b[0m\u001b[0;34m)\u001b[0m\u001b[0;34m:\u001b[0m\u001b[0;34m\u001b[0m\u001b[0;34m\u001b[0m\u001b[0m\n\u001b[1;32m    141\u001b[0m     \u001b[0;32mif\u001b[0m \u001b[0;32mnot\u001b[0m \u001b[0mops\u001b[0m\u001b[0;34m.\u001b[0m\u001b[0mis_auto_dtype_conversion_enabled\u001b[0m\u001b[0;34m(\u001b[0m\u001b[0;34m)\u001b[0m\u001b[0;34m:\u001b[0m\u001b[0;34m\u001b[0m\u001b[0;34m\u001b[0m\u001b[0m\n\u001b[0;32m--> 142\u001b[0;31m       \u001b[0;32mreturn\u001b[0m \u001b[0mop\u001b[0m\u001b[0;34m(\u001b[0m\u001b[0;34m*\u001b[0m\u001b[0margs\u001b[0m\u001b[0;34m,\u001b[0m \u001b[0;34m**\u001b[0m\u001b[0mkwargs\u001b[0m\u001b[0;34m)\u001b[0m\u001b[0;34m\u001b[0m\u001b[0;34m\u001b[0m\u001b[0m\n\u001b[0m\u001b[1;32m    143\u001b[0m     \u001b[0mbound_arguments\u001b[0m \u001b[0;34m=\u001b[0m \u001b[0msignature\u001b[0m\u001b[0;34m.\u001b[0m\u001b[0mbind\u001b[0m\u001b[0;34m(\u001b[0m\u001b[0;34m*\u001b[0m\u001b[0margs\u001b[0m\u001b[0;34m,\u001b[0m \u001b[0;34m**\u001b[0m\u001b[0mkwargs\u001b[0m\u001b[0;34m)\u001b[0m\u001b[0;34m\u001b[0m\u001b[0;34m\u001b[0m\u001b[0m\n\u001b[1;32m    144\u001b[0m     \u001b[0mbound_arguments\u001b[0m\u001b[0;34m.\u001b[0m\u001b[0mapply_defaults\u001b[0m\u001b[0;34m(\u001b[0m\u001b[0;34m)\u001b[0m\u001b[0;34m\u001b[0m\u001b[0;34m\u001b[0m\u001b[0m\n",
            "\u001b[0;32m/usr/local/lib/python3.10/dist-packages/tensorflow/python/framework/constant_op.py\u001b[0m in \u001b[0;36mconstant\u001b[0;34m(value, dtype, shape, name)\u001b[0m\n\u001b[1;32m    274\u001b[0m     \u001b[0mValueError\u001b[0m\u001b[0;34m:\u001b[0m \u001b[0;32mif\u001b[0m \u001b[0mcalled\u001b[0m \u001b[0mon\u001b[0m \u001b[0ma\u001b[0m \u001b[0msymbolic\u001b[0m \u001b[0mtensor\u001b[0m\u001b[0;34m.\u001b[0m\u001b[0;34m\u001b[0m\u001b[0;34m\u001b[0m\u001b[0m\n\u001b[1;32m    275\u001b[0m   \"\"\"\n\u001b[0;32m--> 276\u001b[0;31m   return _constant_impl(value, dtype, shape, name, verify_shape=False,\n\u001b[0m\u001b[1;32m    277\u001b[0m                         allow_broadcast=True)\n\u001b[1;32m    278\u001b[0m \u001b[0;34m\u001b[0m\u001b[0m\n",
            "\u001b[0;32m/usr/local/lib/python3.10/dist-packages/tensorflow/python/framework/constant_op.py\u001b[0m in \u001b[0;36m_constant_impl\u001b[0;34m(value, dtype, shape, name, verify_shape, allow_broadcast)\u001b[0m\n\u001b[1;32m    287\u001b[0m       \u001b[0;32mwith\u001b[0m \u001b[0mtrace\u001b[0m\u001b[0;34m.\u001b[0m\u001b[0mTrace\u001b[0m\u001b[0;34m(\u001b[0m\u001b[0;34m\"tf.constant\"\u001b[0m\u001b[0;34m)\u001b[0m\u001b[0;34m:\u001b[0m\u001b[0;34m\u001b[0m\u001b[0;34m\u001b[0m\u001b[0m\n\u001b[1;32m    288\u001b[0m         \u001b[0;32mreturn\u001b[0m \u001b[0m_constant_eager_impl\u001b[0m\u001b[0;34m(\u001b[0m\u001b[0mctx\u001b[0m\u001b[0;34m,\u001b[0m \u001b[0mvalue\u001b[0m\u001b[0;34m,\u001b[0m \u001b[0mdtype\u001b[0m\u001b[0;34m,\u001b[0m \u001b[0mshape\u001b[0m\u001b[0;34m,\u001b[0m \u001b[0mverify_shape\u001b[0m\u001b[0;34m)\u001b[0m\u001b[0;34m\u001b[0m\u001b[0;34m\u001b[0m\u001b[0m\n\u001b[0;32m--> 289\u001b[0;31m     \u001b[0;32mreturn\u001b[0m \u001b[0m_constant_eager_impl\u001b[0m\u001b[0;34m(\u001b[0m\u001b[0mctx\u001b[0m\u001b[0;34m,\u001b[0m \u001b[0mvalue\u001b[0m\u001b[0;34m,\u001b[0m \u001b[0mdtype\u001b[0m\u001b[0;34m,\u001b[0m \u001b[0mshape\u001b[0m\u001b[0;34m,\u001b[0m \u001b[0mverify_shape\u001b[0m\u001b[0;34m)\u001b[0m\u001b[0;34m\u001b[0m\u001b[0;34m\u001b[0m\u001b[0m\n\u001b[0m\u001b[1;32m    290\u001b[0m \u001b[0;34m\u001b[0m\u001b[0m\n\u001b[1;32m    291\u001b[0m   const_tensor = ops._create_graph_constant(  # pylint: disable=protected-access\n",
            "\u001b[0;32m/usr/local/lib/python3.10/dist-packages/tensorflow/python/framework/constant_op.py\u001b[0m in \u001b[0;36m_constant_eager_impl\u001b[0;34m(ctx, value, dtype, shape, verify_shape)\u001b[0m\n\u001b[1;32m    299\u001b[0m ) -> ops._EagerTensorBase:\n\u001b[1;32m    300\u001b[0m   \u001b[0;34m\"\"\"Creates a constant on the current device.\"\"\"\u001b[0m\u001b[0;34m\u001b[0m\u001b[0;34m\u001b[0m\u001b[0m\n\u001b[0;32m--> 301\u001b[0;31m   \u001b[0mt\u001b[0m \u001b[0;34m=\u001b[0m \u001b[0mconvert_to_eager_tensor\u001b[0m\u001b[0;34m(\u001b[0m\u001b[0mvalue\u001b[0m\u001b[0;34m,\u001b[0m \u001b[0mctx\u001b[0m\u001b[0;34m,\u001b[0m \u001b[0mdtype\u001b[0m\u001b[0;34m)\u001b[0m\u001b[0;34m\u001b[0m\u001b[0;34m\u001b[0m\u001b[0m\n\u001b[0m\u001b[1;32m    302\u001b[0m   \u001b[0;32mif\u001b[0m \u001b[0mshape\u001b[0m \u001b[0;32mis\u001b[0m \u001b[0;32mNone\u001b[0m\u001b[0;34m:\u001b[0m\u001b[0;34m\u001b[0m\u001b[0;34m\u001b[0m\u001b[0m\n\u001b[1;32m    303\u001b[0m     \u001b[0;32mreturn\u001b[0m \u001b[0mt\u001b[0m\u001b[0;34m\u001b[0m\u001b[0;34m\u001b[0m\u001b[0m\n",
            "\u001b[0;32m/usr/local/lib/python3.10/dist-packages/tensorflow/python/framework/constant_op.py\u001b[0m in \u001b[0;36mconvert_to_eager_tensor\u001b[0;34m(value, ctx, dtype)\u001b[0m\n\u001b[1;32m    106\u001b[0m       \u001b[0mdtype\u001b[0m \u001b[0;34m=\u001b[0m \u001b[0mdtypes\u001b[0m\u001b[0;34m.\u001b[0m\u001b[0mas_dtype\u001b[0m\u001b[0;34m(\u001b[0m\u001b[0mdtype\u001b[0m\u001b[0;34m)\u001b[0m\u001b[0;34m.\u001b[0m\u001b[0mas_datatype_enum\u001b[0m\u001b[0;34m\u001b[0m\u001b[0;34m\u001b[0m\u001b[0m\n\u001b[1;32m    107\u001b[0m   \u001b[0mctx\u001b[0m\u001b[0;34m.\u001b[0m\u001b[0mensure_initialized\u001b[0m\u001b[0;34m(\u001b[0m\u001b[0;34m)\u001b[0m\u001b[0;34m\u001b[0m\u001b[0;34m\u001b[0m\u001b[0m\n\u001b[0;32m--> 108\u001b[0;31m   \u001b[0;32mreturn\u001b[0m \u001b[0mops\u001b[0m\u001b[0;34m.\u001b[0m\u001b[0mEagerTensor\u001b[0m\u001b[0;34m(\u001b[0m\u001b[0mvalue\u001b[0m\u001b[0;34m,\u001b[0m \u001b[0mctx\u001b[0m\u001b[0;34m.\u001b[0m\u001b[0mdevice_name\u001b[0m\u001b[0;34m,\u001b[0m \u001b[0mdtype\u001b[0m\u001b[0;34m)\u001b[0m\u001b[0;34m\u001b[0m\u001b[0;34m\u001b[0m\u001b[0m\n\u001b[0m\u001b[1;32m    109\u001b[0m \u001b[0;34m\u001b[0m\u001b[0m\n\u001b[1;32m    110\u001b[0m \u001b[0;34m\u001b[0m\u001b[0m\n",
            "\u001b[0;31mKeyboardInterrupt\u001b[0m: "
          ]
        }
      ],
      "source": [
        "set_seed()\n",
        "\n",
        "kdv.resample = True\n",
        "kdv.resample_period = 1000\n",
        "\n",
        "kdv.model.compile(\"adam\", lr=1e-2)\n",
        "losshistory, train_state = kdv.train(iterations=3_000)\n",
        "\n",
        "kdv.model.compile(\"adam\", lr=5e-3)\n",
        "losshistory, train_state = kdv.train(iterations=3_000)\n",
        "\n",
        "kdv.model.compile(\"adam\", lr=1e-3)\n",
        "losshistory, train_state = kdv.train(iterations=4_000)\n",
        "\n",
        "kdv.model.compile(\"adam\", lr=7e-4)\n",
        "losshistory, train_state = kdv.train(iterations=5_000)\n",
        "\n",
        "kdv.model.compile(\"adam\", lr=5e-4)\n",
        "losshistory, train_state = kdv.train(iterations=5_000)\n",
        "\n",
        "kdv.model.compile(\"adam\", lr=3e-4)\n",
        "losshistory, train_state = kdv.train(iterations=5_000)\n",
        "\n",
        "kdv.model.compile(\"adam\", lr=1e-4)\n",
        "losshistory, train_state = kdv.train(iterations=15_000)\n",
        "\n",
        "kdv.model.compile(\"adam\", lr=7e-5)\n",
        "losshistory, train_state = kdv.train(iterations=15_000)\n",
        "\n",
        "kdv.model.compile(\"adam\", lr=5e-5)\n",
        "losshistory, train_state = kdv.train(iterations=15_000)\n",
        "\n",
        "kdv.model.compile(\"adam\", lr=3e-5)\n",
        "losshistory, train_state = kdv.train(iterations=15_000)\n",
        "\n",
        "kdv.model.compile(\"adam\", lr=1e-5)\n",
        "losshistory, train_state = kdv.train(iterations=15_000)\n",
        "\n",
        "dde.saveplot(losshistory, train_state, issave=True, isplot=True)"
      ]
    },
    {
      "cell_type": "code",
      "execution_count": null,
      "metadata": {
        "id": "Mm4i-KThK6a3"
      },
      "outputs": [],
      "source": [
        "kdv.model.save(\"model/ckpt\")"
      ]
    },
    {
      "cell_type": "code",
      "execution_count": null,
      "metadata": {
        "id": "6zaxB5JyAI9j"
      },
      "outputs": [],
      "source": [
        "kdv.restore_model(\"ckpt-100000.weights.h5\")"
      ]
    },
    {
      "cell_type": "code",
      "execution_count": null,
      "metadata": {
        "id": "24s-hmz3g78E"
      },
      "outputs": [],
      "source": [
        "kdv.dde_l2relerror_scatter(grid_size=100)\n",
        "# kdv.gif(a=2)\n",
        "\n",
        "# kdv.save_data()"
      ]
    },
    {
      "cell_type": "code",
      "execution_count": null,
      "metadata": {
        "id": "9PXPp9Vyg-pk"
      },
      "outputs": [],
      "source": [
        "for key, value in (kdv.net_data | kdv.error_data).items():\n",
        "  print(f\"{key}: {value}\")"
      ]
    },
    {
      "cell_type": "code",
      "execution_count": null,
      "metadata": {
        "id": "F0ODLnCHxQzg"
      },
      "outputs": [],
      "source": [
        "!zip -r model.zip model -q"
      ]
    },
    {
      "cell_type": "code",
      "execution_count": null,
      "metadata": {
        "id": "KPteuYgzxX-u"
      },
      "outputs": [],
      "source": [
        "from google.colab import files\n",
        "files.download(\"model.zip\")"
      ]
    },
    {
      "cell_type": "markdown",
      "metadata": {
        "id": "XxD2EaUQ_h4T"
      },
      "source": [
        "#**mKdV**"
      ]
    },
    {
      "cell_type": "code",
      "execution_count": null,
      "metadata": {
        "id": "_rS_ZzjH_meu"
      },
      "outputs": [],
      "source": [
        "set_seed()\n",
        "net_data = {\n",
        "    \"neurons\" : 60,\n",
        "    \"layers\" : 5,\n",
        "    \"ND\" :10_000,\n",
        "    \"Nb\" : 4_000,\n",
        "    \"N0\" : 4_000,\n",
        "}\n",
        "mkdv = PDE(p=2, net_data=net_data)"
      ]
    },
    {
      "cell_type": "code",
      "execution_count": null,
      "metadata": {
        "id": "QsrKKf2A3cl8"
      },
      "outputs": [],
      "source": [
        "mkdv.xmin, mkdv.xmax = [-10, 1], [10, 2]\n",
        "mkdv.tmax = 15\n",
        "mkdv.borda = \"exact\"\n",
        "mkdv.set_data()"
      ]
    },
    {
      "cell_type": "code",
      "execution_count": null,
      "metadata": {
        "colab": {
          "base_uri": "https://localhost:8080/"
        },
        "id": "ju6Lp-0Nu7F0",
        "outputId": "a843f38c-8dd4-4e30-af4f-21fcc13ea0a5"
      },
      "outputs": [
        {
          "name": "stdout",
          "output_type": "stream",
          "text": [
            "Compiling model...\n",
            "'compile' took 0.094834 s\n",
            "\n",
            "Compiling model...\n",
            "'compile' took 0.005641 s\n",
            "\n"
          ]
        }
      ],
      "source": [
        "mkdv.restore_model(\"ckpt-100000.weights.h5\")"
      ]
    },
    {
      "cell_type": "code",
      "execution_count": null,
      "metadata": {
        "id": "1es-b7CfR0RY"
      },
      "outputs": [],
      "source": [
        "def TRAINLR(iterations, initial_learning_rate, final_learning_rate):\n",
        "\n",
        "  lr_schedule = keras.optimizers.schedules.ExponentialDecay(\n",
        "      initial_learning_rate,\n",
        "      decay_steps=iterations,\n",
        "      decay_rate=final_learning_rate/initial_learning_rate,\n",
        "      staircase=False)\n",
        "\n",
        "  mkdv.model.compile(keras.optimizers.Adam(learning_rate=lr_schedule))\n",
        "\n",
        "  mkdv.train(iterations=iterations)\n"
      ]
    },
    {
      "cell_type": "code",
      "execution_count": null,
      "metadata": {
        "colab": {
          "base_uri": "https://localhost:8080/",
          "height": 478
        },
        "collapsed": true,
        "id": "J1GXJzNMiFh1",
        "outputId": "c56ac2db-bfb9-4426-99f0-c53237d24910"
      },
      "outputs": [
        {
          "name": "stdout",
          "output_type": "stream",
          "text": [
            "Compiling model...\n",
            "'compile' took 0.000717 s\n",
            "\n",
            "Training model...\n",
            "\n",
            "Step      Train loss                        Test loss                         Test metric\n",
            "0         [3.45e-03, 1.05e-01, 3.71e-01]    [3.45e-03, 1.05e-01, 3.71e-01]    []  \n"
          ]
        },
        {
          "ename": "KeyboardInterrupt",
          "evalue": "",
          "output_type": "error",
          "traceback": [
            "\u001b[0;31m---------------------------------------------------------------------------\u001b[0m",
            "\u001b[0;31mKeyboardInterrupt\u001b[0m                         Traceback (most recent call last)",
            "\u001b[0;32m<ipython-input-15-435da52387d9>\u001b[0m in \u001b[0;36m<cell line: 40>\u001b[0;34m()\u001b[0m\n\u001b[1;32m     38\u001b[0m \u001b[0;34m\u001b[0m\u001b[0m\n\u001b[1;32m     39\u001b[0m \u001b[0mmkdv\u001b[0m\u001b[0;34m.\u001b[0m\u001b[0mmodel\u001b[0m\u001b[0;34m.\u001b[0m\u001b[0mcompile\u001b[0m\u001b[0;34m(\u001b[0m\u001b[0;34m\"L-BFGS\"\u001b[0m\u001b[0;34m)\u001b[0m\u001b[0;34m\u001b[0m\u001b[0;34m\u001b[0m\u001b[0m\n\u001b[0;32m---> 40\u001b[0;31m \u001b[0mlosshistory\u001b[0m\u001b[0;34m,\u001b[0m \u001b[0mtrain_state\u001b[0m \u001b[0;34m=\u001b[0m \u001b[0mmkdv\u001b[0m\u001b[0;34m.\u001b[0m\u001b[0mtrain\u001b[0m\u001b[0;34m(\u001b[0m\u001b[0miterations\u001b[0m\u001b[0;34m=\u001b[0m\u001b[0;36m100_000\u001b[0m\u001b[0;34m)\u001b[0m\u001b[0;34m\u001b[0m\u001b[0;34m\u001b[0m\u001b[0m\n\u001b[0m\u001b[1;32m     41\u001b[0m \u001b[0;34m\u001b[0m\u001b[0m\n\u001b[1;32m     42\u001b[0m \u001b[0mdde\u001b[0m\u001b[0;34m.\u001b[0m\u001b[0msaveplot\u001b[0m\u001b[0;34m(\u001b[0m\u001b[0mlosshistory\u001b[0m\u001b[0;34m,\u001b[0m \u001b[0mtrain_state\u001b[0m\u001b[0;34m,\u001b[0m \u001b[0missave\u001b[0m\u001b[0;34m=\u001b[0m\u001b[0;32mTrue\u001b[0m\u001b[0;34m,\u001b[0m \u001b[0misplot\u001b[0m\u001b[0;34m=\u001b[0m\u001b[0;32mTrue\u001b[0m\u001b[0;34m)\u001b[0m\u001b[0;34m\u001b[0m\u001b[0;34m\u001b[0m\u001b[0m\n",
            "\u001b[0;32m<ipython-input-4-4b41d1ca8270>\u001b[0m in \u001b[0;36mtrain\u001b[0;34m(self, iterations)\u001b[0m\n\u001b[1;32m    102\u001b[0m     \u001b[0;32mif\u001b[0m \u001b[0mself\u001b[0m\u001b[0;34m.\u001b[0m\u001b[0mresample\u001b[0m\u001b[0;34m:\u001b[0m\u001b[0;34m\u001b[0m\u001b[0;34m\u001b[0m\u001b[0m\n\u001b[1;32m    103\u001b[0m       \u001b[0mresampler\u001b[0m \u001b[0;34m=\u001b[0m \u001b[0mdde\u001b[0m\u001b[0;34m.\u001b[0m\u001b[0mcallbacks\u001b[0m\u001b[0;34m.\u001b[0m\u001b[0mPDEPointResampler\u001b[0m\u001b[0;34m(\u001b[0m\u001b[0mperiod\u001b[0m\u001b[0;34m=\u001b[0m\u001b[0mself\u001b[0m\u001b[0;34m.\u001b[0m\u001b[0mresample_period\u001b[0m\u001b[0;34m)\u001b[0m\u001b[0;34m\u001b[0m\u001b[0;34m\u001b[0m\u001b[0m\n\u001b[0;32m--> 104\u001b[0;31m       return self.model.train(iterations=iterations,\n\u001b[0m\u001b[1;32m    105\u001b[0m                         \u001b[0mdisplay_every\u001b[0m\u001b[0;34m=\u001b[0m\u001b[0mdisplay_every\u001b[0m\u001b[0;34m,\u001b[0m\u001b[0;34m\u001b[0m\u001b[0;34m\u001b[0m\u001b[0m\n\u001b[1;32m    106\u001b[0m                         callbacks=[resampler])\n",
            "\u001b[0;32m/usr/local/lib/python3.10/dist-packages/deepxde/utils/internal.py\u001b[0m in \u001b[0;36mwrapper\u001b[0;34m(*args, **kwargs)\u001b[0m\n\u001b[1;32m     20\u001b[0m     \u001b[0;32mdef\u001b[0m \u001b[0mwrapper\u001b[0m\u001b[0;34m(\u001b[0m\u001b[0;34m*\u001b[0m\u001b[0margs\u001b[0m\u001b[0;34m,\u001b[0m \u001b[0;34m**\u001b[0m\u001b[0mkwargs\u001b[0m\u001b[0;34m)\u001b[0m\u001b[0;34m:\u001b[0m\u001b[0;34m\u001b[0m\u001b[0;34m\u001b[0m\u001b[0m\n\u001b[1;32m     21\u001b[0m         \u001b[0mts\u001b[0m \u001b[0;34m=\u001b[0m \u001b[0mtimeit\u001b[0m\u001b[0;34m.\u001b[0m\u001b[0mdefault_timer\u001b[0m\u001b[0;34m(\u001b[0m\u001b[0;34m)\u001b[0m\u001b[0;34m\u001b[0m\u001b[0;34m\u001b[0m\u001b[0m\n\u001b[0;32m---> 22\u001b[0;31m         \u001b[0mresult\u001b[0m \u001b[0;34m=\u001b[0m \u001b[0mf\u001b[0m\u001b[0;34m(\u001b[0m\u001b[0;34m*\u001b[0m\u001b[0margs\u001b[0m\u001b[0;34m,\u001b[0m \u001b[0;34m**\u001b[0m\u001b[0mkwargs\u001b[0m\u001b[0;34m)\u001b[0m\u001b[0;34m\u001b[0m\u001b[0;34m\u001b[0m\u001b[0m\n\u001b[0m\u001b[1;32m     23\u001b[0m         \u001b[0mte\u001b[0m \u001b[0;34m=\u001b[0m \u001b[0mtimeit\u001b[0m\u001b[0;34m.\u001b[0m\u001b[0mdefault_timer\u001b[0m\u001b[0;34m(\u001b[0m\u001b[0;34m)\u001b[0m\u001b[0;34m\u001b[0m\u001b[0;34m\u001b[0m\u001b[0m\n\u001b[1;32m     24\u001b[0m         \u001b[0;32mif\u001b[0m \u001b[0mconfig\u001b[0m\u001b[0;34m.\u001b[0m\u001b[0mrank\u001b[0m \u001b[0;34m==\u001b[0m \u001b[0;36m0\u001b[0m\u001b[0;34m:\u001b[0m\u001b[0;34m\u001b[0m\u001b[0;34m\u001b[0m\u001b[0m\n",
            "\u001b[0;32m/usr/local/lib/python3.10/dist-packages/deepxde/model.py\u001b[0m in \u001b[0;36mtrain\u001b[0;34m(self, iterations, batch_size, display_every, disregard_previous_best, callbacks, model_restore_path, model_save_path, epochs)\u001b[0m\n\u001b[1;32m    647\u001b[0m                 \u001b[0mself\u001b[0m\u001b[0;34m.\u001b[0m\u001b[0m_train_tensorflow_compat_v1_scipy\u001b[0m\u001b[0;34m(\u001b[0m\u001b[0mdisplay_every\u001b[0m\u001b[0;34m)\u001b[0m\u001b[0;34m\u001b[0m\u001b[0;34m\u001b[0m\u001b[0m\n\u001b[1;32m    648\u001b[0m             \u001b[0;32melif\u001b[0m \u001b[0mbackend_name\u001b[0m \u001b[0;34m==\u001b[0m \u001b[0;34m\"tensorflow\"\u001b[0m\u001b[0;34m:\u001b[0m\u001b[0;34m\u001b[0m\u001b[0;34m\u001b[0m\u001b[0m\n\u001b[0;32m--> 649\u001b[0;31m                 \u001b[0mself\u001b[0m\u001b[0;34m.\u001b[0m\u001b[0m_train_tensorflow_tfp\u001b[0m\u001b[0;34m(\u001b[0m\u001b[0;34m)\u001b[0m\u001b[0;34m\u001b[0m\u001b[0;34m\u001b[0m\u001b[0m\n\u001b[0m\u001b[1;32m    650\u001b[0m             \u001b[0;32melif\u001b[0m \u001b[0mbackend_name\u001b[0m \u001b[0;34m==\u001b[0m \u001b[0;34m\"pytorch\"\u001b[0m\u001b[0;34m:\u001b[0m\u001b[0;34m\u001b[0m\u001b[0;34m\u001b[0m\u001b[0m\n\u001b[1;32m    651\u001b[0m                 \u001b[0mself\u001b[0m\u001b[0;34m.\u001b[0m\u001b[0m_train_pytorch_lbfgs\u001b[0m\u001b[0;34m(\u001b[0m\u001b[0;34m)\u001b[0m\u001b[0;34m\u001b[0m\u001b[0;34m\u001b[0m\u001b[0m\n",
            "\u001b[0;32m/usr/local/lib/python3.10/dist-packages/deepxde/model.py\u001b[0m in \u001b[0;36m_train_tensorflow_tfp\u001b[0;34m(self)\u001b[0m\n\u001b[1;32m    749\u001b[0m                 \u001b[0;34m*\u001b[0m\u001b[0mself\u001b[0m\u001b[0;34m.\u001b[0m\u001b[0mdata\u001b[0m\u001b[0;34m.\u001b[0m\u001b[0mtrain_next_batch\u001b[0m\u001b[0;34m(\u001b[0m\u001b[0mself\u001b[0m\u001b[0;34m.\u001b[0m\u001b[0mbatch_size\u001b[0m\u001b[0;34m)\u001b[0m\u001b[0;34m\u001b[0m\u001b[0;34m\u001b[0m\u001b[0m\n\u001b[1;32m    750\u001b[0m             )\n\u001b[0;32m--> 751\u001b[0;31m             results = self.train_step(\n\u001b[0m\u001b[1;32m    752\u001b[0m                 \u001b[0mself\u001b[0m\u001b[0;34m.\u001b[0m\u001b[0mtrain_state\u001b[0m\u001b[0;34m.\u001b[0m\u001b[0mX_train\u001b[0m\u001b[0;34m,\u001b[0m\u001b[0;34m\u001b[0m\u001b[0;34m\u001b[0m\u001b[0m\n\u001b[1;32m    753\u001b[0m                 \u001b[0mself\u001b[0m\u001b[0;34m.\u001b[0m\u001b[0mtrain_state\u001b[0m\u001b[0;34m.\u001b[0m\u001b[0my_train\u001b[0m\u001b[0;34m,\u001b[0m\u001b[0;34m\u001b[0m\u001b[0;34m\u001b[0m\u001b[0m\n",
            "\u001b[0;32m/usr/local/lib/python3.10/dist-packages/deepxde/model.py\u001b[0m in \u001b[0;36mtrain_step_tfp\u001b[0;34m(inputs, targets, auxiliary_vars, previous_optimizer_results)\u001b[0m\n\u001b[1;32m    261\u001b[0m                 \u001b[0mself\u001b[0m\u001b[0;34m.\u001b[0m\u001b[0mnet\u001b[0m\u001b[0;34m.\u001b[0m\u001b[0mtrainable_variables\u001b[0m \u001b[0;34m+\u001b[0m \u001b[0mself\u001b[0m\u001b[0;34m.\u001b[0m\u001b[0mexternal_trainable_variables\u001b[0m\u001b[0;34m\u001b[0m\u001b[0;34m\u001b[0m\u001b[0m\n\u001b[1;32m    262\u001b[0m             )\n\u001b[0;32m--> 263\u001b[0;31m             \u001b[0;32mreturn\u001b[0m \u001b[0mopt\u001b[0m\u001b[0;34m(\u001b[0m\u001b[0mtrainable_variables\u001b[0m\u001b[0;34m,\u001b[0m \u001b[0mbuild_loss\u001b[0m\u001b[0;34m,\u001b[0m \u001b[0mprevious_optimizer_results\u001b[0m\u001b[0;34m)\u001b[0m\u001b[0;34m\u001b[0m\u001b[0;34m\u001b[0m\u001b[0m\n\u001b[0m\u001b[1;32m    264\u001b[0m \u001b[0;34m\u001b[0m\u001b[0m\n\u001b[1;32m    265\u001b[0m         \u001b[0;31m# Callables\u001b[0m\u001b[0;34m\u001b[0m\u001b[0;34m\u001b[0m\u001b[0m\n",
            "\u001b[0;32m/usr/local/lib/python3.10/dist-packages/deepxde/optimizers/tensorflow/tfp_optimizer.py\u001b[0m in \u001b[0;36mlbfgs_minimize\u001b[0;34m(trainable_variables, build_loss, previous_optimizer_results)\u001b[0m\n\u001b[1;32m    112\u001b[0m     \u001b[0;32mif\u001b[0m \u001b[0mprevious_optimizer_results\u001b[0m \u001b[0;32mis\u001b[0m \u001b[0;32mNone\u001b[0m\u001b[0;34m:\u001b[0m\u001b[0;34m\u001b[0m\u001b[0;34m\u001b[0m\u001b[0m\n\u001b[1;32m    113\u001b[0m         \u001b[0minitial_position\u001b[0m \u001b[0;34m=\u001b[0m \u001b[0mfunc\u001b[0m\u001b[0;34m.\u001b[0m\u001b[0mto_flat_weights\u001b[0m\u001b[0;34m(\u001b[0m\u001b[0mtrainable_variables\u001b[0m\u001b[0;34m)\u001b[0m\u001b[0;34m\u001b[0m\u001b[0;34m\u001b[0m\u001b[0m\n\u001b[0;32m--> 114\u001b[0;31m     results = tfp.optimizer.lbfgs_minimize(\n\u001b[0m\u001b[1;32m    115\u001b[0m         \u001b[0mfunc\u001b[0m\u001b[0;34m,\u001b[0m\u001b[0;34m\u001b[0m\u001b[0;34m\u001b[0m\u001b[0m\n\u001b[1;32m    116\u001b[0m         \u001b[0minitial_position\u001b[0m\u001b[0;34m=\u001b[0m\u001b[0minitial_position\u001b[0m\u001b[0;34m,\u001b[0m\u001b[0;34m\u001b[0m\u001b[0;34m\u001b[0m\u001b[0m\n",
            "\u001b[0;32m/usr/local/lib/python3.10/dist-packages/tensorflow_probability/python/optimizer/lbfgs.py\u001b[0m in \u001b[0;36mminimize\u001b[0;34m(value_and_gradients_function, initial_position, previous_optimizer_results, num_correction_pairs, tolerance, x_tolerance, f_relative_tolerance, initial_inverse_hessian_estimate, max_iterations, parallel_iterations, stopping_condition, max_line_search_iterations, f_absolute_tolerance, name)\u001b[0m\n\u001b[1;32m    283\u001b[0m       \u001b[0minitial_state\u001b[0m \u001b[0;34m=\u001b[0m \u001b[0mprevious_optimizer_results\u001b[0m\u001b[0;34m\u001b[0m\u001b[0;34m\u001b[0m\u001b[0m\n\u001b[1;32m    284\u001b[0m \u001b[0;34m\u001b[0m\u001b[0m\n\u001b[0;32m--> 285\u001b[0;31m     return tf.while_loop(\n\u001b[0m\u001b[1;32m    286\u001b[0m         \u001b[0mcond\u001b[0m\u001b[0;34m=\u001b[0m\u001b[0m_cond\u001b[0m\u001b[0;34m,\u001b[0m\u001b[0;34m\u001b[0m\u001b[0;34m\u001b[0m\u001b[0m\n\u001b[1;32m    287\u001b[0m         \u001b[0mbody\u001b[0m\u001b[0;34m=\u001b[0m\u001b[0m_body\u001b[0m\u001b[0;34m,\u001b[0m\u001b[0;34m\u001b[0m\u001b[0;34m\u001b[0m\u001b[0m\n",
            "\u001b[0;32m/usr/local/lib/python3.10/dist-packages/tensorflow/python/util/deprecation.py\u001b[0m in \u001b[0;36mnew_func\u001b[0;34m(*args, **kwargs)\u001b[0m\n\u001b[1;32m    658\u001b[0m                   \u001b[0;34m'in a future version'\u001b[0m \u001b[0;32mif\u001b[0m \u001b[0mdate\u001b[0m \u001b[0;32mis\u001b[0m \u001b[0;32mNone\u001b[0m \u001b[0;32melse\u001b[0m\u001b[0;34m\u001b[0m\u001b[0;34m\u001b[0m\u001b[0m\n\u001b[1;32m    659\u001b[0m                   ('after %s' % date), instructions)\n\u001b[0;32m--> 660\u001b[0;31m       \u001b[0;32mreturn\u001b[0m \u001b[0mfunc\u001b[0m\u001b[0;34m(\u001b[0m\u001b[0;34m*\u001b[0m\u001b[0margs\u001b[0m\u001b[0;34m,\u001b[0m \u001b[0;34m**\u001b[0m\u001b[0mkwargs\u001b[0m\u001b[0;34m)\u001b[0m\u001b[0;34m\u001b[0m\u001b[0;34m\u001b[0m\u001b[0m\n\u001b[0m\u001b[1;32m    661\u001b[0m \u001b[0;34m\u001b[0m\u001b[0m\n\u001b[1;32m    662\u001b[0m     doc = _add_deprecated_arg_value_notice_to_docstring(func.__doc__, date,\n",
            "\u001b[0;32m/usr/local/lib/python3.10/dist-packages/tensorflow/python/ops/while_loop.py\u001b[0m in \u001b[0;36mwhile_loop_v2\u001b[0;34m(cond, body, loop_vars, shape_invariants, parallel_iterations, back_prop, swap_memory, maximum_iterations, name)\u001b[0m\n\u001b[1;32m    239\u001b[0m \u001b[0;34m\u001b[0m\u001b[0m\n\u001b[1;32m    240\u001b[0m   \"\"\"\n\u001b[0;32m--> 241\u001b[0;31m   return while_loop(\n\u001b[0m\u001b[1;32m    242\u001b[0m       \u001b[0mcond\u001b[0m\u001b[0;34m=\u001b[0m\u001b[0mcond\u001b[0m\u001b[0;34m,\u001b[0m\u001b[0;34m\u001b[0m\u001b[0;34m\u001b[0m\u001b[0m\n\u001b[1;32m    243\u001b[0m       \u001b[0mbody\u001b[0m\u001b[0;34m=\u001b[0m\u001b[0mbody\u001b[0m\u001b[0;34m,\u001b[0m\u001b[0;34m\u001b[0m\u001b[0;34m\u001b[0m\u001b[0m\n",
            "\u001b[0;32m/usr/local/lib/python3.10/dist-packages/tensorflow/python/ops/while_loop.py\u001b[0m in \u001b[0;36mwhile_loop\u001b[0;34m(cond, body, loop_vars, shape_invariants, parallel_iterations, back_prop, swap_memory, name, maximum_iterations, return_same_structure)\u001b[0m\n\u001b[1;32m    486\u001b[0m                                               list(loop_vars))\n\u001b[1;32m    487\u001b[0m       \u001b[0;32mwhile\u001b[0m \u001b[0mcond\u001b[0m\u001b[0;34m(\u001b[0m\u001b[0;34m*\u001b[0m\u001b[0mloop_vars\u001b[0m\u001b[0;34m)\u001b[0m\u001b[0;34m:\u001b[0m\u001b[0;34m\u001b[0m\u001b[0;34m\u001b[0m\u001b[0m\n\u001b[0;32m--> 488\u001b[0;31m         \u001b[0mloop_vars\u001b[0m \u001b[0;34m=\u001b[0m \u001b[0mbody\u001b[0m\u001b[0;34m(\u001b[0m\u001b[0;34m*\u001b[0m\u001b[0mloop_vars\u001b[0m\u001b[0;34m)\u001b[0m\u001b[0;34m\u001b[0m\u001b[0;34m\u001b[0m\u001b[0m\n\u001b[0m\u001b[1;32m    489\u001b[0m         \u001b[0;32mif\u001b[0m \u001b[0mtry_to_pack\u001b[0m \u001b[0;32mand\u001b[0m \u001b[0;32mnot\u001b[0m \u001b[0misinstance\u001b[0m\u001b[0;34m(\u001b[0m\u001b[0mloop_vars\u001b[0m\u001b[0;34m,\u001b[0m \u001b[0;34m(\u001b[0m\u001b[0mlist\u001b[0m\u001b[0;34m,\u001b[0m \u001b[0mtuple\u001b[0m\u001b[0;34m)\u001b[0m\u001b[0;34m)\u001b[0m\u001b[0;34m:\u001b[0m\u001b[0;34m\u001b[0m\u001b[0;34m\u001b[0m\u001b[0m\n\u001b[1;32m    490\u001b[0m           \u001b[0mpacked\u001b[0m \u001b[0;34m=\u001b[0m \u001b[0;32mTrue\u001b[0m\u001b[0;34m\u001b[0m\u001b[0;34m\u001b[0m\u001b[0m\n",
            "\u001b[0;32m/usr/local/lib/python3.10/dist-packages/tensorflow_probability/python/optimizer/lbfgs.py\u001b[0m in \u001b[0;36m_body\u001b[0;34m(current_state)\u001b[0m\n\u001b[1;32m    257\u001b[0m       \u001b[0;31m# search direction.\u001b[0m\u001b[0;34m\u001b[0m\u001b[0;34m\u001b[0m\u001b[0m\n\u001b[1;32m    258\u001b[0m \u001b[0;34m\u001b[0m\u001b[0m\n\u001b[0;32m--> 259\u001b[0;31m       next_state = bfgs_utils.line_search_step(\n\u001b[0m\u001b[1;32m    260\u001b[0m           \u001b[0mcurrent_state\u001b[0m\u001b[0;34m,\u001b[0m \u001b[0mvalue_and_gradients_function\u001b[0m\u001b[0;34m,\u001b[0m \u001b[0msearch_direction\u001b[0m\u001b[0;34m,\u001b[0m\u001b[0;34m\u001b[0m\u001b[0;34m\u001b[0m\u001b[0m\n\u001b[1;32m    261\u001b[0m           \u001b[0mtolerance\u001b[0m\u001b[0;34m,\u001b[0m \u001b[0mf_relative_tolerance\u001b[0m\u001b[0;34m,\u001b[0m \u001b[0mx_tolerance\u001b[0m\u001b[0;34m,\u001b[0m \u001b[0mstopping_condition\u001b[0m\u001b[0;34m,\u001b[0m\u001b[0;34m\u001b[0m\u001b[0;34m\u001b[0m\u001b[0m\n",
            "\u001b[0;32m/usr/local/lib/python3.10/dist-packages/tensorflow_probability/python/optimizer/bfgs_utils.py\u001b[0m in \u001b[0;36mline_search_step\u001b[0;34m(state, value_and_gradients_function, search_direction, grad_tolerance, f_relative_tolerance, x_tolerance, stopping_condition, max_iterations, f_absolute_tolerance)\u001b[0m\n\u001b[1;32m    207\u001b[0m                            full_gradient=state.objective_gradient)\n\u001b[1;32m    208\u001b[0m   \u001b[0minactive\u001b[0m \u001b[0;34m=\u001b[0m \u001b[0mstate\u001b[0m\u001b[0;34m.\u001b[0m\u001b[0mfailed\u001b[0m \u001b[0;34m|\u001b[0m \u001b[0mstate\u001b[0m\u001b[0;34m.\u001b[0m\u001b[0mconverged\u001b[0m\u001b[0;34m\u001b[0m\u001b[0;34m\u001b[0m\u001b[0m\n\u001b[0;32m--> 209\u001b[0;31m   ls_result = hager_zhang(\n\u001b[0m\u001b[1;32m    210\u001b[0m       \u001b[0mline_search_value_grad_func\u001b[0m\u001b[0;34m,\u001b[0m\u001b[0;34m\u001b[0m\u001b[0;34m\u001b[0m\u001b[0m\n\u001b[1;32m    211\u001b[0m       \u001b[0minitial_step_size\u001b[0m\u001b[0;34m=\u001b[0m\u001b[0m_broadcast\u001b[0m\u001b[0;34m(\u001b[0m\u001b[0;36m1\u001b[0m\u001b[0;34m,\u001b[0m \u001b[0mstate\u001b[0m\u001b[0;34m.\u001b[0m\u001b[0mposition\u001b[0m\u001b[0;34m)\u001b[0m\u001b[0;34m,\u001b[0m\u001b[0;34m\u001b[0m\u001b[0;34m\u001b[0m\u001b[0m\n",
            "\u001b[0;32m/usr/local/lib/python3.10/dist-packages/tensorflow_probability/python/optimizer/linesearch/hager_zhang.py\u001b[0m in \u001b[0;36mhager_zhang\u001b[0;34m(value_and_gradients_function, initial_step_size, value_at_initial_step, value_at_zero, converged, threshold_use_approximate_wolfe_condition, shrinkage_param, expansion_param, sufficient_decrease_param, curvature_param, max_iterations, name)\u001b[0m\n\u001b[1;32m    272\u001b[0m \u001b[0;34m\u001b[0m\u001b[0m\n\u001b[1;32m    273\u001b[0m     \u001b[0minit_active\u001b[0m \u001b[0;34m=\u001b[0m \u001b[0;34m~\u001b[0m\u001b[0minit_interval\u001b[0m\u001b[0;34m.\u001b[0m\u001b[0mfailed\u001b[0m \u001b[0;34m&\u001b[0m \u001b[0;34m~\u001b[0m\u001b[0minit_interval\u001b[0m\u001b[0;34m.\u001b[0m\u001b[0mconverged\u001b[0m\u001b[0;34m\u001b[0m\u001b[0;34m\u001b[0m\u001b[0m\n\u001b[0;32m--> 274\u001b[0;31m     return prefer_static.cond(\n\u001b[0m\u001b[1;32m    275\u001b[0m         \u001b[0mtf\u001b[0m\u001b[0;34m.\u001b[0m\u001b[0mreduce_any\u001b[0m\u001b[0;34m(\u001b[0m\u001b[0minit_active\u001b[0m\u001b[0;34m)\u001b[0m\u001b[0;34m,\u001b[0m\u001b[0;34m\u001b[0m\u001b[0;34m\u001b[0m\u001b[0m\n\u001b[1;32m    276\u001b[0m         \u001b[0m_apply_bracket_and_search\u001b[0m\u001b[0;34m,\u001b[0m\u001b[0;34m\u001b[0m\u001b[0;34m\u001b[0m\u001b[0m\n",
            "\u001b[0;32m/usr/local/lib/python3.10/dist-packages/tensorflow_probability/python/internal/prefer_static.py\u001b[0m in \u001b[0;36mcond\u001b[0;34m(pred, true_fn, false_fn, name)\u001b[0m\n\u001b[1;32m    247\u001b[0m   \u001b[0;32mif\u001b[0m \u001b[0mpred_value\u001b[0m \u001b[0;32mis\u001b[0m \u001b[0;32mnot\u001b[0m \u001b[0;32mNone\u001b[0m\u001b[0;34m:\u001b[0m\u001b[0;34m\u001b[0m\u001b[0;34m\u001b[0m\u001b[0m\n\u001b[1;32m    248\u001b[0m     \u001b[0;32mif\u001b[0m \u001b[0mpred_value\u001b[0m\u001b[0;34m:\u001b[0m\u001b[0;34m\u001b[0m\u001b[0;34m\u001b[0m\u001b[0m\n\u001b[0;32m--> 249\u001b[0;31m       \u001b[0;32mreturn\u001b[0m \u001b[0mtrue_fn\u001b[0m\u001b[0;34m(\u001b[0m\u001b[0;34m)\u001b[0m\u001b[0;34m\u001b[0m\u001b[0;34m\u001b[0m\u001b[0m\n\u001b[0m\u001b[1;32m    250\u001b[0m     \u001b[0;32melse\u001b[0m\u001b[0;34m:\u001b[0m\u001b[0;34m\u001b[0m\u001b[0;34m\u001b[0m\u001b[0m\n\u001b[1;32m    251\u001b[0m       \u001b[0;32mreturn\u001b[0m \u001b[0mfalse_fn\u001b[0m\u001b[0;34m(\u001b[0m\u001b[0;34m)\u001b[0m\u001b[0;34m\u001b[0m\u001b[0;34m\u001b[0m\u001b[0m\n",
            "\u001b[0;32m/usr/local/lib/python3.10/dist-packages/tensorflow_probability/python/optimizer/linesearch/hager_zhang.py\u001b[0m in \u001b[0;36m_apply_bracket_and_search\u001b[0;34m()\u001b[0m\n\u001b[1;32m    266\u001b[0m     \u001b[0;32mdef\u001b[0m \u001b[0m_apply_bracket_and_search\u001b[0m\u001b[0;34m(\u001b[0m\u001b[0;34m)\u001b[0m\u001b[0;34m:\u001b[0m\u001b[0;34m\u001b[0m\u001b[0;34m\u001b[0m\u001b[0m\n\u001b[1;32m    267\u001b[0m       \u001b[0;34m\"\"\"Bracketing and searching to do for valid inputs.\"\"\"\u001b[0m\u001b[0;34m\u001b[0m\u001b[0;34m\u001b[0m\u001b[0m\n\u001b[0;32m--> 268\u001b[0;31m       return _bracket_and_search(\n\u001b[0m\u001b[1;32m    269\u001b[0m           \u001b[0mvalue_and_gradients_function\u001b[0m\u001b[0;34m,\u001b[0m \u001b[0minit_interval\u001b[0m\u001b[0;34m,\u001b[0m \u001b[0mf_lim\u001b[0m\u001b[0;34m,\u001b[0m \u001b[0mmax_iterations\u001b[0m\u001b[0;34m,\u001b[0m\u001b[0;34m\u001b[0m\u001b[0;34m\u001b[0m\u001b[0m\n\u001b[1;32m    270\u001b[0m           \u001b[0mshrinkage_param\u001b[0m\u001b[0;34m,\u001b[0m \u001b[0mexpansion_param\u001b[0m\u001b[0;34m,\u001b[0m \u001b[0msufficient_decrease_param\u001b[0m\u001b[0;34m,\u001b[0m\u001b[0;34m\u001b[0m\u001b[0;34m\u001b[0m\u001b[0m\n",
            "\u001b[0;32m/usr/local/lib/python3.10/dist-packages/tensorflow_probability/python/optimizer/linesearch/hager_zhang.py\u001b[0m in \u001b[0;36m_bracket_and_search\u001b[0;34m(value_and_gradients_function, init_interval, f_lim, max_iterations, shrinkage_param, expansion_param, sufficient_decrease_param, curvature_param)\u001b[0m\n\u001b[1;32m    351\u001b[0m         \u001b[0mof\u001b[0m \u001b[0mthe\u001b[0m \u001b[0mright\u001b[0m \u001b[0mend\u001b[0m \u001b[0mpoint\u001b[0m \u001b[0mof\u001b[0m \u001b[0mthe\u001b[0m \u001b[0mupdated\u001b[0m \u001b[0mbracketing\u001b[0m \u001b[0minterval\u001b[0m\u001b[0;34m.\u001b[0m\u001b[0;34m\u001b[0m\u001b[0;34m\u001b[0m\u001b[0m\n\u001b[1;32m    352\u001b[0m   \"\"\"\n\u001b[0;32m--> 353\u001b[0;31m   bracket_result = hzl.bracket(value_and_gradients_function, init_interval,\n\u001b[0m\u001b[1;32m    354\u001b[0m                                f_lim, max_iterations, expansion_param)\n\u001b[1;32m    355\u001b[0m \u001b[0;34m\u001b[0m\u001b[0m\n",
            "\u001b[0;32m/usr/local/lib/python3.10/dist-packages/tensorflow_probability/python/optimizer/linesearch/internal/hager_zhang_lib.py\u001b[0m in \u001b[0;36mbracket\u001b[0;34m(value_and_gradients_function, search_interval, f_lim, max_iterations, expansion_param)\u001b[0m\n\u001b[1;32m    544\u001b[0m         right=right)]\n\u001b[1;32m    545\u001b[0m \u001b[0;34m\u001b[0m\u001b[0m\n\u001b[0;32m--> 546\u001b[0;31m   bracket_result = tf.while_loop(\n\u001b[0m\u001b[1;32m    547\u001b[0m       cond=_loop_cond, body=_loop_body, loop_vars=[initial_args])[0]\n\u001b[1;32m    548\u001b[0m \u001b[0;34m\u001b[0m\u001b[0m\n",
            "\u001b[0;32m/usr/local/lib/python3.10/dist-packages/tensorflow/python/util/deprecation.py\u001b[0m in \u001b[0;36mnew_func\u001b[0;34m(*args, **kwargs)\u001b[0m\n\u001b[1;32m    658\u001b[0m                   \u001b[0;34m'in a future version'\u001b[0m \u001b[0;32mif\u001b[0m \u001b[0mdate\u001b[0m \u001b[0;32mis\u001b[0m \u001b[0;32mNone\u001b[0m \u001b[0;32melse\u001b[0m\u001b[0;34m\u001b[0m\u001b[0;34m\u001b[0m\u001b[0m\n\u001b[1;32m    659\u001b[0m                   ('after %s' % date), instructions)\n\u001b[0;32m--> 660\u001b[0;31m       \u001b[0;32mreturn\u001b[0m \u001b[0mfunc\u001b[0m\u001b[0;34m(\u001b[0m\u001b[0;34m*\u001b[0m\u001b[0margs\u001b[0m\u001b[0;34m,\u001b[0m \u001b[0;34m**\u001b[0m\u001b[0mkwargs\u001b[0m\u001b[0;34m)\u001b[0m\u001b[0;34m\u001b[0m\u001b[0;34m\u001b[0m\u001b[0m\n\u001b[0m\u001b[1;32m    661\u001b[0m \u001b[0;34m\u001b[0m\u001b[0m\n\u001b[1;32m    662\u001b[0m     doc = _add_deprecated_arg_value_notice_to_docstring(func.__doc__, date,\n",
            "\u001b[0;32m/usr/local/lib/python3.10/dist-packages/tensorflow/python/ops/while_loop.py\u001b[0m in \u001b[0;36mwhile_loop_v2\u001b[0;34m(cond, body, loop_vars, shape_invariants, parallel_iterations, back_prop, swap_memory, maximum_iterations, name)\u001b[0m\n\u001b[1;32m    239\u001b[0m \u001b[0;34m\u001b[0m\u001b[0m\n\u001b[1;32m    240\u001b[0m   \"\"\"\n\u001b[0;32m--> 241\u001b[0;31m   return while_loop(\n\u001b[0m\u001b[1;32m    242\u001b[0m       \u001b[0mcond\u001b[0m\u001b[0;34m=\u001b[0m\u001b[0mcond\u001b[0m\u001b[0;34m,\u001b[0m\u001b[0;34m\u001b[0m\u001b[0;34m\u001b[0m\u001b[0m\n\u001b[1;32m    243\u001b[0m       \u001b[0mbody\u001b[0m\u001b[0;34m=\u001b[0m\u001b[0mbody\u001b[0m\u001b[0;34m,\u001b[0m\u001b[0;34m\u001b[0m\u001b[0;34m\u001b[0m\u001b[0m\n",
            "\u001b[0;32m/usr/local/lib/python3.10/dist-packages/tensorflow/python/ops/while_loop.py\u001b[0m in \u001b[0;36mwhile_loop\u001b[0;34m(cond, body, loop_vars, shape_invariants, parallel_iterations, back_prop, swap_memory, name, maximum_iterations, return_same_structure)\u001b[0m\n\u001b[1;32m    432\u001b[0m     \u001b[0;32mraise\u001b[0m \u001b[0mTypeError\u001b[0m\u001b[0;34m(\u001b[0m\u001b[0;34m\"'parallel_iterations' must be a positive integer.\"\u001b[0m\u001b[0;34m)\u001b[0m\u001b[0;34m\u001b[0m\u001b[0;34m\u001b[0m\u001b[0m\n\u001b[1;32m    433\u001b[0m \u001b[0;34m\u001b[0m\u001b[0m\n\u001b[0;32m--> 434\u001b[0;31m   \u001b[0mloop_vars\u001b[0m \u001b[0;34m=\u001b[0m \u001b[0mvariable_utils\u001b[0m\u001b[0;34m.\u001b[0m\u001b[0mconvert_variables_to_tensors\u001b[0m\u001b[0;34m(\u001b[0m\u001b[0mloop_vars\u001b[0m\u001b[0;34m)\u001b[0m\u001b[0;34m\u001b[0m\u001b[0;34m\u001b[0m\u001b[0m\n\u001b[0m\u001b[1;32m    435\u001b[0m \u001b[0;34m\u001b[0m\u001b[0m\n\u001b[1;32m    436\u001b[0m   \u001b[0;31m# Always enable control flow v2 if building a function, regardless of toggle.\u001b[0m\u001b[0;34m\u001b[0m\u001b[0;34m\u001b[0m\u001b[0m\n",
            "\u001b[0;32m/usr/local/lib/python3.10/dist-packages/tensorflow/python/util/variable_utils.py\u001b[0m in \u001b[0;36mconvert_variables_to_tensors\u001b[0;34m(values)\u001b[0m\n\u001b[1;32m     43\u001b[0m       \u001b[0;32mreturn\u001b[0m \u001b[0mx\u001b[0m\u001b[0;34m\u001b[0m\u001b[0;34m\u001b[0m\u001b[0m\n\u001b[1;32m     44\u001b[0m \u001b[0;34m\u001b[0m\u001b[0m\n\u001b[0;32m---> 45\u001b[0;31m   \u001b[0;32mreturn\u001b[0m \u001b[0mnest\u001b[0m\u001b[0;34m.\u001b[0m\u001b[0mmap_structure\u001b[0m\u001b[0;34m(\u001b[0m\u001b[0m_convert_resource_variable_to_tensor\u001b[0m\u001b[0;34m,\u001b[0m \u001b[0mvalues\u001b[0m\u001b[0;34m)\u001b[0m\u001b[0;34m\u001b[0m\u001b[0;34m\u001b[0m\u001b[0m\n\u001b[0m\u001b[1;32m     46\u001b[0m \u001b[0;34m\u001b[0m\u001b[0m\n\u001b[1;32m     47\u001b[0m \u001b[0;34m\u001b[0m\u001b[0m\n",
            "\u001b[0;32m/usr/local/lib/python3.10/dist-packages/tensorflow/python/util/nest.py\u001b[0m in \u001b[0;36mmap_structure\u001b[0;34m(func, *structure, **kwargs)\u001b[0m\n\u001b[1;32m    626\u001b[0m     \u001b[0mValueError\u001b[0m\u001b[0;34m:\u001b[0m \u001b[0mIf\u001b[0m \u001b[0mwrong\u001b[0m \u001b[0mkeyword\u001b[0m \u001b[0marguments\u001b[0m \u001b[0mare\u001b[0m \u001b[0mprovided\u001b[0m\u001b[0;34m.\u001b[0m\u001b[0;34m\u001b[0m\u001b[0;34m\u001b[0m\u001b[0m\n\u001b[1;32m    627\u001b[0m   \"\"\"\n\u001b[0;32m--> 628\u001b[0;31m   return nest_util.map_structure(\n\u001b[0m\u001b[1;32m    629\u001b[0m       \u001b[0mnest_util\u001b[0m\u001b[0;34m.\u001b[0m\u001b[0mModality\u001b[0m\u001b[0;34m.\u001b[0m\u001b[0mCORE\u001b[0m\u001b[0;34m,\u001b[0m \u001b[0mfunc\u001b[0m\u001b[0;34m,\u001b[0m \u001b[0;34m*\u001b[0m\u001b[0mstructure\u001b[0m\u001b[0;34m,\u001b[0m \u001b[0;34m**\u001b[0m\u001b[0mkwargs\u001b[0m\u001b[0;34m\u001b[0m\u001b[0;34m\u001b[0m\u001b[0m\n\u001b[1;32m    630\u001b[0m   )\n",
            "\u001b[0;32m/usr/local/lib/python3.10/dist-packages/tensorflow/python/util/nest_util.py\u001b[0m in \u001b[0;36mmap_structure\u001b[0;34m(modality, func, *structure, **kwargs)\u001b[0m\n\u001b[1;32m   1063\u001b[0m   \"\"\"\n\u001b[1;32m   1064\u001b[0m   \u001b[0;32mif\u001b[0m \u001b[0mmodality\u001b[0m \u001b[0;34m==\u001b[0m \u001b[0mModality\u001b[0m\u001b[0;34m.\u001b[0m\u001b[0mCORE\u001b[0m\u001b[0;34m:\u001b[0m\u001b[0;34m\u001b[0m\u001b[0;34m\u001b[0m\u001b[0m\n\u001b[0;32m-> 1065\u001b[0;31m     \u001b[0;32mreturn\u001b[0m \u001b[0m_tf_core_map_structure\u001b[0m\u001b[0;34m(\u001b[0m\u001b[0mfunc\u001b[0m\u001b[0;34m,\u001b[0m \u001b[0;34m*\u001b[0m\u001b[0mstructure\u001b[0m\u001b[0;34m,\u001b[0m \u001b[0;34m**\u001b[0m\u001b[0mkwargs\u001b[0m\u001b[0;34m)\u001b[0m\u001b[0;34m\u001b[0m\u001b[0;34m\u001b[0m\u001b[0m\n\u001b[0m\u001b[1;32m   1066\u001b[0m   \u001b[0;32melif\u001b[0m \u001b[0mmodality\u001b[0m \u001b[0;34m==\u001b[0m \u001b[0mModality\u001b[0m\u001b[0;34m.\u001b[0m\u001b[0mDATA\u001b[0m\u001b[0;34m:\u001b[0m\u001b[0;34m\u001b[0m\u001b[0;34m\u001b[0m\u001b[0m\n\u001b[1;32m   1067\u001b[0m     \u001b[0;32mreturn\u001b[0m \u001b[0m_tf_data_map_structure\u001b[0m\u001b[0;34m(\u001b[0m\u001b[0mfunc\u001b[0m\u001b[0;34m,\u001b[0m \u001b[0;34m*\u001b[0m\u001b[0mstructure\u001b[0m\u001b[0;34m,\u001b[0m \u001b[0;34m**\u001b[0m\u001b[0mkwargs\u001b[0m\u001b[0;34m)\u001b[0m\u001b[0;34m\u001b[0m\u001b[0;34m\u001b[0m\u001b[0m\n",
            "\u001b[0;32m/usr/local/lib/python3.10/dist-packages/tensorflow/python/util/nest_util.py\u001b[0m in \u001b[0;36m_tf_core_map_structure\u001b[0;34m(func, *structure, **kwargs)\u001b[0m\n\u001b[1;32m   1103\u001b[0m   return _tf_core_pack_sequence_as(\n\u001b[1;32m   1104\u001b[0m       \u001b[0mstructure\u001b[0m\u001b[0;34m[\u001b[0m\u001b[0;36m0\u001b[0m\u001b[0;34m]\u001b[0m\u001b[0;34m,\u001b[0m\u001b[0;34m\u001b[0m\u001b[0;34m\u001b[0m\u001b[0m\n\u001b[0;32m-> 1105\u001b[0;31m       \u001b[0;34m[\u001b[0m\u001b[0mfunc\u001b[0m\u001b[0;34m(\u001b[0m\u001b[0;34m*\u001b[0m\u001b[0mx\u001b[0m\u001b[0;34m)\u001b[0m \u001b[0;32mfor\u001b[0m \u001b[0mx\u001b[0m \u001b[0;32min\u001b[0m \u001b[0mentries\u001b[0m\u001b[0;34m]\u001b[0m\u001b[0;34m,\u001b[0m\u001b[0;34m\u001b[0m\u001b[0;34m\u001b[0m\u001b[0m\n\u001b[0m\u001b[1;32m   1106\u001b[0m       \u001b[0mexpand_composites\u001b[0m\u001b[0;34m=\u001b[0m\u001b[0mexpand_composites\u001b[0m\u001b[0;34m,\u001b[0m\u001b[0;34m\u001b[0m\u001b[0;34m\u001b[0m\u001b[0m\n\u001b[1;32m   1107\u001b[0m   )\n",
            "\u001b[0;32m/usr/local/lib/python3.10/dist-packages/tensorflow/python/util/nest_util.py\u001b[0m in \u001b[0;36m<listcomp>\u001b[0;34m(.0)\u001b[0m\n\u001b[1;32m   1103\u001b[0m   return _tf_core_pack_sequence_as(\n\u001b[1;32m   1104\u001b[0m       \u001b[0mstructure\u001b[0m\u001b[0;34m[\u001b[0m\u001b[0;36m0\u001b[0m\u001b[0;34m]\u001b[0m\u001b[0;34m,\u001b[0m\u001b[0;34m\u001b[0m\u001b[0;34m\u001b[0m\u001b[0m\n\u001b[0;32m-> 1105\u001b[0;31m       \u001b[0;34m[\u001b[0m\u001b[0mfunc\u001b[0m\u001b[0;34m(\u001b[0m\u001b[0;34m*\u001b[0m\u001b[0mx\u001b[0m\u001b[0;34m)\u001b[0m \u001b[0;32mfor\u001b[0m \u001b[0mx\u001b[0m \u001b[0;32min\u001b[0m \u001b[0mentries\u001b[0m\u001b[0;34m]\u001b[0m\u001b[0;34m,\u001b[0m\u001b[0;34m\u001b[0m\u001b[0;34m\u001b[0m\u001b[0m\n\u001b[0m\u001b[1;32m   1106\u001b[0m       \u001b[0mexpand_composites\u001b[0m\u001b[0;34m=\u001b[0m\u001b[0mexpand_composites\u001b[0m\u001b[0;34m,\u001b[0m\u001b[0;34m\u001b[0m\u001b[0;34m\u001b[0m\u001b[0m\n\u001b[1;32m   1107\u001b[0m   )\n",
            "\u001b[0;32m/usr/local/lib/python3.10/dist-packages/tensorflow/python/util/variable_utils.py\u001b[0m in \u001b[0;36m_convert_resource_variable_to_tensor\u001b[0;34m(x)\u001b[0m\n\u001b[1;32m     36\u001b[0m   \"\"\"\n\u001b[1;32m     37\u001b[0m   \u001b[0;32mdef\u001b[0m \u001b[0m_convert_resource_variable_to_tensor\u001b[0m\u001b[0;34m(\u001b[0m\u001b[0mx\u001b[0m\u001b[0;34m)\u001b[0m\u001b[0;34m:\u001b[0m\u001b[0;34m\u001b[0m\u001b[0;34m\u001b[0m\u001b[0m\n\u001b[0;32m---> 38\u001b[0;31m     \u001b[0;32mif\u001b[0m \u001b[0m_pywrap_utils\u001b[0m\u001b[0;34m.\u001b[0m\u001b[0mIsResourceVariable\u001b[0m\u001b[0;34m(\u001b[0m\u001b[0mx\u001b[0m\u001b[0;34m)\u001b[0m\u001b[0;34m:\u001b[0m\u001b[0;34m\u001b[0m\u001b[0;34m\u001b[0m\u001b[0m\n\u001b[0m\u001b[1;32m     39\u001b[0m       \u001b[0;32mreturn\u001b[0m \u001b[0mops\u001b[0m\u001b[0;34m.\u001b[0m\u001b[0mconvert_to_tensor\u001b[0m\u001b[0;34m(\u001b[0m\u001b[0mx\u001b[0m\u001b[0;34m)\u001b[0m\u001b[0;34m\u001b[0m\u001b[0;34m\u001b[0m\u001b[0m\n\u001b[1;32m     40\u001b[0m     \u001b[0;32melif\u001b[0m \u001b[0misinstance\u001b[0m\u001b[0;34m(\u001b[0m\u001b[0mx\u001b[0m\u001b[0;34m,\u001b[0m \u001b[0mcomposite_tensor\u001b[0m\u001b[0;34m.\u001b[0m\u001b[0mCompositeTensor\u001b[0m\u001b[0;34m)\u001b[0m\u001b[0;34m:\u001b[0m\u001b[0;34m\u001b[0m\u001b[0;34m\u001b[0m\u001b[0m\n",
            "\u001b[0;31mKeyboardInterrupt\u001b[0m: "
          ]
        }
      ],
      "source": [
        "set_seed()\n",
        "\n",
        "mkdv.resample = True\n",
        "mkdv.resample_period = 1000\n",
        "\n",
        "mkdv.model.compile(\"adam\", lr=1e-2)\n",
        "losshistory, train_state = mkdv.train(iterations=4_000)\n",
        "\n",
        "mkdv.model.compile(\"adam\", lr=5e-3)\n",
        "losshistory, train_state = mkdv.train(iterations=2_000)\n",
        "\n",
        "mkdv.model.compile(\"adam\", lr=1e-3)\n",
        "losshistory, train_state = mkdv.train(iterations=4_000)\n",
        "\n",
        "mkdv.model.compile(\"adam\", lr=7e-4)\n",
        "losshistory, train_state = mkdv.train(iterations=5_000)\n",
        "\n",
        "mkdv.model.compile(\"adam\", lr=5e-4)\n",
        "losshistory, train_state = mkdv.train(iterations=5_000)\n",
        "\n",
        "mkdv.model.compile(\"adam\", lr=3e-4)\n",
        "losshistory, train_state = mkdv.train(iterations=7_000)\n",
        "\n",
        "mkdv.model.compile(\"adam\", lr=1e-4)\n",
        "losshistory, train_state = mkdv.train(iterations=20_000)\n",
        "\n",
        "mkdv.model.compile(\"adam\", lr=7e-5)\n",
        "losshistory, train_state = mkdv.train(iterations=15_000)\n",
        "\n",
        "mkdv.model.compile(\"adam\", lr=5e-5)\n",
        "losshistory, train_state = mkdv.train(iterations=15_000)\n",
        "\n",
        "mkdv.model.compile(\"adam\", lr=3e-5)\n",
        "losshistory, train_state = mkdv.train(iterations=8_000)\n",
        "\n",
        "mkdv.model.compile(\"adam\", lr=1e-5)\n",
        "losshistory, train_state = mkdv.train(iterations=15_000)\n",
        "\n",
        "\n",
        "dde.saveplot(losshistory, train_state, issave=True, isplot=True)"
      ]
    },
    {
      "cell_type": "code",
      "execution_count": null,
      "metadata": {
        "colab": {
          "base_uri": "https://localhost:8080/",
          "height": 36
        },
        "id": "-TMZd45T7laV",
        "outputId": "4347b9ae-c169-400b-999f-a63027476998"
      },
      "outputs": [
        {
          "data": {
            "application/vnd.google.colaboratory.intrinsic+json": {
              "type": "string"
            },
            "text/plain": [
              "'model/ckpt-100000.weights.h5'"
            ]
          },
          "execution_count": 10,
          "metadata": {},
          "output_type": "execute_result"
        }
      ],
      "source": [
        "mkdv.model.save(\"model/ckpt\")"
      ]
    },
    {
      "cell_type": "code",
      "execution_count": null,
      "metadata": {
        "id": "AeTccvaSlNaw"
      },
      "outputs": [],
      "source": [
        "print(dde.model.LossHistory)"
      ]
    },
    {
      "cell_type": "code",
      "execution_count": null,
      "metadata": {
        "id": "FFs0CzbI3kYF"
      },
      "outputs": [],
      "source": [
        "grid_size=20"
      ]
    },
    {
      "cell_type": "code",
      "execution_count": null,
      "metadata": {
        "id": "skJkXfdPx5cz"
      },
      "outputs": [],
      "source": [
        "A= np.linspace(1,2,50)\n",
        "T= np.linspace(0,15,50)"
      ]
    },
    {
      "cell_type": "code",
      "execution_count": null,
      "metadata": {
        "id": "fERFHm1vy9YZ"
      },
      "outputs": [],
      "source": [
        "np.linspace(0,10,10)"
      ]
    },
    {
      "cell_type": "code",
      "execution_count": null,
      "metadata": {
        "id": "XAIQbwKUyn5l"
      },
      "outputs": [],
      "source": [
        "V = mkdv.vdde_l2relerror(a=2, t=T)"
      ]
    },
    {
      "cell_type": "code",
      "execution_count": null,
      "metadata": {
        "colab": {
          "base_uri": "https://localhost:8080/"
        },
        "id": "JgPPPb9TzGjR",
        "outputId": "3133507d-a798-4075-d9fe-abdf99b6d413"
      },
      "outputs": [
        {
          "data": {
            "text/plain": [
              "0.008360439958863751"
            ]
          },
          "execution_count": 10,
          "metadata": {},
          "output_type": "execute_result"
        }
      ],
      "source": [
        "max(V)"
      ]
    },
    {
      "cell_type": "code",
      "execution_count": null,
      "metadata": {
        "id": "P8eluaHvZnRK"
      },
      "outputs": [],
      "source": [
        "try:\n",
        "    os.makedirs(f\"model/\")\n",
        "except FileExistsError:\n",
        "    pass"
      ]
    },
    {
      "cell_type": "code",
      "execution_count": null,
      "metadata": {
        "colab": {
          "base_uri": "https://localhost:8080/"
        },
        "id": "xiHSV4KccAWQ",
        "outputId": "dd8f3ed8-cba0-4b29-907e-876d81f992c1"
      },
      "outputs": [
        {
          "name": "stdout",
          "output_type": "stream",
          "text": [
            "Compiling model...\n",
            "'compile' took 0.008921 s\n",
            "\n",
            "Training model...\n",
            "\n",
            "0         [3.45e-03, 1.05e-01, 3.71e-01]    [3.45e-03, 1.05e-01, 3.71e-01]    []  \n",
            "1000      [1.13e-03, 8.76e-04, 1.37e-04]    [1.12e-03, 8.76e-04, 1.37e-04]    []  \n",
            "2000      [5.37e-04, 1.37e-04, 3.85e-05]    [5.60e-04, 1.37e-04, 3.85e-05]    []  \n",
            "3000      [3.36e-04, 7.03e-05, 1.43e-05]    [3.69e-04, 7.03e-05, 1.43e-05]    []  \n",
            "4000      [2.25e-04, 4.41e-05, 8.75e-06]    [2.56e-04, 4.41e-05, 8.75e-06]    []  \n",
            "5000      [1.71e-04, 1.52e-04, 1.54e-04]    [1.75e-04, 1.52e-04, 1.54e-04]    []  \n",
            "6000      [1.09e-04, 6.08e-05, 5.60e-05]    [1.22e-04, 6.08e-05, 5.60e-05]    []  \n",
            "7000      [8.26e-05, 9.84e-05, 2.65e-05]    [8.55e-05, 9.84e-05, 2.65e-05]    []  \n",
            "8000      [5.75e-05, 1.22e-05, 7.70e-06]    [6.25e-05, 1.22e-05, 7.70e-06]    []  \n",
            "9000      [4.27e-05, 3.28e-06, 2.92e-06]    [4.48e-05, 3.28e-06, 2.92e-06]    []  \n",
            "10000     [3.42e-05, 2.63e-05, 2.29e-05]    [3.51e-05, 2.63e-05, 2.29e-05]    []  \n",
            "\n",
            "Best model at step 9000:\n",
            "  train loss: 4.89e-05\n",
            "  test loss: 5.10e-05\n",
            "  test metric: []\n",
            "\n",
            "'train' took 211.657769 s\n",
            "\n"
          ]
        },
        {
          "data": {
            "text/plain": [
              "(<deepxde.model.LossHistory at 0x7e92a49c9330>,\n",
              " <deepxde.model.TrainState at 0x7e92a49c9540>)"
            ]
          },
          "execution_count": 18,
          "metadata": {},
          "output_type": "execute_result"
        }
      ],
      "source": [
        "set_seed()\n",
        "mkdv.resample = True\n",
        "mkdv.resample_period = 100\n",
        "mkdv.model.compile(\"adam\", lr=1e-3)\n",
        "mkdv.train(iterations=10000)"
      ]
    },
    {
      "cell_type": "code",
      "execution_count": null,
      "metadata": {
        "id": "wNJTxwM1AjIU"
      },
      "outputs": [],
      "source": [
        "mkdv.dde_l2relerror_scatter(grid_size=50)\n",
        "# mkdv.gif(a=2)\n",
        "# #mkdv.l2relerror_xt_scatter() #slow to compute, don't use gpu\n",
        "mkdv.save_data()"
      ]
    },
    {
      "cell_type": "code",
      "execution_count": null,
      "metadata": {
        "id": "F1uwLCcOr1AK"
      },
      "outputs": [],
      "source": [
        "mkdv.save_data()"
      ]
    },
    {
      "cell_type": "code",
      "execution_count": null,
      "metadata": {
        "id": "i1wW6tH4CYx2"
      },
      "outputs": [],
      "source": [
        "mkdv.gif(a=2)"
      ]
    },
    {
      "cell_type": "code",
      "execution_count": null,
      "metadata": {
        "colab": {
          "base_uri": "https://localhost:8080/"
        },
        "id": "5auKDwKzScvo",
        "outputId": "04fbe181-c868-4e23-a3c0-e41ae7b880e0"
      },
      "outputs": [
        {
          "name": "stdout",
          "output_type": "stream",
          "text": [
            "neurons: 60\n",
            "layers: 5\n",
            "ND: 10000\n",
            "Nb: 4000\n",
            "N0: 4000\n",
            "lr: 0.001\n",
            "resample: True\n",
            "resample_period: 1000\n",
            "xmin: [-10, 1]\n",
            "xmax: [10, 2]\n",
            "tmax: 15\n",
            "borda: exact\n",
            "eps: 1e-05\n",
            "dde_l2relerror_max: 0.0071376642909363845\n",
            "dde_l2relerror_mean: 0.002095247049670496\n",
            "test_xmin: [-10, 1]\n",
            "test_xmax: [10, 2]\n",
            "test_tmin: 0\n",
            "test_tmax: 15\n"
          ]
        }
      ],
      "source": [
        "for key, value in (mkdv.net_data | mkdv.error_data).items():\n",
        "  print(f\"{key}: {value}\")"
      ]
    },
    {
      "cell_type": "code",
      "execution_count": null,
      "metadata": {
        "id": "bmLW_qhVAxxt"
      },
      "outputs": [],
      "source": [
        "!zip -r model.zip model -q"
      ]
    },
    {
      "cell_type": "code",
      "execution_count": null,
      "metadata": {
        "colab": {
          "base_uri": "https://localhost:8080/",
          "height": 37
        },
        "id": "yZOD5qggAynY",
        "outputId": "3cb14d41-e7fd-4f3c-f698-58e49aa23e8a"
      },
      "outputs": [
        {
          "data": {
            "application/javascript": [
              "\n",
              "    async function download(id, filename, size) {\n",
              "      if (!google.colab.kernel.accessAllowed) {\n",
              "        return;\n",
              "      }\n",
              "      const div = document.createElement('div');\n",
              "      const label = document.createElement('label');\n",
              "      label.textContent = `Downloading \"${filename}\": `;\n",
              "      div.appendChild(label);\n",
              "      const progress = document.createElement('progress');\n",
              "      progress.max = size;\n",
              "      div.appendChild(progress);\n",
              "      document.body.appendChild(div);\n",
              "\n",
              "      const buffers = [];\n",
              "      let downloaded = 0;\n",
              "\n",
              "      const channel = await google.colab.kernel.comms.open(id);\n",
              "      // Send a message to notify the kernel that we're ready.\n",
              "      channel.send({})\n",
              "\n",
              "      for await (const message of channel.messages) {\n",
              "        // Send a message to notify the kernel that we're ready.\n",
              "        channel.send({})\n",
              "        if (message.buffers) {\n",
              "          for (const buffer of message.buffers) {\n",
              "            buffers.push(buffer);\n",
              "            downloaded += buffer.byteLength;\n",
              "            progress.value = downloaded;\n",
              "          }\n",
              "        }\n",
              "      }\n",
              "      const blob = new Blob(buffers, {type: 'application/binary'});\n",
              "      const a = document.createElement('a');\n",
              "      a.href = window.URL.createObjectURL(blob);\n",
              "      a.download = filename;\n",
              "      div.appendChild(a);\n",
              "      a.click();\n",
              "      div.remove();\n",
              "    }\n",
              "  "
            ],
            "text/plain": [
              "<IPython.core.display.Javascript object>"
            ]
          },
          "metadata": {},
          "output_type": "display_data"
        },
        {
          "data": {
            "application/javascript": [
              "download(\"download_2f772df5-cf09-4fd1-8684-4a7defebb7b9\", \"model.zip\", 143040)"
            ],
            "text/plain": [
              "<IPython.core.display.Javascript object>"
            ]
          },
          "metadata": {},
          "output_type": "display_data"
        }
      ],
      "source": [
        "from google.colab import files\n",
        "files.download(\"model.zip\")"
      ]
    },
    {
      "cell_type": "code",
      "execution_count": null,
      "metadata": {
        "id": "N_73quRN-Su8"
      },
      "outputs": [],
      "source": [
        " # from shutil import rmtree\n",
        "# rmtree(\"model\")"
      ]
    }
  ],
  "metadata": {
    "accelerator": "GPU",
    "colab": {
      "gpuType": "T4",
      "provenance": []
    },
    "kernelspec": {
      "display_name": "Python 3",
      "name": "python3"
    },
    "language_info": {
      "name": "python"
    }
  },
  "nbformat": 4,
  "nbformat_minor": 0
}