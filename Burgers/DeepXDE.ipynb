{
  "cells": [
    {
      "cell_type": "markdown",
      "source": [
        "# Introdução\n",
        "\n",
        "- Nova abordagem numérica para resolver EDP utilizando Redes Neurais\n",
        "- Referências\n",
        "    - **Códigos em Python e artigo da versão 2.X do tensorflow para criação da rede neural:** BLECHSCHMIDT, J. Links: [Código](https://github.com/janblechschmidt/PDEsByNNs); [Artigo](https://arxiv.org/abs/2102.11802). (2021)\n",
        "\n",
        "    - **Artigo biblioteca DeepXDE:** LU, L. et al. DeepXDE: A Deep Learning Library for Solving Differential Equations. Links: [Artigo - arxiv](https://arxiv.org/abs/1907.04502); [Artigo - SIAM](https://epubs.siam.org/doi/10.1137/19M1274067); [Código](https://github.com/lululxvi/deepxde) (2021)\n",
        "\n",
        "    - **Raissi et al:** RAISSI, M.; KARNIADAKIS, G. E.;PERDIKARIS, P.; [Códigos (1.X TensorFlow)](https://github.com/maziarraissi/PINNs>); [Artigo 1](https://arxiv.org/abs/1708.00588); [Artigo 2](https://arxiv.org/abs/1711.10561); [Artigo 3](https://arxiv.org/abs/1711.10566); [Artigo 4](https://www.sciencedirect.com/science/article/abs/pii/S0021999118307125) (2017 - 2019)\n",
        "\n",
        "\n",
        "- Redes Neurais tem suas vantagens e desvantagens\n",
        "\n",
        "    **Vantagens**\n",
        "    - [Teoria da Aproximação Universal](https://drive.google.com/file/d/1xfE2Bx9NbVeNU_mseTpIaYO0wIQZbbXb/view?usp=drive_link)\n",
        "    - Incorporação da física da EDP\n",
        "    - Fácil implementação e eficiencia computacional\n",
        "\n",
        "    Desvantagens\n",
        "    - Alto Custo Computacional\n",
        "    - Como a rede achou a solução?\n",
        "    - Dependência de Dados de Treinamento\n",
        "\n",
        "# Transformação do problema de interesse em um problema de Otimização\n",
        "\n",
        "## Descrição da Equação de Burgers Viscosa\n",
        "A Equação Diferencial Parcial que trataremos consiste em determinar $u = u(x,t)$ solução de:\n",
        "\\begin{aligned}\n",
        "    u_t + u \\, u_x - \\nu \\, u_{xx} &= 0, \\quad &&\\quad (x,t) \\in  (-1,1) \\times (0,1) \\\\\n",
        "   u(x,0) &= u_0(x),                 \\quad &&\\quad x \\in (-1,1),\\\\\n",
        "   u(-1,t) = u(1,t) &= 0,                      \\quad &&\\quad t \\in (0,1),\n",
        "\\end{aligned}\n",
        "\n",
        "onde $\\nu$ é a viscosidade. Esta EDP surge em diferentes contextos, por exemplo, tráfego de carros, dinâmica dos fluidos."
      ],
      "metadata": {
        "id": "fACftGjc53km"
      },
      "id": "fACftGjc53km"
    },
    {
      "cell_type": "markdown",
      "id": "2e68ae59",
      "metadata": {
        "id": "2e68ae59"
      },
      "source": [
        "# Modelagem Computacional: [Equação de Burgers Viscosa]( https://deepxde.readthedocs.io/en/latest/demos/pinn_forward/burgers.html#burgers-equation)\n",
        "\n",
        "O tratamento numérico da Equação de Burgers Viscosa será feito por meio de uma formulação computacional que consiste em transformar o problema de valor inicial e de fronteira em um problema de otimização.\n",
        "\n",
        "Mais especificamente, vamos determinar uma função $u(x,t)$ que resolve simultaneamente os seguintes problemas de otimização:\n",
        "\n",
        "1. Operador Diferencial: $$\\min |f(x,t)| \\quad \\text{ s.a. } \\quad (x,t) \\in  (-1,1) \\times (0,1),$$ onde $f:= u_t + uu_x - \\nu u_{xx}$\n",
        "2. Condição Inicial: $$\\min |u(x,0) - u_0(x)| \\quad \\text{ s.a. } \\quad x \\in  (-1,1)$$\n",
        "3. Condição de Fronteira/Bordo: $$\\min |u(-1,t)| + |u(1,t)| \\quad \\text{ s.a. } \\quad t \\in  (0,1).$$\n",
        "\n",
        "A função $u(x,t)$ será aproximada via Redes Neurais por meio da minimização do Erro Médio Quadrático (EMQ) da função de perda.\n",
        "\n",
        "Neste contexto os Problemas 1, 2 e 3 acima são reescritos da seguinte forma:\n",
        "\n",
        "1. $\\text{EMQ}_f = \\cfrac{1}{N_f}\\sum_{i = 1}^{N_f} \\left| f(x_i, t_i) \\right|^2,$ onde $(x_i, t_i)$, $i = 1, \\cdots, N_f$, representa $N_f$ pontos de colocação escolhidos aleatoriamente em $(-1,1) \\times (0,1)$.\n",
        "\n",
        "2. $\\text{EMQ}_0 = \\cfrac{1}{N_0}\\sum_{i=1}^{N_0} \\left| (u(x_i,0) - u_0(x_i)\\right|^2,$ onde $x_i$, $i = 1, \\cdots, N_0$ representa $N_0$ pontos de colocação no intervalo $(-1,1)$;\n",
        "\n",
        "3. $\\text{EMQ}_b = \\cfrac{1}{N_b}\\sum_{i=1}^{N_b} \\left| u(x_i,t_i) \\right|^2$, onde $(x_i,t_i)$, $i = 1, \\cdots, N_b$ corresponde à $N_b$ pontos de colocação ao longo do conjunto cartesiano $\\{-1,1\\} \\times (0,1)$.\n",
        "\n",
        "Por fim, minimizamos e função de perda:\n",
        "$$\\text{EMQ} = \\text{EMQ}_f + \\text{EMQ}_0 + \\text{EMQ}_b$$\n",
        "\n",
        "Iremos utilizar a biblioteca em Python [**DeepXDE**](https://deepxde.readthedocs.io/en/latest/index.html). Baseando-se nas referências, utilizaremos e EDP de Burguers Viscosa, ou seja, a EDP que trataremos consiste em determinar $u = u(x,t)$ solução de:"
      ]
    },
    {
      "cell_type": "markdown",
      "source": [
        "## Passo a passo do código\n",
        "\n",
        "Dado a EDP:\n",
        "\n",
        "$$\n",
        "\\begin{aligned}\n",
        "    u_t + u \\, u_x - \\nu \\, u_{xx} &= 0, \\quad &&\\quad (x,t) \\in  (-1,1) \\times (0,1) \\\\\n",
        "   u(x,0) &= -\\sin(\\pi x),                 \\quad &&\\quad x \\in (-1,1),\\\\\n",
        "   u(-1,t) = u(1,t) &= 0,                      \\quad &&\\quad t \\in (0,1),\n",
        "\\end{aligned}\n",
        "$$\n",
        "\n",
        "\n",
        "\n",
        "\n",
        "Primeiro, importaremos as bibliotecas DeepXDE e TensorFlow:"
      ],
      "metadata": {
        "id": "Xe_2ifn39ONn"
      },
      "id": "Xe_2ifn39ONn"
    },
    {
      "cell_type": "code",
      "execution_count": null,
      "id": "9cdb9991",
      "metadata": {
        "id": "9cdb9991",
        "colab": {
          "base_uri": "https://localhost:8080/"
        },
        "outputId": "d506892b-95e1-4bc4-96a8-1f97ced355a6"
      },
      "outputs": [
        {
          "output_type": "stream",
          "name": "stdout",
          "text": [
            "\u001b[?25l     \u001b[90m━━━━━━━━━━━━━━━━━━━━━━━━━━━━━━━━━━━━━━━━\u001b[0m \u001b[32m0.0/179.8 kB\u001b[0m \u001b[31m?\u001b[0m eta \u001b[36m-:--:--\u001b[0m\r\u001b[2K     \u001b[91m━━━━━━━━━━━━━━━━━━━━━━━━━\u001b[0m\u001b[90m╺\u001b[0m\u001b[90m━━━━━━━━━━━━━━\u001b[0m \u001b[32m112.6/179.8 kB\u001b[0m \u001b[31m3.2 MB/s\u001b[0m eta \u001b[36m0:00:01\u001b[0m\r\u001b[2K     \u001b[90m━━━━━━━━━━━━━━━━━━━━━━━━━━━━━━━━━━━━━━━━\u001b[0m \u001b[32m179.8/179.8 kB\u001b[0m \u001b[31m2.7 MB/s\u001b[0m eta \u001b[36m0:00:00\u001b[0m\n",
            "\u001b[?25h\u001b[?25l     \u001b[90m━━━━━━━━━━━━━━━━━━━━━━━━━━━━━━━━━━━━━━━━\u001b[0m \u001b[32m0.0/107.7 kB\u001b[0m \u001b[31m?\u001b[0m eta \u001b[36m-:--:--\u001b[0m\r\u001b[2K     \u001b[90m━━━━━━━━━━━━━━━━━━━━━━━━━━━━━━━━━━━━━━━━\u001b[0m \u001b[32m107.7/107.7 kB\u001b[0m \u001b[31m8.6 MB/s\u001b[0m eta \u001b[36m0:00:00\u001b[0m\n",
            "\u001b[?25h"
          ]
        },
        {
          "output_type": "stream",
          "name": "stderr",
          "text": [
            "Using backend: tensorflow\n",
            "Other supported backends: tensorflow.compat.v1, pytorch, jax, paddle.\n",
            "paddle supports more examples now and is recommended.\n"
          ]
        }
      ],
      "source": [
        "!pip install deepxde -q   # -q para ele instalar sem as mensagens, retirar o -q para verificar o que instalou\n",
        "import os\n",
        "\n",
        "os.environ['DDE_BACKEND'] = 'tensorflow'  # existem outras opções, como tensorflow.compat.v1, pytorch, jax, paddle.\n",
        "\n",
        "import deepxde as dde\n",
        "import numpy as np\n",
        "import tensorflow as tf\n",
        "\n",
        "'''\n",
        "Essa biblioteca tem como dependencias:\n",
        "como o matplotlib, numpy, scikit-learn, scikit-optimize, SciPy\n",
        "'''\n",
        "\n",
        "# deixar a semente aleatória fixa\n",
        "seed_value = 0\n",
        "np.random.seed(seed_value)\n",
        "tf.random.set_seed(seed_value)\n",
        "dde.config.set_random_seed(seed_value)"
      ]
    },
    {
      "cell_type": "markdown",
      "id": "51f0d6b2",
      "metadata": {
        "id": "51f0d6b2"
      },
      "source": [
        "Começamos definindo uma geometria computacional e um domínio de tempo. Podemos usar uma classe interna `Interval` e `TimeDomain` e combinar ambos os domínios usando `GeometryXTime` da seguinte forma:"
      ]
    },
    {
      "cell_type": "code",
      "execution_count": null,
      "id": "59c668ac",
      "metadata": {
        "id": "59c668ac"
      },
      "outputs": [],
      "source": [
        "# Definição da geometria espacial\n",
        "geom = dde.geometry.Interval(-1, 1)  # Define um intervalo para x, coordenada espacial, no intervalo (-1, 1)\n",
        "# Definição do domínio temporal\n",
        "timedomain = dde.geometry.TimeDomain(0, 1)  # Define um domínio de tempo para t, coordenada temporal, no intervalo (0, 1)\n",
        "\n",
        "# Combinando a geometria espacial e o domínio temporal\n",
        "geomtime = dde.geometry.GeometryXTime(geom, timedomain)  # Combina a geometria espacial e o domínio temporal em uma geometria espacial-temporal"
      ]
    },
    {
      "cell_type": "markdown",
      "id": "f717e454",
      "metadata": {
        "id": "f717e454"
      },
      "source": [
        "A seguir, expressamos o resíduo EDP da equação de Burgers Viscosa:"
      ]
    },
    {
      "cell_type": "code",
      "execution_count": null,
      "id": "7e18845b",
      "metadata": {
        "id": "7e18845b"
      },
      "outputs": [],
      "source": [
        "def pde(x, y):\n",
        "    # x = (x, t) representa as coordenadas espaciais (x) e temporais (t)\n",
        "    # y = u(x, t) representa a solução da equação de Burgers viscosa no ponto (x, t)\n",
        "\n",
        "    # Calculando a primeira derivada em relação à coordenada espacial (x)\n",
        "    dy_x = dde.grad.jacobian(y, x, i=0, j=0)\n",
        "\n",
        "    # Calculando a primeira derivada em relação à coordenada temporal (t)\n",
        "    dy_t = dde.grad.jacobian(y, x, i=0, j=1)\n",
        "\n",
        "    # Calculando a segunda derivada em relação à coordenada espacial (x)\n",
        "    dy_xx = dde.grad.hessian(y, x, i=0, j=0)\n",
        "\n",
        "    '''\n",
        "    Definindo a equação diferencial parcial (EDP) de Burgers viscosa\n",
        "    A equação é: u_t + u*u_x - nu*u_xx = 0\n",
        "    Onde u_t representa a derivada parcial de u em relação ao tempo (t)\n",
        "    u*u_x representa o produto de u e sua derivada parcial em relação à coordenada espacial (x)\n",
        "    nu*u_xx representa a segunda derivada de u em relação à coordenada espacial (x)\n",
        "    nu é o coeficiente de viscosidade, que nesse exemplo nu = 0.01/pi\n",
        "    '''\n",
        "    # Retorna a equação diferencial parcial de Burgers viscosa\n",
        "    return dy_t + y * dy_x - 0.01 / np.pi * dy_xx\n"
      ]
    },
    {
      "cell_type": "markdown",
      "id": "658e05ae",
      "metadata": {
        "id": "658e05ae"
      },
      "source": [
        "A seguir, consideramos a condição de contorno/inicial. ``on_boundary`` é escolhido aqui para usar todo o limite do domínio computacional considerado como a condição de limite. Incluímos o espaço ``geomtime``, a geometria do tempo criada acima e ``on_boundary`` como os ``BCs`` na função ``DirichletBC`` do ``DeepXDE``. Também definimos ``IC``, que é a condição inicial para a equação de Burgers Viscosa, e usamos o domínio computacional, a função inicial e ``on_initial`` para especificar o IC."
      ]
    },
    {
      "cell_type": "code",
      "execution_count": null,
      "id": "bddbe642",
      "metadata": {
        "id": "bddbe642"
      },
      "outputs": [],
      "source": [
        "'''\n",
        "Definição da condição de contorno (BC) para a equação de Burgers viscosa\n",
        "Utilizamos \"on_boundary\" para especificar que todas as bordas do domínio são consideradas condições de contorno, em alguns casos definimos\n",
        "boundary_left e/ou boundary_right para condições diferentes a esquerda e a direita\n",
        "A função lambda define a condição de contorno como zero para todas as bordas do domínio\n",
        "'''\n",
        "bc = dde.icbc.DirichletBC(geomtime, lambda x: 0, lambda _, on_boundary: on_boundary)\n",
        "\n",
        "'''\n",
        "Definição da condição inicial (IC) para a equação de Burgers viscosa\n",
        "Utilizamos \"on_initial\" para especificar que a condição inicial é aplicada no início do domínio temporal\n",
        "A função lambda define a condição inicial como -sin(pi*x) para todas as posições iniciais (x) no domínio\n",
        "'''\n",
        "ic = dde.icbc.IC(geomtime, lambda x: -np.sin(np.pi * x[:, 0:1]), lambda _, on_initial: on_initial)\n"
      ]
    },
    {
      "cell_type": "markdown",
      "id": "a9cb6f29",
      "metadata": {
        "id": "a9cb6f29"
      },
      "source": [
        "Agora, especificamos a geometria, o resíduo da EDP e a condição de contorno/inicial. Definimos então o problema ``TimePDE`` como:"
      ]
    },
    {
      "cell_type": "code",
      "execution_count": null,
      "id": "0964e673",
      "metadata": {
        "id": "0964e673"
      },
      "outputs": [],
      "source": [
        "# Criação dos dados para treinamento do modelo\n",
        "'''\n",
        "    geomtime: geometria espacial + temporal\n",
        "    pde: definição da edp que queremos a solução\n",
        "    [bc,ic]: lista com as condições de borda e inicial definidas\n",
        "    num_domain: número de pontos amostrados dentro do domínio\n",
        "    num_boundary: número de pontos amostrados na borda\n",
        "    num_initial: número de pontos amostrados na condição inicial\n",
        "'''\n",
        "data = dde.data.TimePDE(geomtime, pde, [bc, ic],\n",
        "                        num_domain=3000, num_boundary=150, num_initial=150)\n"
      ]
    },
    {
      "cell_type": "markdown",
      "id": "2d65f6e6",
      "metadata": {
        "id": "2d65f6e6"
      },
      "source": [
        "O número 2540 é o número de pontos residuais de treinamento amostrados dentro do domínio e o número 80 é o número de pontos de treinamento amostrados na fronteira. Também incluímos 160 pontos residuais iniciais para as condições iniciais."
      ]
    },
    {
      "cell_type": "markdown",
      "id": "6c5fcb80",
      "metadata": {
        "id": "6c5fcb80"
      },
      "source": [
        "A seguir, escolhemos e montamos a arquitetura da rede. Aqui, usamos uma rede neural totalmente conectada de profundidade 4 (ou seja, 3 camadas ocultas) e 20 neurônios:"
      ]
    },
    {
      "cell_type": "code",
      "execution_count": null,
      "id": "23bede79",
      "metadata": {
        "id": "23bede79"
      },
      "outputs": [],
      "source": [
        "'''\n",
        "    [2]: camada de entrada, 2 entradas, espaço e tempo\n",
        "    [20]*3: 3 camadas com 20 neurônios\n",
        "    tanh: função de ativação\n",
        "    glorot normal: inicializador de pesos\n",
        "'''\n",
        "net = dde.nn.FNN([2] + [20] * 3 + [1], \"tanh\", \"Glorot normal\")"
      ]
    },
    {
      "cell_type": "markdown",
      "id": "3eb401c2",
      "metadata": {
        "id": "3eb401c2"
      },
      "source": [
        "Agora temos o problema da EDP e a rede. Construímos um modelo e escolhemos o otimizador e a taxa de aprendizagem:"
      ]
    },
    {
      "cell_type": "code",
      "execution_count": null,
      "id": "54ec7257",
      "metadata": {
        "id": "54ec7257",
        "outputId": "374c2871-21c9-40ae-db5f-7a56f0b0408a",
        "colab": {
          "base_uri": "https://localhost:8080/"
        }
      },
      "outputs": [
        {
          "output_type": "stream",
          "name": "stdout",
          "text": [
            "Compiling model...\n",
            "'compile' took 0.019479 s\n",
            "\n"
          ]
        }
      ],
      "source": [
        "model = dde.Model(data, net) # criação do modelo com data os dados, e net a Rede Neural\n",
        "model.compile(\"adam\", lr=1e-3) # compilação do modelo utilizando o otimizador ADAM, com taxa de aprendizagem lr = 1e-3"
      ]
    },
    {
      "cell_type": "markdown",
      "id": "ce036112",
      "metadata": {
        "id": "ce036112"
      },
      "source": [
        "Em seguida, treinamos o modelo para 10.000 iterações:"
      ]
    },
    {
      "cell_type": "code",
      "execution_count": null,
      "id": "2d990651",
      "metadata": {
        "scrolled": false,
        "id": "2d990651",
        "outputId": "d832a53b-9c3b-4f4a-e7d1-6705475a38c0",
        "colab": {
          "base_uri": "https://localhost:8080/"
        }
      },
      "outputs": [
        {
          "output_type": "stream",
          "name": "stdout",
          "text": [
            "Training model...\n",
            "\n"
          ]
        },
        {
          "output_type": "stream",
          "name": "stderr",
          "text": [
            "/usr/local/lib/python3.10/dist-packages/keras/src/initializers/initializers.py:120: UserWarning: The initializer GlorotNormal is unseeded and being called multiple times, which will return identical values each time (even if the initializer is unseeded). Please update your code to provide a seed to the initializer, or avoid using the same initializer instance more than once.\n",
            "  warnings.warn(\n",
            "WARNING:tensorflow:AutoGraph could not transform <function <lambda> at 0x7c9ba87ffe20> and will run it as-is.\n",
            "Cause: could not parse the source code of <function <lambda> at 0x7c9ba87ffe20>: no matching AST found among candidates:\n",
            "# coding=utf-8\n",
            "lambda x, on: np.array([on_boundary(x[i], on[i]) for i in range(len(x))])\n",
            "To silence this warning, decorate the function with @tf.autograph.experimental.do_not_convert\n"
          ]
        },
        {
          "output_type": "stream",
          "name": "stdout",
          "text": [
            "WARNING: AutoGraph could not transform <function <lambda> at 0x7c9ba87ffe20> and will run it as-is.\n",
            "Cause: could not parse the source code of <function <lambda> at 0x7c9ba87ffe20>: no matching AST found among candidates:\n",
            "# coding=utf-8\n",
            "lambda x, on: np.array([on_boundary(x[i], on[i]) for i in range(len(x))])\n",
            "To silence this warning, decorate the function with @tf.autograph.experimental.do_not_convert\n"
          ]
        },
        {
          "output_type": "stream",
          "name": "stderr",
          "text": [
            "WARNING:tensorflow:AutoGraph could not transform <function <lambda> at 0x7c9b11474ca0> and will run it as-is.\n",
            "Cause: could not parse the source code of <function <lambda> at 0x7c9b11474ca0>: no matching AST found among candidates:\n",
            "# coding=utf-8\n",
            "lambda x, on: np.array([on_boundary(x[i], on[i]) for i in range(len(x))])\n",
            "To silence this warning, decorate the function with @tf.autograph.experimental.do_not_convert\n"
          ]
        },
        {
          "output_type": "stream",
          "name": "stdout",
          "text": [
            "WARNING: AutoGraph could not transform <function <lambda> at 0x7c9b11474ca0> and will run it as-is.\n",
            "Cause: could not parse the source code of <function <lambda> at 0x7c9b11474ca0>: no matching AST found among candidates:\n",
            "# coding=utf-8\n",
            "lambda x, on: np.array([on_boundary(x[i], on[i]) for i in range(len(x))])\n",
            "To silence this warning, decorate the function with @tf.autograph.experimental.do_not_convert\n",
            "Step      Train loss                        Test loss                         Test metric\n",
            "0         [2.97e-01, 1.15e-01, 4.31e-01]    [2.97e-01, 1.15e-01, 4.31e-01]    []  \n",
            "1000      [4.27e-02, 1.62e-03, 5.81e-02]    [4.27e-02, 1.62e-03, 5.81e-02]    []  \n",
            "2000      [3.40e-02, 3.18e-04, 4.47e-02]    [3.40e-02, 3.18e-04, 4.47e-02]    []  \n",
            "3000      [1.65e-02, 1.09e-04, 1.28e-02]    [1.65e-02, 1.09e-04, 1.28e-02]    []  \n",
            "4000      [8.32e-03, 2.58e-05, 4.37e-03]    [8.32e-03, 2.58e-05, 4.37e-03]    []  \n",
            "5000      [5.60e-03, 1.65e-05, 2.90e-03]    [5.60e-03, 1.65e-05, 2.90e-03]    []  \n",
            "6000      [4.20e-03, 1.52e-05, 2.37e-03]    [4.20e-03, 1.52e-05, 2.37e-03]    []  \n",
            "7000      [3.34e-03, 1.49e-05, 1.95e-03]    [3.34e-03, 1.49e-05, 1.95e-03]    []  \n",
            "8000      [2.79e-03, 1.33e-05, 1.59e-03]    [2.79e-03, 1.33e-05, 1.59e-03]    []  \n",
            "9000      [3.11e-03, 3.69e-05, 1.00e-03]    [3.11e-03, 3.69e-05, 1.00e-03]    []  \n",
            "10000     [1.68e-03, 1.04e-05, 7.14e-04]    [1.68e-03, 1.04e-05, 7.14e-04]    []  \n",
            "\n",
            "Best model at step 10000:\n",
            "  train loss: 2.40e-03\n",
            "  test loss: 2.40e-03\n",
            "  test metric: []\n",
            "\n",
            "'train' took 138.239524 s\n",
            "\n"
          ]
        }
      ],
      "source": [
        "'''\n",
        "    losshistory: lista que armazena o histórico de valores da perda.\n",
        "    train_state: informações do treinamento, como iterações, tempo\n",
        "'''\n",
        "losshistory, train_state = model.train(iterations=10000)"
      ]
    },
    {
      "cell_type": "markdown",
      "id": "cd59e4ef",
      "metadata": {
        "id": "cd59e4ef"
      },
      "source": [
        "Depois de treinarmos a rede usando ADAM, continuamos a treinar a rede usando L-BFGS para obter uma perda menor:"
      ]
    },
    {
      "cell_type": "code",
      "execution_count": null,
      "id": "2bcc23ea",
      "metadata": {
        "id": "2bcc23ea",
        "colab": {
          "base_uri": "https://localhost:8080/"
        },
        "outputId": "bd7e3053-5b5b-4ed6-f196-56d2dc180048"
      },
      "outputs": [
        {
          "output_type": "stream",
          "name": "stdout",
          "text": [
            "Compiling model...\n",
            "'compile' took 0.006147 s\n",
            "\n",
            "Training model...\n",
            "\n",
            "10000     [7.54e-05, 2.62e-07, 4.05e-05]    [7.54e-05, 2.62e-07, 4.05e-05]    []  \n",
            "10077     [7.17e-05, 2.42e-07, 3.78e-05]    [7.17e-05, 2.42e-07, 3.78e-05]    []  \n",
            "\n",
            "Best model at step 10077:\n",
            "  train loss: 1.10e-04\n",
            "  test loss: 1.10e-04\n",
            "  test metric: []\n",
            "\n",
            "'train' took 30.497544 s\n",
            "\n"
          ]
        }
      ],
      "source": [
        "model.compile(\"L-BFGS-B\")\n",
        "losshistory, train_state = model.train()"
      ]
    },
    {
      "cell_type": "code",
      "execution_count": null,
      "id": "a590b788",
      "metadata": {
        "id": "a590b788",
        "outputId": "ff8f6f7a-1c96-4a01-a9a6-40dadf05025c",
        "colab": {
          "base_uri": "https://localhost:8080/",
          "height": 900
        }
      },
      "outputs": [
        {
          "output_type": "stream",
          "name": "stdout",
          "text": [
            "Saving loss history to /content/loss.dat ...\n",
            "Saving training data to /content/train.dat ...\n",
            "Saving test data to /content/test.dat ...\n"
          ]
        },
        {
          "output_type": "display_data",
          "data": {
            "text/plain": [
              "<Figure size 640x480 with 1 Axes>"
            ],
            "image/png": "[encoded data removed]"
          },
          "metadata": {}
        },
        {
          "output_type": "display_data",
          "data": {
            "text/plain": [
              "<Figure size 640x480 with 1 Axes>"
            ],
            "image/png": "[encoded data removed]"
          },
          "metadata": {}
        }
      ],
      "source": [
        "dde.saveplot(losshistory, train_state, issave=True, isplot=True)"
      ]
    },
    {
      "cell_type": "code",
      "execution_count": null,
      "id": "abbf5c84",
      "metadata": {
        "id": "abbf5c84"
      },
      "outputs": [],
      "source": [
        "def gen_testdata():\n",
        "    # Carrega os dados do arquivo \"Burgers.npz\" disponível no github do Lu Lu\n",
        "    data = np.load(\"Burgers.npz\")\n",
        "    # Extrai os valores de tempo (t), posição (x) e solução exata (usol)\n",
        "    t, x, exact = data[\"t\"], data[\"x\"], data[\"usol\"].T\n",
        "    # Cria uma grade bidimensional de coordenadas (x, t)\n",
        "    xx, tt = np.meshgrid(x, t)\n",
        "    # Transforma as grades em vetores unidimensionais e empilha-os lado a lado\n",
        "    X = np.vstack((np.ravel(xx), np.ravel(tt))).T\n",
        "    # Transforma a solução exata em um vetor coluna\n",
        "    y = exact.flatten()[:, None]\n",
        "    # Retorna as coordenadas (X) e a solução exata (y)\n",
        "    return X, y"
      ]
    },
    {
      "cell_type": "code",
      "execution_count": null,
      "id": "19a85d49",
      "metadata": {
        "id": "19a85d49",
        "outputId": "dc2f61bc-20a2-4ca5-e59f-93d0762f97ea",
        "colab": {
          "base_uri": "https://localhost:8080/"
        }
      },
      "outputs": [
        {
          "output_type": "stream",
          "name": "stdout",
          "text": [
            "Mean residual: 0.022131935\n",
            "L2 relative error: 0.03538811446237148\n"
          ]
        }
      ],
      "source": [
        "X, y_true = gen_testdata()\n",
        "y_pred = model.predict(X)\n",
        "f = model.predict(X, operator=pde)\n",
        "print(\"Mean residual:\", np.mean(np.absolute(f)))\n",
        "print(\"L2 relative error:\", dde.metrics.l2_relative_error(y_true, y_pred))"
      ]
    },
    {
      "cell_type": "code",
      "execution_count": null,
      "id": "61619e9f",
      "metadata": {
        "id": "61619e9f",
        "outputId": "44151311-5de5-4b9a-ecc4-39b796da204a",
        "colab": {
          "base_uri": "https://localhost:8080/"
        }
      },
      "outputs": [
        {
          "output_type": "execute_result",
          "data": {
            "text/plain": [
              "array([[ 5.4571778e-05],\n",
              "       [ 2.5230352e-02],\n",
              "       [ 5.0417636e-02],\n",
              "       ...,\n",
              "       [-1.0614034e-02],\n",
              "       [-4.0087663e-03],\n",
              "       [ 2.6242770e-03]], dtype=float32)"
            ]
          },
          "metadata": {},
          "execution_count": 30
        }
      ],
      "source": [
        "y_pred"
      ]
    },
    {
      "cell_type": "code",
      "execution_count": null,
      "id": "2667dcb6",
      "metadata": {
        "id": "2667dcb6"
      },
      "outputs": [],
      "source": [
        "import scipy.io as sio\n",
        "y_pred = y_pred.reshape(100,256)\n",
        "sio.savemat('deepxde.mat', {'y_pred':y_pred})"
      ]
    },
    {
      "cell_type": "code",
      "execution_count": null,
      "id": "a1a2b29a",
      "metadata": {
        "id": "a1a2b29a",
        "outputId": "877746d8-6f75-4c07-d62f-8841224367fa",
        "colab": {
          "base_uri": "https://localhost:8080/"
        }
      },
      "outputs": [
        {
          "output_type": "stream",
          "name": "stdout",
          "text": [
            "3.53881145e-02\n"
          ]
        }
      ],
      "source": [
        "import scipy.io\n",
        "\n",
        "# Load MATLAB file\n",
        "mat_data = scipy.io.loadmat('burgers_shock.mat')\n",
        "usol = mat_data['usol']\n",
        "\n",
        "from numpy import linalg as LA\n",
        "\n",
        "norma_fru = LA.norm(y_pred.T-usol, \"fro\") / LA.norm(usol, \"fro\")\n",
        "print(f'{norma_fru:10.8e}')"
      ]
    }
  ],
  "metadata": {
    "kernelspec": {
      "display_name": "Python 3 (ipykernel)",
      "language": "python",
      "name": "python3"
    },
    "language_info": {
      "codemirror_mode": {
        "name": "ipython",
        "version": 3
      },
      "file_extension": ".py",
      "mimetype": "text/x-python",
      "name": "python",
      "nbconvert_exporter": "python",
      "pygments_lexer": "ipython3",
      "version": "3.11.4"
    },
    "colab": {
      "provenance": []
    }
  },
  "nbformat": 4,
  "nbformat_minor": 5
}